{
  "nbformat": 4,
  "nbformat_minor": 0,
  "metadata": {
    "colab": {
      "name": "Dash.ipynb",
      "provenance": [],
      "collapsed_sections": [],
      "toc_visible": true,
      "include_colab_link": true
    },
    "kernelspec": {
      "display_name": "Python 3",
      "language": "python",
      "name": "python3"
    },
    "language_info": {
      "codemirror_mode": {
        "name": "ipython",
        "version": 3
      },
      "file_extension": ".py",
      "mimetype": "text/x-python",
      "name": "python",
      "nbconvert_exporter": "python",
      "pygments_lexer": "ipython3",
      "version": "3.8.3"
    }
  },
  "cells": [
    {
      "cell_type": "markdown",
      "metadata": {
        "id": "view-in-github",
        "colab_type": "text"
      },
      "source": [
        "<a href=\"https://colab.research.google.com/github/dspark0419/DATA-205/blob/main/Dash.ipynb\" target=\"_parent\"><img src=\"https://colab.research.google.com/assets/colab-badge.svg\" alt=\"Open In Colab\"/></a>"
      ]
    },
    {
      "cell_type": "markdown",
      "metadata": {
        "id": "L8vUa9f2ENRs"
      },
      "source": [
        "# **Dash**"
      ]
    },
    {
      "cell_type": "code",
      "metadata": {
        "id": "Fy4gU_-btHqs"
      },
      "source": [
        "import numpy as np\n",
        "import pandas as pd\n",
        "import seaborn as sns\n",
        "import plotly.graph_objects as go\n",
        "import plotly.express as px"
      ],
      "execution_count": 1,
      "outputs": []
    },
    {
      "cell_type": "code",
      "metadata": {
        "colab": {
          "base_uri": "https://localhost:8080/"
        },
        "id": "yAlNInIYbZs2",
        "outputId": "bf96cd4d-d4b8-4ddd-c040-97685196f5c5"
      },
      "source": [
        "!pip install jupyter-dash\n",
        "\n",
        "import plotly.express as px\n",
        "from jupyter_dash import JupyterDash\n",
        "import dash_core_components as dcc\n",
        "import dash_html_components as html\n",
        "from dash.dependencies import Input, Output"
      ],
      "execution_count": 2,
      "outputs": [
        {
          "output_type": "stream",
          "text": [
            "Requirement already satisfied: jupyter-dash in /usr/local/lib/python3.7/dist-packages (0.4.0)\n",
            "Requirement already satisfied: ipython in /usr/local/lib/python3.7/dist-packages (from jupyter-dash) (5.5.0)\n",
            "Requirement already satisfied: dash in /usr/local/lib/python3.7/dist-packages (from jupyter-dash) (1.19.0)\n",
            "Requirement already satisfied: retrying in /usr/local/lib/python3.7/dist-packages (from jupyter-dash) (1.3.3)\n",
            "Requirement already satisfied: requests in /usr/local/lib/python3.7/dist-packages (from jupyter-dash) (2.23.0)\n",
            "Requirement already satisfied: ipykernel in /usr/local/lib/python3.7/dist-packages (from jupyter-dash) (4.10.1)\n",
            "Requirement already satisfied: flask in /usr/local/lib/python3.7/dist-packages (from jupyter-dash) (1.1.2)\n",
            "Requirement already satisfied: ansi2html in /usr/local/lib/python3.7/dist-packages (from jupyter-dash) (1.6.0)\n",
            "Requirement already satisfied: setuptools>=18.5 in /usr/local/lib/python3.7/dist-packages (from ipython->jupyter-dash) (54.2.0)\n",
            "Requirement already satisfied: simplegeneric>0.8 in /usr/local/lib/python3.7/dist-packages (from ipython->jupyter-dash) (0.8.1)\n",
            "Requirement already satisfied: pygments in /usr/local/lib/python3.7/dist-packages (from ipython->jupyter-dash) (2.6.1)\n",
            "Requirement already satisfied: prompt-toolkit<2.0.0,>=1.0.4 in /usr/local/lib/python3.7/dist-packages (from ipython->jupyter-dash) (1.0.18)\n",
            "Requirement already satisfied: traitlets>=4.2 in /usr/local/lib/python3.7/dist-packages (from ipython->jupyter-dash) (5.0.5)\n",
            "Requirement already satisfied: pickleshare in /usr/local/lib/python3.7/dist-packages (from ipython->jupyter-dash) (0.7.5)\n",
            "Requirement already satisfied: decorator in /usr/local/lib/python3.7/dist-packages (from ipython->jupyter-dash) (4.4.2)\n",
            "Requirement already satisfied: pexpect; sys_platform != \"win32\" in /usr/local/lib/python3.7/dist-packages (from ipython->jupyter-dash) (4.8.0)\n",
            "Requirement already satisfied: dash-html-components==1.1.2 in /usr/local/lib/python3.7/dist-packages (from dash->jupyter-dash) (1.1.2)\n",
            "Requirement already satisfied: dash-renderer==1.9.0 in /usr/local/lib/python3.7/dist-packages (from dash->jupyter-dash) (1.9.0)\n",
            "Requirement already satisfied: dash-core-components==1.15.0 in /usr/local/lib/python3.7/dist-packages (from dash->jupyter-dash) (1.15.0)\n",
            "Requirement already satisfied: flask-compress in /usr/local/lib/python3.7/dist-packages (from dash->jupyter-dash) (1.9.0)\n",
            "Requirement already satisfied: dash-table==4.11.2 in /usr/local/lib/python3.7/dist-packages (from dash->jupyter-dash) (4.11.2)\n",
            "Requirement already satisfied: future in /usr/local/lib/python3.7/dist-packages (from dash->jupyter-dash) (0.16.0)\n",
            "Requirement already satisfied: plotly in /usr/local/lib/python3.7/dist-packages (from dash->jupyter-dash) (4.4.1)\n",
            "Requirement already satisfied: six>=1.7.0 in /usr/local/lib/python3.7/dist-packages (from retrying->jupyter-dash) (1.15.0)\n",
            "Requirement already satisfied: urllib3!=1.25.0,!=1.25.1,<1.26,>=1.21.1 in /usr/local/lib/python3.7/dist-packages (from requests->jupyter-dash) (1.24.3)\n",
            "Requirement already satisfied: certifi>=2017.4.17 in /usr/local/lib/python3.7/dist-packages (from requests->jupyter-dash) (2020.12.5)\n",
            "Requirement already satisfied: idna<3,>=2.5 in /usr/local/lib/python3.7/dist-packages (from requests->jupyter-dash) (2.10)\n",
            "Requirement already satisfied: chardet<4,>=3.0.2 in /usr/local/lib/python3.7/dist-packages (from requests->jupyter-dash) (3.0.4)\n",
            "Requirement already satisfied: tornado>=4.0 in /usr/local/lib/python3.7/dist-packages (from ipykernel->jupyter-dash) (5.1.1)\n",
            "Requirement already satisfied: jupyter-client in /usr/local/lib/python3.7/dist-packages (from ipykernel->jupyter-dash) (5.3.5)\n",
            "Requirement already satisfied: itsdangerous>=0.24 in /usr/local/lib/python3.7/dist-packages (from flask->jupyter-dash) (1.1.0)\n",
            "Requirement already satisfied: click>=5.1 in /usr/local/lib/python3.7/dist-packages (from flask->jupyter-dash) (7.1.2)\n",
            "Requirement already satisfied: Jinja2>=2.10.1 in /usr/local/lib/python3.7/dist-packages (from flask->jupyter-dash) (2.11.3)\n",
            "Requirement already satisfied: Werkzeug>=0.15 in /usr/local/lib/python3.7/dist-packages (from flask->jupyter-dash) (1.0.1)\n",
            "Requirement already satisfied: wcwidth in /usr/local/lib/python3.7/dist-packages (from prompt-toolkit<2.0.0,>=1.0.4->ipython->jupyter-dash) (0.2.5)\n",
            "Requirement already satisfied: ipython-genutils in /usr/local/lib/python3.7/dist-packages (from traitlets>=4.2->ipython->jupyter-dash) (0.2.0)\n",
            "Requirement already satisfied: ptyprocess>=0.5 in /usr/local/lib/python3.7/dist-packages (from pexpect; sys_platform != \"win32\"->ipython->jupyter-dash) (0.7.0)\n",
            "Requirement already satisfied: brotli in /usr/local/lib/python3.7/dist-packages (from flask-compress->dash->jupyter-dash) (1.0.9)\n",
            "Requirement already satisfied: jupyter-core>=4.6.0 in /usr/local/lib/python3.7/dist-packages (from jupyter-client->ipykernel->jupyter-dash) (4.7.1)\n",
            "Requirement already satisfied: python-dateutil>=2.1 in /usr/local/lib/python3.7/dist-packages (from jupyter-client->ipykernel->jupyter-dash) (2.8.1)\n",
            "Requirement already satisfied: pyzmq>=13 in /usr/local/lib/python3.7/dist-packages (from jupyter-client->ipykernel->jupyter-dash) (22.0.3)\n",
            "Requirement already satisfied: MarkupSafe>=0.23 in /usr/local/lib/python3.7/dist-packages (from Jinja2>=2.10.1->flask->jupyter-dash) (1.1.1)\n"
          ],
          "name": "stdout"
        }
      ]
    },
    {
      "cell_type": "code",
      "metadata": {
        "colab": {
          "base_uri": "https://localhost:8080/",
          "height": 671
        },
        "id": "fYFUh0b-5uJF",
        "outputId": "da38cff7-dc07-4b42-85c3-bee5e4eec49a"
      },
      "source": [
        "# Load Data\n",
        "df = px.data.tips()\n",
        "# Build App\n",
        "app1 = JupyterDash(__name__)\n",
        "app1.layout = html.Div(\n",
        "    [\n",
        "     html.H1('JupyterDash Demo'),\n",
        "     dcc.Graph(id='demo-graph'),\n",
        "     html.Label(['colorscale',\n",
        "                 dcc.Dropdown(id='colorscale-dropdown',\n",
        "                              clearable=False,\n",
        "                              value='plasma',\n",
        "                              options=[{'label': c, 'value': c} for c in px.colors.named_colorscales()]\n",
        "                              )\n",
        "                 ]),\n",
        "     ])\n",
        "# Define callback to update graph\n",
        "@app1.callback(Output('demo-graph', 'figure'),\n",
        "               [Input('colorscale-dropdown', 'value')]\n",
        "               )\n",
        "def update_figure(colorscale):\n",
        "    return px.scatter(df, x='total_bill', y='tip', color='size',\n",
        "                      color_continuous_scale=colorscale,\n",
        "                      render_mode='webgl', title='Tips'\n",
        "                      )\n",
        "# Run app and display result inline in the notebook\n",
        "app1.run_server(mode='inline') # app.run_server(mode='inline', host=\"0.0.0.0\", port=1005)"
      ],
      "execution_count": 3,
      "outputs": [
        {
          "output_type": "display_data",
          "data": {
            "application/javascript": [
              "(async (port, path, width, height, cache, element) => {\n",
              "    if (!google.colab.kernel.accessAllowed && !cache) {\n",
              "      return;\n",
              "    }\n",
              "    element.appendChild(document.createTextNode(''));\n",
              "    const url = await google.colab.kernel.proxyPort(port, {cache});\n",
              "    const iframe = document.createElement('iframe');\n",
              "    iframe.src = url + path;\n",
              "    iframe.height = height;\n",
              "    iframe.width = width;\n",
              "    iframe.style.border = 0;\n",
              "    element.appendChild(iframe);\n",
              "  })(8050, \"/\", \"100%\", 650, false, window.element)"
            ],
            "text/plain": [
              "<IPython.core.display.Javascript object>"
            ]
          },
          "metadata": {
            "tags": []
          }
        }
      ]
    },
    {
      "cell_type": "code",
      "metadata": {
        "colab": {
          "base_uri": "https://localhost:8080/"
        },
        "id": "UcHY0BsS0Gxe",
        "outputId": "a0bac6e8-fb83-478b-a889-e6e675b93e19"
      },
      "source": [
        "mpg = sns.load_dataset('mpg')\n",
        "mpg.info()"
      ],
      "execution_count": 4,
      "outputs": [
        {
          "output_type": "stream",
          "text": [
            "<class 'pandas.core.frame.DataFrame'>\n",
            "RangeIndex: 398 entries, 0 to 397\n",
            "Data columns (total 9 columns):\n",
            " #   Column        Non-Null Count  Dtype  \n",
            "---  ------        --------------  -----  \n",
            " 0   mpg           398 non-null    float64\n",
            " 1   cylinders     398 non-null    int64  \n",
            " 2   displacement  398 non-null    float64\n",
            " 3   horsepower    392 non-null    float64\n",
            " 4   weight        398 non-null    int64  \n",
            " 5   acceleration  398 non-null    float64\n",
            " 6   model_year    398 non-null    int64  \n",
            " 7   origin        398 non-null    object \n",
            " 8   name          398 non-null    object \n",
            "dtypes: float64(4), int64(3), object(2)\n",
            "memory usage: 28.1+ KB\n"
          ],
          "name": "stdout"
        }
      ]
    },
    {
      "cell_type": "markdown",
      "metadata": {
        "id": "aDH5wyMOtN_J"
      },
      "source": [
        "## **Layout**\n",
        "\n",
        "html  \n",
        "dcc.Dropdown (RadioItems, Checklist, Input, Slider)  \n",
        "dcc.Graph"
      ]
    },
    {
      "cell_type": "code",
      "metadata": {
        "colab": {
          "base_uri": "https://localhost:8080/",
          "height": 51
        },
        "id": "FHp4J6YutAZr",
        "outputId": "78e8daea-ee1e-4463-e624-7308eb257037"
      },
      "source": [
        "fig2 = px.scatter(mpg, x='weight', y='mpg', size='cylinders', color='origin', hover_name='model_year')\n",
        "\n",
        "fig2.update_layout(plot_bgcolor='gray', paper_bgcolor='black', font_color='blue')\n",
        "\n",
        "app2 = JupyterDash(__name__)\n",
        "\n",
        "markdown_text = '''\n",
        "### Dash Markdown\n",
        "\n",
        "Dash apps can be written in Markdown.\n",
        "Dash uses the [CommonMark](http://commonmark.org/)\n",
        "specification of Markdown.\n",
        "'''\n",
        "app2.layout = html.Div(\n",
        "    [\n",
        "     html.H1('Hello Dash!', style={'textAlign': 'center', 'color': 'blue'}),\n",
        "     html.H3('Dash Practice for Python', style={'textAlign': 'center', 'fontWeight': 'bold'}),\n",
        "     \n",
        "     html.Div(\n",
        "         [\n",
        "          html.Label(['Dropdown',\n",
        "                      dcc.Dropdown(options=[{'label': 'MPG', 'value': 'mpg'},\n",
        "                                            {'label': 'Origin', 'value': 'origin'}],\n",
        "                                   placeholder='Select One'\n",
        "                                   ),\n",
        "                      ]),\n",
        "          ],\n",
        "          style={'width': '48%', 'display': 'inline-block'}\n",
        "          ),\n",
        "     \n",
        "     html.Div(\n",
        "         [\n",
        "          html.Label(['CheckBoxes',\n",
        "                      dcc.Checklist(options=[{'label': 'USA', 'value': 'usa'},\n",
        "                                             {'label': 'Japan', 'value': 'japan'},\n",
        "                                             {'label': 'EU', 'value': 'europe'}],\n",
        "                                    value=['usa', 'europe']\n",
        "                                    ),\n",
        "                      ]),\n",
        "          ],\n",
        "          style={'width': '48%', 'float': 'right', 'display': 'inline-block'}\n",
        "          ),\n",
        "     \n",
        "     dcc.Graph(id='example-graph',\n",
        "               figure=fig2 # or input the fig here directly\n",
        "               ),\n",
        "     \n",
        "     dcc.Markdown(markdown_text)\n",
        "     ])\n",
        "\n",
        "if __name__ == '__main__':\n",
        "  app2.run_server(debug=True)"
      ],
      "execution_count": 5,
      "outputs": [
        {
          "output_type": "stream",
          "text": [
            "Dash app running on:\n"
          ],
          "name": "stdout"
        },
        {
          "output_type": "display_data",
          "data": {
            "application/javascript": [
              "(async (port, path, text, element) => {\n",
              "    if (!google.colab.kernel.accessAllowed) {\n",
              "      return;\n",
              "    }\n",
              "    element.appendChild(document.createTextNode(''));\n",
              "    const url = await google.colab.kernel.proxyPort(port);\n",
              "    const anchor = document.createElement('a');\n",
              "    anchor.href = url + path;\n",
              "    anchor.target = '_blank';\n",
              "    anchor.setAttribute('data-href', url + path);\n",
              "    anchor.textContent = text;\n",
              "    element.appendChild(anchor);\n",
              "  })(8050, \"/\", \"http://127.0.0.1:8050/\", window.element)"
            ],
            "text/plain": [
              "<IPython.core.display.Javascript object>"
            ]
          },
          "metadata": {
            "tags": []
          }
        }
      ]
    },
    {
      "cell_type": "markdown",
      "metadata": {
        "id": "ro5KS_p63Umc"
      },
      "source": [
        "## **Callbacks**"
      ]
    },
    {
      "cell_type": "markdown",
      "metadata": {
        "id": "HP3fmR6L3u_n"
      },
      "source": [
        "Single Input"
      ]
    },
    {
      "cell_type": "code",
      "metadata": {
        "colab": {
          "base_uri": "https://localhost:8080/",
          "height": 51
        },
        "id": "_764BFGC3870",
        "outputId": "fbaf3b8e-faab-4055-e640-beff88caa5bd"
      },
      "source": [
        "app3 = JupyterDash(__name__)\n",
        "\n",
        "app3.layout = html.Div(\n",
        "    [\n",
        "     html.H1('Hello Dash!', style={'textAlign': 'center', 'color': 'blue'}),\n",
        "     html.H3('Dash Practice for Python', style={'textAlign': 'center', 'fontWeight': 'bold'}),\n",
        "     \n",
        "     dcc.Graph(id='mpg-year'),\n",
        "     \n",
        "     html.Label([\n",
        "                 'Slide for a Year',\n",
        "                 dcc.Slider(id='model-year',\n",
        "                            min=mpg['model_year'].min(),\n",
        "                            max=mpg['model_year'].max(),\n",
        "                            value=mpg['model_year'].min(),\n",
        "                            marks={str(year): str(year) for year in mpg['model_year'].unique()},\n",
        "                            step=None\n",
        "                            ),\n",
        "                 ]),\n",
        "     ])\n",
        "                        \n",
        "@app3.callback(Output('mpg-year', 'figure'),\n",
        "               Input('model-year', 'value')\n",
        "               )\n",
        "\n",
        "def update_figure(year_value):\n",
        "  mpg_year = mpg[mpg['model_year'] == year_value]\n",
        "  fig3 = px.scatter(mpg_year, x='weight', y='mpg', size='cylinders', color='origin', hover_name='model_year')\n",
        "  fig3.update_layout(transition_duration=1000, margin=dict(l=20, r=20, t=20, b=20))\n",
        " \n",
        "  return fig3\n",
        "\n",
        "if __name__ == '__main__':\n",
        "  app3.run_server(debug=True)"
      ],
      "execution_count": 6,
      "outputs": [
        {
          "output_type": "stream",
          "text": [
            "Dash app running on:\n"
          ],
          "name": "stdout"
        },
        {
          "output_type": "display_data",
          "data": {
            "application/javascript": [
              "(async (port, path, text, element) => {\n",
              "    if (!google.colab.kernel.accessAllowed) {\n",
              "      return;\n",
              "    }\n",
              "    element.appendChild(document.createTextNode(''));\n",
              "    const url = await google.colab.kernel.proxyPort(port);\n",
              "    const anchor = document.createElement('a');\n",
              "    anchor.href = url + path;\n",
              "    anchor.target = '_blank';\n",
              "    anchor.setAttribute('data-href', url + path);\n",
              "    anchor.textContent = text;\n",
              "    element.appendChild(anchor);\n",
              "  })(8050, \"/\", \"http://127.0.0.1:8050/\", window.element)"
            ],
            "text/plain": [
              "<IPython.core.display.Javascript object>"
            ]
          },
          "metadata": {
            "tags": []
          }
        }
      ]
    },
    {
      "cell_type": "markdown",
      "metadata": {
        "id": "v8X06v2m36QH"
      },
      "source": [
        "Multiple Inputs"
      ]
    },
    {
      "cell_type": "code",
      "metadata": {
        "colab": {
          "base_uri": "https://localhost:8080/",
          "height": 51
        },
        "id": "9HCzjSpbp6Q6",
        "outputId": "2eb2964a-1033-426c-8af4-bf7eb03e0aae"
      },
      "source": [
        "col_sel = np.array(['mpg', 'horsepower', 'weight', 'acceleration'])\n",
        "\n",
        "app4 = JupyterDash(__name__)\n",
        "\n",
        "app4.layout = html.Div(\n",
        "    [\n",
        "     html.H1('MPG Data (1970 ~ 1982)', style={'textAlign': 'center', 'color': 'blue', 'backgroundColor': 'black'}),\n",
        "     \n",
        "     html.Div(\n",
        "         [\n",
        "          html.Label(['X-axis',\n",
        "                      dcc.Dropdown(id='x-axis',\n",
        "                                   options=[{'label': i, 'value': i} for i in col_sel],\n",
        "                                   value='weight',\n",
        "                                   ),\n",
        "                      ]),\n",
        "          html.Label(['Y-axis',\n",
        "                      dcc.Dropdown(id='y-axis',\n",
        "                                   options=[{'label': i, 'value': i} for i in col_sel],\n",
        "                                   value='mpg',\n",
        "                                   ),\n",
        "                      ]),\n",
        "          ],\n",
        "          style={'width': '45%', 'display': 'inline-block'},\n",
        "          ),\n",
        "\n",
        "  html.Div(\n",
        "      [\n",
        "       html.Label(['Origin',\n",
        "                   dcc.Checklist(id='origin',\n",
        "                                 options=[{'label': 'USA', 'value': 'usa'},\n",
        "                                          {'label': 'Japan', 'value': 'japan'},\n",
        "                                          {'label': 'EU', 'value': 'europe'}],\n",
        "                                 value=['usa', 'japan', 'europe']\n",
        "                                 ),\n",
        "                   ]),\n",
        "       ],\n",
        "       style={'width': '40%', 'float': 'right', 'display': 'inline-block'},\n",
        "       ),\n",
        "\n",
        "  dcc.Graph(id='mpg-graph'),\n",
        "  \n",
        "  html.Label(['Slide for a Year',\n",
        "              dcc.Slider(id='model-year',\n",
        "                         min=mpg['model_year'].min(),\n",
        "                         max=mpg['model_year'].max(),\n",
        "                         value=mpg['model_year'].min(),\n",
        "                         marks={str(year): str(year) for year in mpg['model_year'].unique()},\n",
        "                         step=None\n",
        "                         ),\n",
        "              ]),\n",
        "     ])\n",
        "                        \n",
        "@app4.callback(Output('mpg-graph', 'figure'),\n",
        "               [Input('x-axis', 'value'),\n",
        "                Input('y-axis', 'value'),\n",
        "                Input('origin', 'value'),\n",
        "                Input('model-year', 'value')]\n",
        "               )\n",
        "\n",
        "def update_figure(x_axis_value, y_axis_value, origin_value, year_value):\n",
        "  mpg_year = mpg[(mpg['model_year'] == year_value) & (mpg['origin'].isin(origin_value))]\n",
        "  fig4 = px.scatter(mpg_year, x=x_axis_value, y=y_axis_value,\n",
        "                    size='cylinders', color='origin', hover_name='model_year')\n",
        "  fig4.update_layout(transition_duration=1000)\n",
        "  return fig4\n",
        "\n",
        "if __name__ == '__main__':\n",
        "  app4.run_server(debug=True)"
      ],
      "execution_count": 7,
      "outputs": [
        {
          "output_type": "stream",
          "text": [
            "Dash app running on:\n"
          ],
          "name": "stdout"
        },
        {
          "output_type": "display_data",
          "data": {
            "application/javascript": [
              "(async (port, path, text, element) => {\n",
              "    if (!google.colab.kernel.accessAllowed) {\n",
              "      return;\n",
              "    }\n",
              "    element.appendChild(document.createTextNode(''));\n",
              "    const url = await google.colab.kernel.proxyPort(port);\n",
              "    const anchor = document.createElement('a');\n",
              "    anchor.href = url + path;\n",
              "    anchor.target = '_blank';\n",
              "    anchor.setAttribute('data-href', url + path);\n",
              "    anchor.textContent = text;\n",
              "    element.appendChild(anchor);\n",
              "  })(8050, \"/\", \"http://127.0.0.1:8050/\", window.element)"
            ],
            "text/plain": [
              "<IPython.core.display.Javascript object>"
            ]
          },
          "metadata": {
            "tags": []
          }
        }
      ]
    },
    {
      "cell_type": "markdown",
      "metadata": {
        "id": "EShENnsbhUPK"
      },
      "source": [
        "Multiple Inputs and Outputs"
      ]
    },
    {
      "cell_type": "code",
      "metadata": {
        "colab": {
          "base_uri": "https://localhost:8080/",
          "height": 51
        },
        "id": "GhU7RogWoGVD",
        "outputId": "9e6bffa6-3530-4979-812d-ead2d22c2292"
      },
      "source": [
        "num_col_sel = np.array(['mpg', 'horsepower', 'weight', 'acceleration'])\n",
        "cat_col_sel = np.array(['cylinders', 'origin'])\n",
        "\n",
        "app5 = JupyterDash(__name__)\n",
        "\n",
        "app5.layout = html.Div(\n",
        "    [\n",
        "     html.H1('MPG Data (1970 ~ 1982)', style={'textAlign': 'center', 'color': 'blue', 'backgroundColor': 'black'}),\n",
        "     \n",
        "     html.Div(\n",
        "         [\n",
        "          html.Div(\n",
        "              [\n",
        "               html.Label(['X-axis',\n",
        "                           dcc.Dropdown(id='x-axis',\n",
        "                                        options=[{'label': i, 'value': i} for i in num_col_sel],\n",
        "                                        value='weight',\n",
        "                                        ),\n",
        "                           ]),\n",
        "               html.Label(['Y-axis',\n",
        "                           dcc.Dropdown(id='y-axis',\n",
        "                                        options=[{'label': i, 'value': i} for i in num_col_sel],\n",
        "                                        value='mpg',\n",
        "                                        ),\n",
        "                           ]),\n",
        "               ],\n",
        "               style={'width': '50%', 'display': 'inline-block'}\n",
        "               ),\n",
        "          \n",
        "          dcc.Graph(id='mpg-scatter'),\n",
        "          \n",
        "          html.Div(\n",
        "              [\n",
        "               html.Label(['Slide for a Year',\n",
        "                           dcc.Slider(id='model-year',\n",
        "                                      min=mpg['model_year'].min(),\n",
        "                                      max=mpg['model_year'].max(),\n",
        "                                      value=mpg['model_year'].min(),\n",
        "                                      marks={str(year): str(year) for year in mpg['model_year'].unique()},\n",
        "                                      step=None\n",
        "                                      ),\n",
        "                           ]),\n",
        "               ],\n",
        "               style={'width': '80%', 'display': 'inline-block'}\n",
        "               ),\n",
        "          ],\n",
        "          style={'width': '45%', 'display': 'inline-block', 'margin-left': '3em'},\n",
        "          ),\n",
        "     \n",
        "     html.Div(\n",
        "         [\n",
        "          html.Div(\n",
        "              [\n",
        "               html.Label(['Bar Graph',\n",
        "                           dcc.RadioItems(id='bar-graph',\n",
        "                                          options=[{'label': i, 'value': i} for i in cat_col_sel],\n",
        "                                          value='origin',\n",
        "                                          ),\n",
        "                           ]),\n",
        "               ],\n",
        "               style={'width': '50%', 'display': 'inline-block'}\n",
        "               ),\n",
        "          \n",
        "          dcc.Graph(id='mpg-bar'),\n",
        "          ],\n",
        "          style={'float': 'right', 'width': '45%', 'display': 'inline-block',\n",
        "                 'margin-top': '4.5em', 'margin-right': '3em'},\n",
        "          ),\n",
        "     ])\n",
        "                        \n",
        "@app5.callback([Output('mpg-scatter', 'figure'),\n",
        "                Output('mpg-bar', 'figure')],\n",
        "               [Input('x-axis', 'value'),\n",
        "                Input('y-axis', 'value'),\n",
        "                Input('model-year', 'value'),\n",
        "                Input('bar-graph', 'value')]\n",
        "               )\n",
        "\n",
        "def update_figure(x_axis_value, y_axis_value, year_value, cat_value):\n",
        "  mpg_year = mpg[mpg['model_year'] == year_value]\n",
        "  fig5_1 = px.scatter(mpg_year, x=x_axis_value, y=y_axis_value,\n",
        "                    size='cylinders', color='origin', hover_name='model_year')\n",
        "  fig5_1.update_layout(transition_duration=1000, height=350, margin=dict(l=20, r=20, t=20, b=20))\n",
        "\n",
        "  fig5_2 = px.bar(mpg, x=cat_value, hover_name='model_year')\n",
        "  fig5_2.update_layout(height=350, margin=dict(l=20, r=20, t=20, b=10))\n",
        "\n",
        "  return fig5_1, fig5_2\n",
        "\n",
        "if __name__ == '__main__':\n",
        "  app5.run_server(debug=True)"
      ],
      "execution_count": 8,
      "outputs": [
        {
          "output_type": "stream",
          "text": [
            "Dash app running on:\n"
          ],
          "name": "stdout"
        },
        {
          "output_type": "display_data",
          "data": {
            "application/javascript": [
              "(async (port, path, text, element) => {\n",
              "    if (!google.colab.kernel.accessAllowed) {\n",
              "      return;\n",
              "    }\n",
              "    element.appendChild(document.createTextNode(''));\n",
              "    const url = await google.colab.kernel.proxyPort(port);\n",
              "    const anchor = document.createElement('a');\n",
              "    anchor.href = url + path;\n",
              "    anchor.target = '_blank';\n",
              "    anchor.setAttribute('data-href', url + path);\n",
              "    anchor.textContent = text;\n",
              "    element.appendChild(anchor);\n",
              "  })(8050, \"/\", \"http://127.0.0.1:8050/\", window.element)"
            ],
            "text/plain": [
              "<IPython.core.display.Javascript object>"
            ]
          },
          "metadata": {
            "tags": []
          }
        }
      ]
    },
    {
      "cell_type": "markdown",
      "metadata": {
        "id": "4plF2_fTx8zi"
      },
      "source": [
        "Same as above, but a little change in 2 Dropdowns and RadioItems and adding colors/bold"
      ]
    },
    {
      "cell_type": "code",
      "metadata": {
        "colab": {
          "base_uri": "https://localhost:8080/",
          "height": 51
        },
        "id": "4BW_wu4xvov0",
        "outputId": "73e7059b-8322-47ae-cd7e-f60c9b1665a9"
      },
      "source": [
        "num_col_sel = np.array(['mpg', 'horsepower', 'weight', 'acceleration'])\n",
        "cat_col_sel = np.array(['cylinders', 'origin'])\n",
        "\n",
        "app6 = JupyterDash(__name__)\n",
        "\n",
        "app6.layout = html.Div(\n",
        "    [\n",
        "     html.H1('MPG Data (1970 ~ 1982)', style={'textAlign': 'center', 'color': 'blue', 'backgroundColor': 'black'}),\n",
        "     \n",
        "     html.Div(\n",
        "         [\n",
        "          html.Div(\n",
        "              [\n",
        "               html.Label(['X-axis',\n",
        "                           dcc.Dropdown(id='x-axis',\n",
        "                                        options=[{'label': i, 'value': i} for i in num_col_sel],\n",
        "                                        value='weight',\n",
        "                                        ),\n",
        "                           ]),\n",
        "              ],\n",
        "              style={'width': '40%', 'display': 'inline-block', 'color': 'blue', 'fontWeight': 'bold'}\n",
        "              ),\n",
        "          \n",
        "          html.Div(\n",
        "              [\n",
        "               html.Label(['Y-axis',\n",
        "                           dcc.Dropdown(id='y-axis',\n",
        "                                        options=[{'label': i, 'value': i} for i in num_col_sel],\n",
        "                                        value='mpg',\n",
        "                                        ),\n",
        "                           ]),\n",
        "               ],\n",
        "               style={'float': 'right', 'width': '40%', 'display': 'inline-block',\n",
        "                      'margin-right': '5em', 'fontWeight': 'bold'}\n",
        "               ),\n",
        "          \n",
        "          dcc.Graph(id='mpg-scatter'),\n",
        "          \n",
        "          html.Div(\n",
        "              [\n",
        "               html.Label(['Slide for a Year',\n",
        "                           dcc.Slider(id='model-year',\n",
        "                                      min=mpg['model_year'].min(),\n",
        "                                      max=mpg['model_year'].max(),\n",
        "                                      value=mpg['model_year'].min(),\n",
        "                                      marks={str(year): str(year) for year in mpg['model_year'].unique()},\n",
        "                                      step=None,\n",
        "                                      ),\n",
        "                           ]),\n",
        "               ],\n",
        "               style={'width': '80%', 'display': 'inline-block', 'fontWeight': 'bold', 'color': 'blue'}\n",
        "               ),\n",
        "          ],\n",
        "          style={'width': '45%', 'display': 'inline-block', 'margin-left': '3em'},\n",
        "          ),\n",
        "     \n",
        "     html.Div(\n",
        "         [\n",
        "          html.Div(\n",
        "              [\n",
        "               html.Label(['Bar Graph',\n",
        "                           dcc.RadioItems(id='bar-graph',\n",
        "                                          options=[{'label': i, 'value': i} for i in cat_col_sel],\n",
        "                                          value='origin',\n",
        "                                          style={'margin-top': '0.8em'},\n",
        "                                          ),\n",
        "                           ]),\n",
        "               ],\n",
        "               style={'width': '50%', 'display': 'inline-block', 'color': 'green', 'fontWeight': 'bold'}\n",
        "               ),\n",
        "          \n",
        "          dcc.Graph(id='mpg-bar'),\n",
        "          ],\n",
        "          style={'float': 'right', 'width': '45%', 'display': 'inline-block',\n",
        "                 'margin-right': '3em'},\n",
        "          ),\n",
        "     ])\n",
        "                        \n",
        "@app6.callback([Output('mpg-scatter', 'figure'),\n",
        "                Output('mpg-bar', 'figure')],\n",
        "               [Input('x-axis', 'value'),\n",
        "                Input('y-axis', 'value'),\n",
        "                Input('model-year', 'value'),\n",
        "                Input('bar-graph', 'value')]\n",
        "               )\n",
        "\n",
        "def update_figure(x_axis_value, y_axis_value, year_value, cat_value):\n",
        "  mpg_year = mpg[mpg['model_year'] == year_value]\n",
        "  fig6_1 = px.scatter(mpg_year, x=x_axis_value, y=y_axis_value,\n",
        "                    size='cylinders', color='origin', hover_name='model_year')\n",
        "  fig6_1.update_layout(transition_duration=1000, height=350, margin=dict(l=20, r=20, t=20, b=20))\n",
        "\n",
        "  fig6_2 = px.bar(mpg, x=cat_value, hover_name='model_year')\n",
        "  fig6_2.update_layout(height=350, margin=dict(l=20, r=20, t=20, b=20))\n",
        "\n",
        "  return fig6_1, fig6_2\n",
        "\n",
        "if __name__ == '__main__':\n",
        "  app6.run_server(debug=True)"
      ],
      "execution_count": 10,
      "outputs": [
        {
          "output_type": "stream",
          "text": [
            "Dash app running on:\n"
          ],
          "name": "stdout"
        },
        {
          "output_type": "display_data",
          "data": {
            "application/javascript": [
              "(async (port, path, text, element) => {\n",
              "    if (!google.colab.kernel.accessAllowed) {\n",
              "      return;\n",
              "    }\n",
              "    element.appendChild(document.createTextNode(''));\n",
              "    const url = await google.colab.kernel.proxyPort(port);\n",
              "    const anchor = document.createElement('a');\n",
              "    anchor.href = url + path;\n",
              "    anchor.target = '_blank';\n",
              "    anchor.setAttribute('data-href', url + path);\n",
              "    anchor.textContent = text;\n",
              "    element.appendChild(anchor);\n",
              "  })(8050, \"/\", \"http://127.0.0.1:8050/\", window.element)"
            ],
            "text/plain": [
              "<IPython.core.display.Javascript object>"
            ]
          },
          "metadata": {
            "tags": []
          }
        }
      ]
    },
    {
      "cell_type": "markdown",
      "metadata": {
        "id": "Dk4eKF_oa-wo"
      },
      "source": [
        "## **Update Graphs on Hover**"
      ]
    },
    {
      "cell_type": "code",
      "metadata": {
        "colab": {
          "base_uri": "https://localhost:8080/",
          "height": 51
        },
        "id": "6D-CoEkviICR",
        "outputId": "792ef415-12c0-4ada-b046-9a6e79b4f696"
      },
      "source": [
        "num_col_sel = np.array(['mpg', 'horsepower', 'weight', 'acceleration'])\n",
        "cat_col_sel = np.array(['cylinders', 'origin'])\n",
        "\n",
        "app7 = JupyterDash(__name__)\n",
        "\n",
        "app7.layout = html.Div(\n",
        "    [\n",
        "     html.H1('MPG Data (1970 ~ 1982)', style={'textAlign': 'center', 'color': 'blue', 'backgroundColor': 'black'}),\n",
        "     \n",
        "     html.Div(\n",
        "         [\n",
        "          html.Div(\n",
        "              [\n",
        "               html.Label(['X-axis',\n",
        "                           dcc.Dropdown(id='x-axis',\n",
        "                                        options=[{'label': i, 'value': i} for i in num_col_sel],\n",
        "                                        value='weight',\n",
        "                                        ),\n",
        "                           ]),\n",
        "              ],\n",
        "              style={'width': '40%', 'display': 'inline-block', 'color': 'blue', 'fontWeight': 'bold'}\n",
        "              ),\n",
        "          \n",
        "          html.Div(\n",
        "              [\n",
        "               html.Label(['Y-axis',\n",
        "                           dcc.Dropdown(id='y-axis',\n",
        "                                        options=[{'label': i, 'value': i} for i in num_col_sel],\n",
        "                                        value='mpg',\n",
        "                                        ),\n",
        "                           ]),\n",
        "               ],\n",
        "               style={'float': 'right', 'width': '40%', 'display': 'inline-block',\n",
        "                      'margin-right': '5em', 'fontWeight': 'bold'}\n",
        "               ),\n",
        "          \n",
        "          dcc.Graph(id='mpg-scatter'),\n",
        "          \n",
        "          html.Div(\n",
        "              [\n",
        "               html.Label(['Slide for a Year',\n",
        "                           dcc.Slider(id='model-year',\n",
        "                                      min=mpg['model_year'].min(),\n",
        "                                      max=mpg['model_year'].max(),\n",
        "                                      value=mpg['model_year'].min(),\n",
        "                                      marks={str(year): str(year) for year in mpg['model_year'].unique()},\n",
        "                                      step=None,\n",
        "                                      ),\n",
        "                           ]),\n",
        "               ],\n",
        "               style={'width': '80%', 'display': 'inline-block', 'fontWeight': 'bold', 'color': 'blue'}\n",
        "               ),\n",
        "          ],\n",
        "          style={'width': '45%', 'display': 'inline-block', 'margin-left': '3em'},\n",
        "          ),\n",
        "     \n",
        "     html.Div(\n",
        "         [\n",
        "          # html.Div(\n",
        "          #     [\n",
        "          #      html.Label(['Histogram',\n",
        "          #                  dcc.RadioItems(id='histogram-graph',\n",
        "          #                                 options=[{'label': i, 'value': i} for i in cat_col_sel],\n",
        "          #                                 value='origin',\n",
        "          #                                 style={'margin-top': '0.8em'},\n",
        "          #                                 ),\n",
        "          #                  ]),\n",
        "          #      ],\n",
        "          #      style={'width': '50%', 'display': 'inline-block', 'color': 'green', 'fontWeight': 'bold'}\n",
        "          #      ),\n",
        "          \n",
        "          dcc.Graph(id='mpg-histogram'),\n",
        "          ],\n",
        "          style={'float': 'right', 'width': '45%', 'display': 'inline-block',\n",
        "                 'margin-right': '3em'},\n",
        "          ),\n",
        "     ])\n",
        "                        \n",
        "@app7.callback(Output('mpg-scatter', 'figure'),\n",
        "               [Input('x-axis', 'value'),\n",
        "                Input('y-axis', 'value'),\n",
        "                Input('model-year', 'value')]\n",
        "               )\n",
        "\n",
        "def update_figure(x_axis_value, y_axis_value, year_value):\n",
        "  mpg_year = mpg[mpg['model_year'] == year_value]\n",
        "\n",
        "  fig7_1 = px.scatter(mpg_year, x=x_axis_value, y=y_axis_value,\n",
        "                      color='origin', hover_name='model_year',  custom_data=['origin', 'model_year'])\n",
        "  fig7_1.update_layout(transition_duration=1000, height=350, margin=dict(l=20, r=20, t=20, b=20))\n",
        "\n",
        "  return fig7_1\n",
        "\n",
        "@app7.callback(Output('mpg-histogram', 'figure'),\n",
        "               [Input('mpg-scatter', 'hoverData'),\n",
        "                #Input('x-axis', 'value'),\n",
        "                #Input('y-axis', 'value'),\n",
        "                Input('model-year', 'value')]\n",
        "               )\n",
        "\n",
        "def update_figure(hover_data, year_value):\n",
        "  if hover_data is None:\n",
        "    mpg_70 = mpg[mpg['model_year'] == 70]\n",
        "    fig7_2 = px.histogram(mpg_70, x='mpg', nbins=15, histnorm='percent')\n",
        "    return fig7_2\n",
        "\n",
        "  else:\n",
        "    print(f'hover data: {hover_data}')\n",
        "    mpg_year_origin = mpg[(mpg['model_year'] == year_value) & (mpg['origin'] == 'usa')] #hover_data[points][6]\n",
        "    # want to update the histogram below dynamically according to the origin from the hover data\n",
        "    fig7_2 = px.histogram(mpg_year_origin, x='mpg', nbins=15, histnorm='percent')\n",
        "    return fig7_2\n",
        "\n",
        "if __name__ == '__main__':\n",
        "  app7.run_server(debug=True) #mode='inline'"
      ],
      "execution_count": 11,
      "outputs": [
        {
          "output_type": "stream",
          "text": [
            "Dash app running on:\n"
          ],
          "name": "stdout"
        },
        {
          "output_type": "display_data",
          "data": {
            "application/javascript": [
              "(async (port, path, text, element) => {\n",
              "    if (!google.colab.kernel.accessAllowed) {\n",
              "      return;\n",
              "    }\n",
              "    element.appendChild(document.createTextNode(''));\n",
              "    const url = await google.colab.kernel.proxyPort(port);\n",
              "    const anchor = document.createElement('a');\n",
              "    anchor.href = url + path;\n",
              "    anchor.target = '_blank';\n",
              "    anchor.setAttribute('data-href', url + path);\n",
              "    anchor.textContent = text;\n",
              "    element.appendChild(anchor);\n",
              "  })(8050, \"/\", \"http://127.0.0.1:8050/\", window.element)"
            ],
            "text/plain": [
              "<IPython.core.display.Javascript object>"
            ]
          },
          "metadata": {
            "tags": []
          }
        }
      ]
    },
    {
      "cell_type": "code",
      "metadata": {
        "id": "CbyTO1lmh1GQ"
      },
      "source": [
        ""
      ],
      "execution_count": null,
      "outputs": []
    }
  ]
}