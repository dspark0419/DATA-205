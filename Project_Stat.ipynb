{
  "nbformat": 4,
  "nbformat_minor": 0,
  "metadata": {
    "colab": {
      "name": "Project_Stat.ipynb",
      "provenance": [],
      "collapsed_sections": [
        "4tqbjohgOefi"
      ],
      "toc_visible": true,
      "mount_file_id": "1Ms3bYftlJloqVD81MqvyQ1bwi0rqIxdE",
      "authorship_tag": "ABX9TyOWRqMwv8opoaBqvZTpxbYL",
      "include_colab_link": true
    },
    "kernelspec": {
      "display_name": "Python 3",
      "language": "python",
      "name": "python3"
    },
    "language_info": {
      "codemirror_mode": {
        "name": "ipython",
        "version": 3
      },
      "file_extension": ".py",
      "mimetype": "text/x-python",
      "name": "python",
      "nbconvert_exporter": "python",
      "pygments_lexer": "ipython3",
      "version": "3.8.3"
    }
  },
  "cells": [
    {
      "cell_type": "markdown",
      "metadata": {
        "id": "view-in-github",
        "colab_type": "text"
      },
      "source": [
        "<a href=\"https://colab.research.google.com/github/dspark0419/DATA-205/blob/main/Project_Stat.ipynb\" target=\"_parent\"><img src=\"https://colab.research.google.com/assets/colab-badge.svg\" alt=\"Open In Colab\"/></a>"
      ]
    },
    {
      "cell_type": "markdown",
      "metadata": {
        "id": "E2osGK3qeLBL"
      },
      "source": [
        "# **Import/Upgrade Libraries**"
      ]
    },
    {
      "cell_type": "code",
      "metadata": {
        "colab": {
          "base_uri": "https://localhost:8080/"
        },
        "id": "6aF_02hbIkuJ",
        "outputId": "df721c7e-6a82-4519-858f-9d87d61f6abb"
      },
      "source": [
        "!python --version"
      ],
      "execution_count": null,
      "outputs": [
        {
          "output_type": "stream",
          "text": [
            "Python 3.7.10\n"
          ],
          "name": "stdout"
        }
      ]
    },
    {
      "cell_type": "code",
      "metadata": {
        "id": "_kfm_hvtF7Ue"
      },
      "source": [
        "# hide outputs\n",
        "%%capture\n",
        "!pip install --upgrade numpy\n",
        "!pip install --upgrade pandas\n",
        "!pip install --upgrade matplotlib\n",
        "!pip install --upgrade seaborn\n",
        "!pip install --upgrade scipy\n",
        "!pip install --upgrade math"
      ],
      "execution_count": null,
      "outputs": []
    },
    {
      "cell_type": "code",
      "metadata": {
        "id": "YZdFabAmFuRY"
      },
      "source": [
        "import numpy as np\n",
        "import pandas as pd\n",
        "import matplotlib.pyplot as plt\n",
        "import seaborn as sns\n",
        "from scipy import stats\n",
        "from scipy import random\n",
        "from math import sqrt"
      ],
      "execution_count": null,
      "outputs": []
    },
    {
      "cell_type": "markdown",
      "metadata": {
        "id": "5y7SPSiMUrEZ"
      },
      "source": [
        "# **MC Census Data: mcPop**"
      ]
    },
    {
      "cell_type": "code",
      "metadata": {
        "id": "EE7sgN8CURad",
        "colab": {
          "base_uri": "https://localhost:8080/"
        },
        "outputId": "1e8bd3c5-fa51-4f04-8efb-f27575f36c6d"
      },
      "source": [
        "mcPop = pd.read_csv('mcPop.csv')\n",
        "mcPop.head()"
      ],
      "execution_count": null,
      "outputs": [
        {
          "output_type": "execute_result",
          "data": {
            "text/html": [
              "<div>\n",
              "<style scoped>\n",
              "    .dataframe tbody tr th:only-of-type {\n",
              "        vertical-align: middle;\n",
              "    }\n",
              "\n",
              "    .dataframe tbody tr th {\n",
              "        vertical-align: top;\n",
              "    }\n",
              "\n",
              "    .dataframe thead th {\n",
              "        text-align: right;\n",
              "    }\n",
              "</style>\n",
              "<table border=\"1\" class=\"dataframe\">\n",
              "  <thead>\n",
              "    <tr style=\"text-align: right;\">\n",
              "      <th></th>\n",
              "      <th>Unnamed: 0</th>\n",
              "      <th>Zip Code</th>\n",
              "      <th>AREALAND</th>\n",
              "      <th>AREAWATR</th>\n",
              "      <th>Population</th>\n",
              "      <th>HU100</th>\n",
              "      <th>NH White</th>\n",
              "      <th>NH Black</th>\n",
              "      <th>NH American Indian</th>\n",
              "      <th>NH Asian</th>\n",
              "      <th>NH Native Hawaiian</th>\n",
              "      <th>NH Other</th>\n",
              "      <th>NHT</th>\n",
              "      <th>Hispanic</th>\n",
              "      <th>PNHW</th>\n",
              "      <th>PNHB</th>\n",
              "      <th>PNHAI</th>\n",
              "      <th>PNHA</th>\n",
              "      <th>PNHNH</th>\n",
              "      <th>PNHO</th>\n",
              "      <th>PNHT</th>\n",
              "      <th>PHISP</th>\n",
              "      <th>Pop 65+</th>\n",
              "      <th>PCTPOP65_</th>\n",
              "      <th>Shape_Area</th>\n",
              "    </tr>\n",
              "  </thead>\n",
              "  <tbody>\n",
              "    <tr>\n",
              "      <th>0</th>\n",
              "      <td>62</td>\n",
              "      <td>20707</td>\n",
              "      <td>28896187</td>\n",
              "      <td>481328</td>\n",
              "      <td>31538</td>\n",
              "      <td>13576</td>\n",
              "      <td>9599</td>\n",
              "      <td>13425</td>\n",
              "      <td>72</td>\n",
              "      <td>2849</td>\n",
              "      <td>15</td>\n",
              "      <td>111</td>\n",
              "      <td>796</td>\n",
              "      <td>4671</td>\n",
              "      <td>30.4</td>\n",
              "      <td>42.6</td>\n",
              "      <td>0.2</td>\n",
              "      <td>9.0</td>\n",
              "      <td>0.0</td>\n",
              "      <td>0.4</td>\n",
              "      <td>2.5</td>\n",
              "      <td>14.8</td>\n",
              "      <td>2998</td>\n",
              "      <td>9.5</td>\n",
              "      <td>4.827461e+07</td>\n",
              "    </tr>\n",
              "    <tr>\n",
              "      <th>1</th>\n",
              "      <td>102</td>\n",
              "      <td>20777</td>\n",
              "      <td>19568844</td>\n",
              "      <td>110664</td>\n",
              "      <td>3314</td>\n",
              "      <td>1111</td>\n",
              "      <td>2692</td>\n",
              "      <td>155</td>\n",
              "      <td>10</td>\n",
              "      <td>274</td>\n",
              "      <td>2</td>\n",
              "      <td>2</td>\n",
              "      <td>79</td>\n",
              "      <td>100</td>\n",
              "      <td>81.2</td>\n",
              "      <td>4.7</td>\n",
              "      <td>0.3</td>\n",
              "      <td>8.3</td>\n",
              "      <td>0.1</td>\n",
              "      <td>0.1</td>\n",
              "      <td>2.4</td>\n",
              "      <td>3.0</td>\n",
              "      <td>428</td>\n",
              "      <td>12.9</td>\n",
              "      <td>3.274726e+07</td>\n",
              "    </tr>\n",
              "    <tr>\n",
              "      <th>2</th>\n",
              "      <td>111</td>\n",
              "      <td>20812</td>\n",
              "      <td>496734</td>\n",
              "      <td>371058</td>\n",
              "      <td>255</td>\n",
              "      <td>100</td>\n",
              "      <td>230</td>\n",
              "      <td>3</td>\n",
              "      <td>0</td>\n",
              "      <td>6</td>\n",
              "      <td>0</td>\n",
              "      <td>0</td>\n",
              "      <td>6</td>\n",
              "      <td>10</td>\n",
              "      <td>90.2</td>\n",
              "      <td>1.2</td>\n",
              "      <td>0.0</td>\n",
              "      <td>2.4</td>\n",
              "      <td>0.0</td>\n",
              "      <td>0.0</td>\n",
              "      <td>2.4</td>\n",
              "      <td>3.9</td>\n",
              "      <td>33</td>\n",
              "      <td>12.9</td>\n",
              "      <td>1.437529e+06</td>\n",
              "    </tr>\n",
              "    <tr>\n",
              "      <th>3</th>\n",
              "      <td>112</td>\n",
              "      <td>20814</td>\n",
              "      <td>13166146</td>\n",
              "      <td>52953</td>\n",
              "      <td>27642</td>\n",
              "      <td>14103</td>\n",
              "      <td>21021</td>\n",
              "      <td>1134</td>\n",
              "      <td>34</td>\n",
              "      <td>2572</td>\n",
              "      <td>20</td>\n",
              "      <td>74</td>\n",
              "      <td>695</td>\n",
              "      <td>2092</td>\n",
              "      <td>76.0</td>\n",
              "      <td>4.1</td>\n",
              "      <td>0.1</td>\n",
              "      <td>9.3</td>\n",
              "      <td>0.1</td>\n",
              "      <td>0.3</td>\n",
              "      <td>2.5</td>\n",
              "      <td>7.6</td>\n",
              "      <td>4508</td>\n",
              "      <td>16.3</td>\n",
              "      <td>2.192136e+07</td>\n",
              "    </tr>\n",
              "    <tr>\n",
              "      <th>4</th>\n",
              "      <td>113</td>\n",
              "      <td>20815</td>\n",
              "      <td>14066048</td>\n",
              "      <td>35097</td>\n",
              "      <td>29082</td>\n",
              "      <td>13850</td>\n",
              "      <td>23357</td>\n",
              "      <td>1256</td>\n",
              "      <td>28</td>\n",
              "      <td>1804</td>\n",
              "      <td>13</td>\n",
              "      <td>90</td>\n",
              "      <td>702</td>\n",
              "      <td>1832</td>\n",
              "      <td>80.3</td>\n",
              "      <td>4.3</td>\n",
              "      <td>0.1</td>\n",
              "      <td>6.2</td>\n",
              "      <td>0.0</td>\n",
              "      <td>0.3</td>\n",
              "      <td>2.4</td>\n",
              "      <td>6.3</td>\n",
              "      <td>6002</td>\n",
              "      <td>20.6</td>\n",
              "      <td>2.337013e+07</td>\n",
              "    </tr>\n",
              "  </tbody>\n",
              "</table>\n",
              "</div>"
            ],
            "text/plain": [
              "   Unnamed: 0  Zip Code  AREALAND  ...  Pop 65+  PCTPOP65_    Shape_Area\n",
              "0          62     20707  28896187  ...     2998        9.5  4.827461e+07\n",
              "1         102     20777  19568844  ...      428       12.9  3.274726e+07\n",
              "2         111     20812    496734  ...       33       12.9  1.437529e+06\n",
              "3         112     20814  13166146  ...     4508       16.3  2.192136e+07\n",
              "4         113     20815  14066048  ...     6002       20.6  2.337013e+07\n",
              "\n",
              "[5 rows x 25 columns]"
            ]
          },
          "metadata": {
            "tags": []
          },
          "execution_count": 4
        }
      ]
    },
    {
      "cell_type": "markdown",
      "metadata": {
        "id": "_cE5XiFtBnXR"
      },
      "source": [
        "Drop unnamed columns"
      ]
    },
    {
      "cell_type": "code",
      "metadata": {
        "id": "vMTr7aXPA-zf"
      },
      "source": [
        "mcPop = mcPop.loc[:, ~mcPop.columns.str.contains('^Unnamed')]"
      ],
      "execution_count": null,
      "outputs": []
    },
    {
      "cell_type": "code",
      "metadata": {
        "id": "puwKjR3MYWbj"
      },
      "source": [
        "std_zip = mcPop['Zip Code'].unique()"
      ],
      "execution_count": null,
      "outputs": []
    },
    {
      "cell_type": "markdown",
      "metadata": {
        "id": "zLUJeCeRClD5"
      },
      "source": [
        "# **MC Real Property Tax Data: mcTax**"
      ]
    },
    {
      "cell_type": "code",
      "metadata": {
        "colab": {
          "base_uri": "https://localhost:8080/"
        },
        "id": "Er5bi25sCxdx",
        "outputId": "4871542e-a8fb-460d-b971-3021f9f373aa"
      },
      "source": [
        "mcTax = pd.read_csv('mcTax.csv')\n",
        "mcTax.head()"
      ],
      "execution_count": null,
      "outputs": [
        {
          "output_type": "execute_result",
          "data": {
            "text/html": [
              "<div>\n",
              "<style scoped>\n",
              "    .dataframe tbody tr th:only-of-type {\n",
              "        vertical-align: middle;\n",
              "    }\n",
              "\n",
              "    .dataframe tbody tr th {\n",
              "        vertical-align: top;\n",
              "    }\n",
              "\n",
              "    .dataframe thead th {\n",
              "        text-align: right;\n",
              "    }\n",
              "</style>\n",
              "<table border=\"1\" class=\"dataframe\">\n",
              "  <thead>\n",
              "    <tr style=\"text-align: right;\">\n",
              "      <th></th>\n",
              "      <th>Unnamed: 0</th>\n",
              "      <th>Zip Code</th>\n",
              "      <th>RESIDENCE</th>\n",
              "      <th>ASSESSMENT</th>\n",
              "      <th>COUNTY PROPERTY TAX</th>\n",
              "      <th>COUNTY PROPERTY TAX Percent</th>\n",
              "    </tr>\n",
              "  </thead>\n",
              "  <tbody>\n",
              "    <tr>\n",
              "      <th>0</th>\n",
              "      <td>35</td>\n",
              "      <td>20872</td>\n",
              "      <td>PRINCIPAL RESIDENCE</td>\n",
              "      <td>499833</td>\n",
              "      <td>4954.35</td>\n",
              "      <td>0.991201</td>\n",
              "    </tr>\n",
              "    <tr>\n",
              "      <th>1</th>\n",
              "      <td>40</td>\n",
              "      <td>20872</td>\n",
              "      <td>PRINCIPAL RESIDENCE</td>\n",
              "      <td>404467</td>\n",
              "      <td>4009.08</td>\n",
              "      <td>0.991201</td>\n",
              "    </tr>\n",
              "    <tr>\n",
              "      <th>2</th>\n",
              "      <td>47</td>\n",
              "      <td>20906</td>\n",
              "      <td>NOT A PRINCIPAL RESIDENCE</td>\n",
              "      <td>339000</td>\n",
              "      <td>3360.16</td>\n",
              "      <td>0.991198</td>\n",
              "    </tr>\n",
              "    <tr>\n",
              "      <th>3</th>\n",
              "      <td>52</td>\n",
              "      <td>20902</td>\n",
              "      <td>PRINCIPAL RESIDENCE</td>\n",
              "      <td>405467</td>\n",
              "      <td>4018.97</td>\n",
              "      <td>0.991195</td>\n",
              "    </tr>\n",
              "    <tr>\n",
              "      <th>4</th>\n",
              "      <td>56</td>\n",
              "      <td>20902</td>\n",
              "      <td>PRINCIPAL RESIDENCE</td>\n",
              "      <td>359633</td>\n",
              "      <td>3564.69</td>\n",
              "      <td>0.991202</td>\n",
              "    </tr>\n",
              "  </tbody>\n",
              "</table>\n",
              "</div>"
            ],
            "text/plain": [
              "   Unnamed: 0  Zip Code  ... COUNTY PROPERTY TAX  COUNTY PROPERTY TAX Percent\n",
              "0          35     20872  ...             4954.35                     0.991201\n",
              "1          40     20872  ...             4009.08                     0.991201\n",
              "2          47     20906  ...             3360.16                     0.991198\n",
              "3          52     20902  ...             4018.97                     0.991195\n",
              "4          56     20902  ...             3564.69                     0.991202\n",
              "\n",
              "[5 rows x 6 columns]"
            ]
          },
          "metadata": {
            "tags": []
          },
          "execution_count": 7
        }
      ]
    },
    {
      "cell_type": "code",
      "metadata": {
        "id": "gcjit4kNDNCu"
      },
      "source": [
        "mcTax = mcTax.loc[:, ~mcTax.columns.str.contains('^Unnamed')]"
      ],
      "execution_count": null,
      "outputs": []
    },
    {
      "cell_type": "markdown",
      "metadata": {
        "id": "xXN-otcEDOlA"
      },
      "source": [
        "# **MC Crime Data: mcCrime**"
      ]
    },
    {
      "cell_type": "code",
      "metadata": {
        "colab": {
          "base_uri": "https://localhost:8080/"
        },
        "id": "uB7vuPgkDli-",
        "outputId": "34e5e534-7aba-46cf-b6c8-1fd5cfa87e41"
      },
      "source": [
        "mcCrime = pd.read_csv('mcCrime.csv')\n",
        "mcCrime.head()"
      ],
      "execution_count": null,
      "outputs": [
        {
          "output_type": "execute_result",
          "data": {
            "text/html": [
              "<div>\n",
              "<style scoped>\n",
              "    .dataframe tbody tr th:only-of-type {\n",
              "        vertical-align: middle;\n",
              "    }\n",
              "\n",
              "    .dataframe tbody tr th {\n",
              "        vertical-align: top;\n",
              "    }\n",
              "\n",
              "    .dataframe thead th {\n",
              "        text-align: right;\n",
              "    }\n",
              "</style>\n",
              "<table border=\"1\" class=\"dataframe\">\n",
              "  <thead>\n",
              "    <tr style=\"text-align: right;\">\n",
              "      <th></th>\n",
              "      <th>Unnamed: 0</th>\n",
              "      <th>Victims</th>\n",
              "      <th>Crime Name1</th>\n",
              "      <th>Crime Name2</th>\n",
              "      <th>Crime Name3</th>\n",
              "      <th>Zip Code</th>\n",
              "      <th>Start_Date_Time</th>\n",
              "      <th>Year</th>\n",
              "    </tr>\n",
              "  </thead>\n",
              "  <tbody>\n",
              "    <tr>\n",
              "      <th>0</th>\n",
              "      <td>0</td>\n",
              "      <td>1</td>\n",
              "      <td>Crime Against Property</td>\n",
              "      <td>Burglary/Breaking and Entering</td>\n",
              "      <td>BURGLARY - NO FORCED ENTRY-RESIDENTIAL</td>\n",
              "      <td>20816</td>\n",
              "      <td>03/18/2020 09:00:00 PM</td>\n",
              "      <td>2020</td>\n",
              "    </tr>\n",
              "    <tr>\n",
              "      <th>1</th>\n",
              "      <td>1</td>\n",
              "      <td>1</td>\n",
              "      <td>Other</td>\n",
              "      <td>All Other Offenses</td>\n",
              "      <td>POLICE INFORMATION</td>\n",
              "      <td>20872</td>\n",
              "      <td>03/19/2020 01:00:00 PM</td>\n",
              "      <td>2020</td>\n",
              "    </tr>\n",
              "    <tr>\n",
              "      <th>2</th>\n",
              "      <td>2</td>\n",
              "      <td>1</td>\n",
              "      <td>Crime Against Property</td>\n",
              "      <td>Shoplifting</td>\n",
              "      <td>LARCENY - SHOPLIFTING</td>\n",
              "      <td>20876</td>\n",
              "      <td>08/19/2020 06:30:00 PM</td>\n",
              "      <td>2020</td>\n",
              "    </tr>\n",
              "    <tr>\n",
              "      <th>3</th>\n",
              "      <td>3</td>\n",
              "      <td>1</td>\n",
              "      <td>Crime Against Property</td>\n",
              "      <td>Embezzlement</td>\n",
              "      <td>EMBEZZLE (DESCRIBE OFFENSE)</td>\n",
              "      <td>20860</td>\n",
              "      <td>11/02/2018 03:34:00 PM</td>\n",
              "      <td>2018</td>\n",
              "    </tr>\n",
              "    <tr>\n",
              "      <th>4</th>\n",
              "      <td>4</td>\n",
              "      <td>1</td>\n",
              "      <td>Crime Against Society</td>\n",
              "      <td>All Other Offenses</td>\n",
              "      <td>SEX OFFENSE - FAILURE TO REGISTER AS A SEX OFF...</td>\n",
              "      <td>20878</td>\n",
              "      <td>11/02/2018 12:00:00 AM</td>\n",
              "      <td>2018</td>\n",
              "    </tr>\n",
              "  </tbody>\n",
              "</table>\n",
              "</div>"
            ],
            "text/plain": [
              "   Unnamed: 0  Victims  ...         Start_Date_Time  Year\n",
              "0           0        1  ...  03/18/2020 09:00:00 PM  2020\n",
              "1           1        1  ...  03/19/2020 01:00:00 PM  2020\n",
              "2           2        1  ...  08/19/2020 06:30:00 PM  2020\n",
              "3           3        1  ...  11/02/2018 03:34:00 PM  2018\n",
              "4           4        1  ...  11/02/2018 12:00:00 AM  2018\n",
              "\n",
              "[5 rows x 8 columns]"
            ]
          },
          "metadata": {
            "tags": []
          },
          "execution_count": 9
        }
      ]
    },
    {
      "cell_type": "code",
      "metadata": {
        "id": "AtKpJNFWD45G"
      },
      "source": [
        "mcCrime = mcCrime.loc[:, ~mcCrime.columns.str.contains('^Unnamed')]"
      ],
      "execution_count": null,
      "outputs": []
    },
    {
      "cell_type": "markdown",
      "metadata": {
        "id": "4tqbjohgOefi"
      },
      "source": [
        "# **Statistical Analysis**"
      ]
    },
    {
      "cell_type": "code",
      "metadata": {
        "id": "AaJWNzfGcVEr"
      },
      "source": [
        "plt.rcParams['figure.figsize'] = (10, 6) # global fugure size"
      ],
      "execution_count": null,
      "outputs": []
    },
    {
      "cell_type": "markdown",
      "metadata": {
        "id": "gxO-iCThEK9C"
      },
      "source": [
        "## **Confidence Interval and t-Test for Mean mcTax**"
      ]
    },
    {
      "cell_type": "markdown",
      "metadata": {
        "id": "cJv30GynMhvu"
      },
      "source": [
        "Obtain the statistical description of the county property tax."
      ]
    },
    {
      "cell_type": "code",
      "metadata": {
        "colab": {
          "base_uri": "https://localhost:8080/"
        },
        "id": "jkng2ELlIjJL",
        "outputId": "871f2b0f-a392-4161-d13e-e60f8fe6263d"
      },
      "source": [
        "mcTax['COUNTY PROPERTY TAX'].describe()"
      ],
      "execution_count": null,
      "outputs": [
        {
          "output_type": "execute_result",
          "data": {
            "text/plain": [
              "count    3.139900e+05\n",
              "mean     5.906543e+03\n",
              "std      2.601276e+04\n",
              "min      8.800000e-01\n",
              "25%      2.728460e+03\n",
              "50%      3.966790e+03\n",
              "75%      6.030425e+03\n",
              "max      4.833150e+06\n",
              "Name: COUNTY PROPERTY TAX, dtype: float64"
            ]
          },
          "metadata": {
            "tags": []
          },
          "execution_count": 12
        }
      ]
    },
    {
      "cell_type": "code",
      "metadata": {
        "colab": {
          "base_uri": "https://localhost:8080/"
        },
        "id": "RYqogp63aPMW",
        "outputId": "d04a802c-3597-4444-9da8-dd96e9b33756"
      },
      "source": [
        "sns.boxplot(x=mcTax['COUNTY PROPERTY TAX'])\n",
        "plt.show()"
      ],
      "execution_count": null,
      "outputs": [
        {
          "output_type": "display_data",
          "data": {
            "image/png": "[encoded data removed]",
            "text/plain": [
              "<Figure size 720x432 with 1 Axes>"
            ]
          },
          "metadata": {
            "tags": [],
            "needs_background": "light"
          }
        }
      ]
    },
    {
      "cell_type": "markdown",
      "metadata": {
        "id": "KIje10dldY42"
      },
      "source": [
        "The data is NOT normally distributed and is heavily skewed to the right.  \n",
        "Find the 95% interval in the middle of the data."
      ]
    },
    {
      "cell_type": "code",
      "metadata": {
        "colab": {
          "base_uri": "https://localhost:8080/"
        },
        "id": "C-T4HfTqb053",
        "outputId": "e8279895-0607-4e91-e478-c57a42e89b4e"
      },
      "source": [
        "np.percentile(mcTax['COUNTY PROPERTY TAX'], [2.5, 97.5])"
      ],
      "execution_count": null,
      "outputs": [
        {
          "output_type": "execute_result",
          "data": {
            "text/plain": [
              "array([  148.68  , 15797.2715])"
            ]
          },
          "metadata": {
            "tags": []
          },
          "execution_count": 14
        }
      ]
    },
    {
      "cell_type": "markdown",
      "metadata": {
        "id": "S4nXL8JfDRbz"
      },
      "source": [
        "Sample the data and compute the sample mean of the county property tax."
      ]
    },
    {
      "cell_type": "code",
      "metadata": {
        "colab": {
          "base_uri": "https://localhost:8080/"
        },
        "id": "u97U9xTfq1QX",
        "outputId": "f3a8f4a3-a4cc-4860-8608-20e7e904e667"
      },
      "source": [
        "mcTax_sample = mcTax.sample(n=1000, random_state=123)\n",
        "tax_sample = mcTax_sample['COUNTY PROPERTY TAX']\n",
        "sample_mean = tax_sample.mean()\n",
        "sample_mean"
      ],
      "execution_count": null,
      "outputs": [
        {
          "output_type": "execute_result",
          "data": {
            "text/plain": [
              "6744.42256"
            ]
          },
          "metadata": {
            "tags": []
          },
          "execution_count": 15
        }
      ]
    },
    {
      "cell_type": "code",
      "metadata": {
        "colab": {
          "base_uri": "https://localhost:8080/"
        },
        "id": "DF34GGoqrG5I",
        "outputId": "e06e1502-c3b9-47a2-a225-67c877dd4862"
      },
      "source": [
        "sns.boxplot(x=tax_sample)\n",
        "plt.show()"
      ],
      "execution_count": null,
      "outputs": [
        {
          "output_type": "display_data",
          "data": {
            "image/png": "[encoded data removed]",
            "text/plain": [
              "<Figure size 720x432 with 1 Axes>"
            ]
          },
          "metadata": {
            "tags": [],
            "needs_background": "light"
          }
        }
      ]
    },
    {
      "cell_type": "markdown",
      "metadata": {
        "id": "kJnwAp8GDCED"
      },
      "source": [
        "The distribution for the county property tax is heavily skewed to the right. But a t-test is robust to normality.  \n",
        "Construct a 95% confidence interval for the mean county property tax using a t-distribution."
      ]
    },
    {
      "cell_type": "code",
      "metadata": {
        "colab": {
          "base_uri": "https://localhost:8080/"
        },
        "id": "gufHGgAxr6Z8",
        "outputId": "2062a636-a878-4a38-9d2a-08a65d218305"
      },
      "source": [
        "stats.t.interval(0.95, df=len(tax_sample)-1, loc=np.mean(tax_sample), scale=stats.sem(tax_sample))"
      ],
      "execution_count": null,
      "outputs": [
        {
          "output_type": "execute_result",
          "data": {
            "text/plain": [
              "(4417.1083592895175, 9071.736760710482)"
            ]
          },
          "metadata": {
            "tags": []
          },
          "execution_count": 17
        }
      ]
    },
    {
      "cell_type": "markdown",
      "metadata": {
        "id": "eeJfDWjSDMbv"
      },
      "source": [
        "We are 95% sure that the mean county property tax is between 4417.1 and 9071.7. Since the true mean county property tax is 5906.5 that is contained in the CI, we mostly expect that p-values in two-tailed hypothesis tests should be greater than 0.05 not to reject the null hypothesis."
      ]
    },
    {
      "cell_type": "code",
      "metadata": {
        "colab": {
          "base_uri": "https://localhost:8080/"
        },
        "id": "tWycbVm8utLf",
        "outputId": "02412db6-9235-479b-ae3a-6c425d4768be"
      },
      "source": [
        "sample_mean, np.mean(mcTax['COUNTY PROPERTY TAX'])"
      ],
      "execution_count": null,
      "outputs": [
        {
          "output_type": "execute_result",
          "data": {
            "text/plain": [
              "(6744.42256, 5906.54275776238)"
            ]
          },
          "metadata": {
            "tags": []
          },
          "execution_count": 18
        }
      ]
    },
    {
      "cell_type": "markdown",
      "metadata": {
        "id": "BaxZXs28GkMv"
      },
      "source": [
        "Conduct a right-tailed hypothesis test for the mean county property tax."
      ]
    },
    {
      "cell_type": "code",
      "metadata": {
        "colab": {
          "base_uri": "https://localhost:8080/"
        },
        "id": "VqUZsTigtSo7",
        "outputId": "e06fb45f-3407-40a2-954d-91678519e438"
      },
      "source": [
        "stats.ttest_1samp(tax_sample, np.mean(mcTax['COUNTY PROPERTY TAX']), alternative='greater')"
      ],
      "execution_count": null,
      "outputs": [
        {
          "output_type": "execute_result",
          "data": {
            "text/plain": [
              "Ttest_1sampResult(statistic=0.706482294000198, pvalue=0.24002649756712485)"
            ]
          },
          "metadata": {
            "tags": []
          },
          "execution_count": 19
        }
      ]
    },
    {
      "cell_type": "markdown",
      "metadata": {
        "id": "J-sAi6V3H8rF"
      },
      "source": [
        "Since p-value is 0.24, we must not reject the null hypothesis. There is not enough evidence that the mean county property tax is higher than 5906.5, the true mean county property tax."
      ]
    },
    {
      "cell_type": "markdown",
      "metadata": {
        "id": "f9nVI_dLnPpI"
      },
      "source": [
        "## **Confidence Interval and 2-Sample t-Test for means of victims per 1000 residents based on Pop 65+**"
      ]
    },
    {
      "cell_type": "markdown",
      "metadata": {
        "id": "cVjYnThvlZdX"
      },
      "source": [
        "Merge two datasets mcPop and mcCrime.  \n",
        "Create a column for the numbers of victims per 1000 residents."
      ]
    },
    {
      "cell_type": "code",
      "metadata": {
        "id": "8s7NNNiRSiFG"
      },
      "source": [
        "mcPopCrime = mcPop.merge(mcCrime, on='Zip Code')\n",
        "mcPopCrime['Victims_per_1000Residents'] = mcPopCrime['Victims'] / mcPopCrime['Population'] * 1000"
      ],
      "execution_count": null,
      "outputs": []
    },
    {
      "cell_type": "markdown",
      "metadata": {
        "id": "sjGTZFVrhiTF"
      },
      "source": [
        "Visualize the number of victims per 1000 residents and the percent of age 65 or older for any relationship."
      ]
    },
    {
      "cell_type": "code",
      "metadata": {
        "id": "MsBgkT4beur0"
      },
      "source": [
        "summaries = {'Victims_per_1000Residents': 'sum', 'PCTPOP65_': 'mean'}\n",
        "mcPopCrime_byZip = mcPopCrime.groupby('Zip Code').agg(summaries).reset_index()"
      ],
      "execution_count": null,
      "outputs": []
    },
    {
      "cell_type": "code",
      "metadata": {
        "colab": {
          "base_uri": "https://localhost:8080/",
          "height": 444
        },
        "id": "XsQgjoyueqG5",
        "outputId": "cd2593f4-7d33-4977-d0aa-efa293230d1e"
      },
      "source": [
        "fig, ax = plt.subplots(figsize=[14,6])\n",
        "\n",
        "sns.barplot(ax=ax, data=mcPopCrime_byZip, x='Zip Code', y='Victims_per_1000Residents',\n",
        "              color='blue', ci=None, estimator=sum)\n",
        "ax1 = ax.twinx()\n",
        "sns.pointplot(ax=ax1, data=mcPopCrime_byZip, x='Zip Code', y='PCTPOP65_', color='green',\n",
        "              ci=None, estimator=sum)\n",
        "\n",
        "ax.set_title('Victims per 1000 Residents vs Percent of Pop 65+', size=20)\n",
        "#ax.set_xticks()\n",
        "ax.set_xticklabels(mcPopCrime_byZip['Zip Code'].unique(), rotation=60, size=12) #ax.get_xticklabels()\n",
        "ax.set_xlabel('Zip Code', size=15)\n",
        "ax.set_ylabel('Victims per 1000 Residents', size=15, color='blue')\n",
        "ax1.set_ylabel('Percent of Pop 65+', size=15, color='green')\n",
        "\n",
        "plt.show()"
      ],
      "execution_count": null,
      "outputs": [
        {
          "output_type": "display_data",
          "data": {
            "image/png": "[encoded data removed]",
            "text/plain": [
              "<Figure size 1008x432 with 2 Axes>"
            ]
          },
          "metadata": {
            "tags": [],
            "needs_background": "light"
          }
        }
      ]
    },
    {
      "cell_type": "markdown",
      "metadata": {
        "id": "xesR2mv0iJ2z"
      },
      "source": [
        "It seems that they are approximately inverse-proportional. To confirm this observation, will conduct a 2-sample t-test and construct a 95% confidence interval."
      ]
    },
    {
      "cell_type": "markdown",
      "metadata": {
        "id": "j3-Bz10Il9mA"
      },
      "source": [
        "Compute the mean percent of age 65 or older."
      ]
    },
    {
      "cell_type": "code",
      "metadata": {
        "colab": {
          "base_uri": "https://localhost:8080/"
        },
        "id": "JA8l-HO4oCB3",
        "outputId": "b9a6b44c-c599-4049-ba28-21b2e8c45565"
      },
      "source": [
        "mean_percent_65up = mcPopCrime['PCTPOP65_'].mean()\n",
        "mean_percent_65up"
      ],
      "execution_count": null,
      "outputs": [
        {
          "output_type": "execute_result",
          "data": {
            "text/plain": [
              "11.740988190550349"
            ]
          },
          "metadata": {
            "tags": []
          },
          "execution_count": 23
        }
      ]
    },
    {
      "cell_type": "markdown",
      "metadata": {
        "id": "ElwEBrtsmf9t"
      },
      "source": [
        "Divide the data into two datasets: percent of age 65 or older >= mean percent and percent of age 65 or older < mean percent."
      ]
    },
    {
      "cell_type": "code",
      "metadata": {
        "id": "BDasCzWJo07q"
      },
      "source": [
        "mcPopCrime_PopUp = mcPopCrime[mcPopCrime['PCTPOP65_'] >= mean_percent_65up]\n",
        "mcPopCrime_PopDown = mcPopCrime[mcPopCrime['PCTPOP65_'] < mean_percent_65up]"
      ],
      "execution_count": null,
      "outputs": []
    },
    {
      "cell_type": "markdown",
      "metadata": {
        "id": "gSSgqJJTnEMM"
      },
      "source": [
        "Sample each dataset."
      ]
    },
    {
      "cell_type": "code",
      "metadata": {
        "id": "c4nj2J87sQOI"
      },
      "source": [
        "mcPopCrime_PopUp_sample = mcPopCrime_PopUp.sample(n=1000, random_state=123)\n",
        "mcPopCrime_PopDown_sample = mcPopCrime_PopDown.sample(n=1000, random_state=123)"
      ],
      "execution_count": null,
      "outputs": []
    },
    {
      "cell_type": "markdown",
      "metadata": {
        "id": "KixIoGlSndF7"
      },
      "source": [
        "Group each dataset by Zip Codes."
      ]
    },
    {
      "cell_type": "code",
      "metadata": {
        "id": "FMYo-OwYTf-6"
      },
      "source": [
        "summaries = {'Victims_per_1000Residents': 'sum', 'Population': 'mean'}\n",
        "mcPopCrime_PopUp_sample_byZip = mcPopCrime_PopUp_sample.groupby('Zip Code').agg(summaries).reset_index()\n",
        "mcPopCrime_PopDown_sample_byZip = mcPopCrime_PopDown_sample.groupby('Zip Code').agg(summaries).reset_index()"
      ],
      "execution_count": null,
      "outputs": []
    },
    {
      "cell_type": "code",
      "metadata": {
        "colab": {
          "base_uri": "https://localhost:8080/"
        },
        "id": "5NvB3ORedXrm",
        "outputId": "1723b783-860c-4152-c1be-b78a539fab91"
      },
      "source": [
        "mcPopCrime_PopUp_sample_byZip.shape, mcPopCrime_PopDown_sample_byZip.shape"
      ],
      "execution_count": null,
      "outputs": [
        {
          "output_type": "execute_result",
          "data": {
            "text/plain": [
              "((19, 3), (21, 3))"
            ]
          },
          "metadata": {
            "tags": []
          },
          "execution_count": 27
        }
      ]
    },
    {
      "cell_type": "markdown",
      "metadata": {
        "id": "-U5kFjJeotXc"
      },
      "source": [
        "Check the distributions and variances."
      ]
    },
    {
      "cell_type": "code",
      "metadata": {
        "colab": {
          "base_uri": "https://localhost:8080/",
          "height": 361
        },
        "id": "I1bqwg3sX6XN",
        "outputId": "953afbcd-df54-4778-8fae-f40d4c6c258c"
      },
      "source": [
        "fig, ax = plt.subplots(1, 2, sharey=True)\n",
        "sns.boxplot(ax=ax[0], data=mcPopCrime_PopUp_sample_byZip, y='Victims_per_1000Residents')\n",
        "sns.boxplot(ax=ax[1], data=mcPopCrime_PopDown_sample_byZip, y='Victims_per_1000Residents')\n",
        "plt.show()"
      ],
      "execution_count": null,
      "outputs": [
        {
          "output_type": "display_data",
          "data": {
            "image/png": "[encoded data removed]",
            "text/plain": [
              "<Figure size 720x432 with 2 Axes>"
            ]
          },
          "metadata": {
            "tags": [],
            "needs_background": "light"
          }
        }
      ]
    },
    {
      "cell_type": "markdown",
      "metadata": {
        "id": "mbVvdfFjoVGk"
      },
      "source": [
        "The sample sizes of the two datasets are less than 30. But their distributions are approximately normal and have roughly equal variances. So, use t-distributions for tests and confidence intervals."
      ]
    },
    {
      "cell_type": "markdown",
      "metadata": {
        "id": "yQsvqdV7pG2a"
      },
      "source": [
        "Conduct a 2-sample t-test for the difference of means."
      ]
    },
    {
      "cell_type": "code",
      "metadata": {
        "colab": {
          "base_uri": "https://localhost:8080/"
        },
        "id": "YLttZYmwse70",
        "outputId": "2ccf4bf3-3794-41d6-84d7-22acf0ca8cf2"
      },
      "source": [
        "stats.ttest_ind(mcPopCrime_PopUp_sample_byZip['Victims_per_1000Residents'],\n",
        "                mcPopCrime_PopDown_sample_byZip['Victims_per_1000Residents'], alternative='greater')"
      ],
      "execution_count": null,
      "outputs": [
        {
          "output_type": "execute_result",
          "data": {
            "text/plain": [
              "Ttest_indResult(statistic=2.870025771875396, pvalue=0.003335324446386881)"
            ]
          },
          "metadata": {
            "tags": []
          },
          "execution_count": 29
        }
      ]
    },
    {
      "cell_type": "markdown",
      "metadata": {
        "id": "pNJcaYr2rfLb"
      },
      "source": [
        "Since p-value is very small, reject the null hypothesis. So, there is very strong evidence that the zip codes where the percent of age 65 or older is >= the mean percent of age 65 or older have more victims per 1000 residents than the other."
      ]
    },
    {
      "cell_type": "markdown",
      "metadata": {
        "id": "we_003omrm8c"
      },
      "source": [
        "Construct a 95% confidence interval for the mean difference of the numbers of victims per 1000 residents."
      ]
    },
    {
      "cell_type": "code",
      "metadata": {
        "colab": {
          "base_uri": "https://localhost:8080/"
        },
        "id": "dErO9AXbg4HW",
        "outputId": "44118946-0b90-49bd-c138-67a58b24b5bd"
      },
      "source": [
        "N1 = len(mcPopCrime_PopUp_sample_byZip)\n",
        "N2 = len(mcPopCrime_PopDown_sample_byZip)\n",
        "df = np.min([N1-1, N2-1])\n",
        "mean1 = mcPopCrime_PopUp_sample_byZip['Victims_per_1000Residents'].mean()\n",
        "mean2 = mcPopCrime_PopDown_sample_byZip['Victims_per_1000Residents'].mean()\n",
        "std1 = mcPopCrime_PopUp_sample_byZip['Victims_per_1000Residents'].std()\n",
        "std2 = mcPopCrime_PopDown_sample_byZip['Victims_per_1000Residents'].std()\n",
        "\n",
        "sample_stat = mean1 - mean2\n",
        "SE = sqrt((std1)**2 / N1 + (std2)**2 / N2)\n",
        "ME = stats.t.ppf(0.975, df) * SE\n",
        "\n",
        "print ('95% CI: ({:2.5f}, {:2.5f})'.format(sample_stat - ME, sample_stat + ME))"
      ],
      "execution_count": null,
      "outputs": [
        {
          "output_type": "stream",
          "text": [
            "95% CI: (0.22226, 1.46254)\n"
          ],
          "name": "stdout"
        }
      ]
    },
    {
      "cell_type": "markdown",
      "metadata": {
        "id": "ZZ9Hxrq5tMtZ"
      },
      "source": [
        "The confidence interval contains only positive numbers. Thus, we can conclude the same as the t-test."
      ]
    },
    {
      "cell_type": "markdown",
      "metadata": {
        "id": "r9ziGrJktZtg"
      },
      "source": [
        "## **Chi-square Test**  \n",
        "Is there evidence that the population of age 65 or older is associated with the amount of the county property tax?"
      ]
    },
    {
      "cell_type": "markdown",
      "metadata": {
        "id": "ezIHzr3K_bUZ"
      },
      "source": [
        "Merge two datasets mcPop and mcTax."
      ]
    },
    {
      "cell_type": "code",
      "metadata": {
        "id": "daF47I1Tt1wn"
      },
      "source": [
        "mcPopTax = mcPop.merge(mcTax, on='Zip Code')"
      ],
      "execution_count": null,
      "outputs": []
    },
    {
      "cell_type": "markdown",
      "metadata": {
        "id": "VljmkqEOAygG"
      },
      "source": [
        "Create a categorical column for the county property tax by Up/Down from the average tax."
      ]
    },
    {
      "cell_type": "code",
      "metadata": {
        "id": "ZOjOIwHp14Zq"
      },
      "source": [
        "Avg_Tax = mcPopTax['COUNTY PROPERTY TAX'].mean()\n",
        "mcPopTax['Avgerage Tax UpDown'] = pd.cut(mcPopTax['COUNTY PROPERTY TAX'], bins=[-1, Avg_Tax -0.01, np.inf],\n",
        "                                         labels=['down', 'up'])"
      ],
      "execution_count": null,
      "outputs": []
    },
    {
      "cell_type": "markdown",
      "metadata": {
        "id": "AGWwdFjGAtiG"
      },
      "source": [
        "Create a categorical column for the percent of age 65 or older by Up/Down from the average percent."
      ]
    },
    {
      "cell_type": "code",
      "metadata": {
        "id": "YGuzwjVv3UMt"
      },
      "source": [
        "mcPopTax['Mean PCT_65up UpDown'] = pd.cut(mcPopTax['PCTPOP65_'], bins=[-1, mean_percent_65up -0.01, np.inf],\n",
        "                                          labels=['down', 'up'])"
      ],
      "execution_count": null,
      "outputs": []
    },
    {
      "cell_type": "markdown",
      "metadata": {
        "id": "rCrRjT4VD2N7"
      },
      "source": [
        "Create a frequency table for the two columns."
      ]
    },
    {
      "cell_type": "code",
      "metadata": {
        "colab": {
          "base_uri": "https://localhost:8080/"
        },
        "id": "D4HjNXGo5-_u",
        "outputId": "d786a0eb-b203-442b-a0b6-b76215caefdd"
      },
      "source": [
        "table_tax_65 = pd.crosstab(mcPopTax['Avgerage Tax UpDown'], mcPopTax['Mean PCT_65up UpDown'], margins=True)\n",
        "table_tax_65"
      ],
      "execution_count": null,
      "outputs": [
        {
          "output_type": "execute_result",
          "data": {
            "text/html": [
              "<div>\n",
              "<style scoped>\n",
              "    .dataframe tbody tr th:only-of-type {\n",
              "        vertical-align: middle;\n",
              "    }\n",
              "\n",
              "    .dataframe tbody tr th {\n",
              "        vertical-align: top;\n",
              "    }\n",
              "\n",
              "    .dataframe thead th {\n",
              "        text-align: right;\n",
              "    }\n",
              "</style>\n",
              "<table border=\"1\" class=\"dataframe\">\n",
              "  <thead>\n",
              "    <tr style=\"text-align: right;\">\n",
              "      <th>Mean PCT_65up UpDown</th>\n",
              "      <th>down</th>\n",
              "      <th>up</th>\n",
              "      <th>All</th>\n",
              "    </tr>\n",
              "    <tr>\n",
              "      <th>Avgerage Tax UpDown</th>\n",
              "      <th></th>\n",
              "      <th></th>\n",
              "      <th></th>\n",
              "    </tr>\n",
              "  </thead>\n",
              "  <tbody>\n",
              "    <tr>\n",
              "      <th>down</th>\n",
              "      <td>137294</td>\n",
              "      <td>94864</td>\n",
              "      <td>232158</td>\n",
              "    </tr>\n",
              "    <tr>\n",
              "      <th>up</th>\n",
              "      <td>19140</td>\n",
              "      <td>62692</td>\n",
              "      <td>81832</td>\n",
              "    </tr>\n",
              "    <tr>\n",
              "      <th>All</th>\n",
              "      <td>156434</td>\n",
              "      <td>157556</td>\n",
              "      <td>313990</td>\n",
              "    </tr>\n",
              "  </tbody>\n",
              "</table>\n",
              "</div>"
            ],
            "text/plain": [
              "Mean PCT_65up UpDown    down      up     All\n",
              "Avgerage Tax UpDown                         \n",
              "down                  137294   94864  232158\n",
              "up                     19140   62692   81832\n",
              "All                   156434  157556  313990"
            ]
          },
          "metadata": {
            "tags": []
          },
          "execution_count": 34
        }
      ]
    },
    {
      "cell_type": "markdown",
      "metadata": {
        "id": "P3def58tEGML"
      },
      "source": [
        "Conduct a chi-square test."
      ]
    },
    {
      "cell_type": "code",
      "metadata": {
        "colab": {
          "base_uri": "https://localhost:8080/"
        },
        "id": "sjcnMkDg6Lj0",
        "outputId": "01388162-3ffa-4de1-c62d-f0c987f22635"
      },
      "source": [
        "stats.chi2_contingency(table_tax_65)"
      ],
      "execution_count": null,
      "outputs": [
        {
          "output_type": "execute_result",
          "data": {
            "text/plain": [
              "(30929.951078373335,\n",
              " 0.0,\n",
              " 4,\n",
              " array([[115664.20768814, 116493.79231186, 232158.        ],\n",
              "        [ 40769.79231186,  41062.20768814,  81832.        ],\n",
              "        [156434.        , 157556.        , 313990.        ]]))"
            ]
          },
          "metadata": {
            "tags": []
          },
          "execution_count": 35
        }
      ]
    },
    {
      "cell_type": "markdown",
      "metadata": {
        "id": "TGwaAEUkFBkr"
      },
      "source": [
        "Every expected cell count is big, so the chi-square distribution is appropriate. Since p-value is 0, reject the null hypothesis. Thus, there is very strong evidence that the population of age 65 or older is associated with the amount of the county property tax."
      ]
    },
    {
      "cell_type": "code",
      "metadata": {
        "id": "e9Sn76EC7Qq2"
      },
      "source": [
        ""
      ],
      "execution_count": null,
      "outputs": []
    }
  ]
}