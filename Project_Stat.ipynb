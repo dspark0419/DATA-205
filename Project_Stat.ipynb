{
  "nbformat": 4,
  "nbformat_minor": 0,
  "metadata": {
    "colab": {
      "name": "Project_Stat.ipynb",
      "provenance": [],
      "collapsed_sections": [
        "4tqbjohgOefi"
      ],
      "toc_visible": true,
      "mount_file_id": "1Ms3bYftlJloqVD81MqvyQ1bwi0rqIxdE",
      "authorship_tag": "ABX9TyOkscGAToEZjiUCNNOU5XoQ",
      "include_colab_link": true
    },
    "kernelspec": {
      "display_name": "Python 3",
      "language": "python",
      "name": "python3"
    },
    "language_info": {
      "codemirror_mode": {
        "name": "ipython",
        "version": 3
      },
      "file_extension": ".py",
      "mimetype": "text/x-python",
      "name": "python",
      "nbconvert_exporter": "python",
      "pygments_lexer": "ipython3",
      "version": "3.8.3"
    }
  },
  "cells": [
    {
      "cell_type": "markdown",
      "metadata": {
        "id": "view-in-github",
        "colab_type": "text"
      },
      "source": [
        "<a href=\"https://colab.research.google.com/github/dspark0419/DATA-205/blob/main/Project_Stat.ipynb\" target=\"_parent\"><img src=\"https://colab.research.google.com/assets/colab-badge.svg\" alt=\"Open In Colab\"/></a>"
      ]
    },
    {
      "cell_type": "markdown",
      "metadata": {
        "id": "E2osGK3qeLBL"
      },
      "source": [
        "# **Import/Upgrade Libraries**"
      ]
    },
    {
      "cell_type": "code",
      "metadata": {
        "colab": {
          "base_uri": "https://localhost:8080/"
        },
        "id": "6aF_02hbIkuJ",
        "outputId": "e10a2c8b-19cc-4a7b-f46f-b814e062f15a"
      },
      "source": [
        "!python --version"
      ],
      "execution_count": 1,
      "outputs": [
        {
          "output_type": "stream",
          "text": [
            "Python 3.7.10\n"
          ],
          "name": "stdout"
        }
      ]
    },
    {
      "cell_type": "code",
      "metadata": {
        "id": "_kfm_hvtF7Ue"
      },
      "source": [
        "# hide outputs\n",
        "%%capture\n",
        "!pip install --upgrade numpy\n",
        "!pip install --upgrade pandas\n",
        "!pip install --upgrade matplotlib\n",
        "!pip install --upgrade seaborn\n",
        "!pip install --upgrade scipy\n",
        "!pip install --upgrade math"
      ],
      "execution_count": 2,
      "outputs": []
    },
    {
      "cell_type": "code",
      "metadata": {
        "id": "YZdFabAmFuRY"
      },
      "source": [
        "import numpy as np\n",
        "import pandas as pd\n",
        "import matplotlib.pyplot as plt\n",
        "import seaborn as sns\n",
        "from scipy import stats\n",
        "from scipy import random\n",
        "from math import sqrt"
      ],
      "execution_count": 3,
      "outputs": []
    },
    {
      "cell_type": "code",
      "metadata": {
        "id": "gXleOADn3_Ft"
      },
      "source": [
        "%%capture\n",
        "!pip install --upgrade sklearn\n",
        "\n",
        "from sklearn.linear_model import LinearRegression\n",
        "from sklearn.model_selection import train_test_split"
      ],
      "execution_count": 4,
      "outputs": []
    },
    {
      "cell_type": "code",
      "metadata": {
        "id": "P5ac5fsBcV5w"
      },
      "source": [
        "%%capture\n",
        "!pip install --upgrade statsmodels\n",
        "\n",
        "from statsmodels.graphics.mosaicplot import mosaic"
      ],
      "execution_count": 5,
      "outputs": []
    },
    {
      "cell_type": "markdown",
      "metadata": {
        "id": "5y7SPSiMUrEZ"
      },
      "source": [
        "# **MC Census Data: mcPop**"
      ]
    },
    {
      "cell_type": "code",
      "metadata": {
        "id": "EE7sgN8CURad",
        "colab": {
          "base_uri": "https://localhost:8080/",
          "height": 258
        },
        "outputId": "13a41bcf-34fd-498e-f6c6-8959abf99567"
      },
      "source": [
        "# Below is from the notebook Project_Map_ZipPop.ipynb\n",
        "mcPop = pd.read_csv('mcPop.csv')\n",
        "mcPop.head()"
      ],
      "execution_count": 6,
      "outputs": [
        {
          "output_type": "execute_result",
          "data": {
            "text/html": [
              "<div>\n",
              "<style scoped>\n",
              "    .dataframe tbody tr th:only-of-type {\n",
              "        vertical-align: middle;\n",
              "    }\n",
              "\n",
              "    .dataframe tbody tr th {\n",
              "        vertical-align: top;\n",
              "    }\n",
              "\n",
              "    .dataframe thead th {\n",
              "        text-align: right;\n",
              "    }\n",
              "</style>\n",
              "<table border=\"1\" class=\"dataframe\">\n",
              "  <thead>\n",
              "    <tr style=\"text-align: right;\">\n",
              "      <th></th>\n",
              "      <th>Unnamed: 0</th>\n",
              "      <th>Zip Code</th>\n",
              "      <th>AREALAND</th>\n",
              "      <th>AREAWATR</th>\n",
              "      <th>Population</th>\n",
              "      <th>HU100</th>\n",
              "      <th>NH White</th>\n",
              "      <th>NH Black</th>\n",
              "      <th>NH American Indian</th>\n",
              "      <th>NH Asian</th>\n",
              "      <th>NH Native Hawaiian</th>\n",
              "      <th>NH Other</th>\n",
              "      <th>NHT</th>\n",
              "      <th>Hispanic</th>\n",
              "      <th>PNHW</th>\n",
              "      <th>PNHB</th>\n",
              "      <th>PNHAI</th>\n",
              "      <th>PNHA</th>\n",
              "      <th>PNHNH</th>\n",
              "      <th>PNHO</th>\n",
              "      <th>PNHT</th>\n",
              "      <th>PHISP</th>\n",
              "      <th>Pop 65+</th>\n",
              "      <th>PCTPOP65_</th>\n",
              "      <th>Shape_Area</th>\n",
              "    </tr>\n",
              "  </thead>\n",
              "  <tbody>\n",
              "    <tr>\n",
              "      <th>0</th>\n",
              "      <td>62</td>\n",
              "      <td>20707</td>\n",
              "      <td>28896187</td>\n",
              "      <td>481328</td>\n",
              "      <td>31538</td>\n",
              "      <td>13576</td>\n",
              "      <td>9599</td>\n",
              "      <td>13425</td>\n",
              "      <td>72</td>\n",
              "      <td>2849</td>\n",
              "      <td>15</td>\n",
              "      <td>111</td>\n",
              "      <td>796</td>\n",
              "      <td>4671</td>\n",
              "      <td>30.4</td>\n",
              "      <td>42.6</td>\n",
              "      <td>0.2</td>\n",
              "      <td>9.0</td>\n",
              "      <td>0.0</td>\n",
              "      <td>0.4</td>\n",
              "      <td>2.5</td>\n",
              "      <td>14.8</td>\n",
              "      <td>2998</td>\n",
              "      <td>9.5</td>\n",
              "      <td>4.827461e+07</td>\n",
              "    </tr>\n",
              "    <tr>\n",
              "      <th>1</th>\n",
              "      <td>102</td>\n",
              "      <td>20777</td>\n",
              "      <td>19568844</td>\n",
              "      <td>110664</td>\n",
              "      <td>3314</td>\n",
              "      <td>1111</td>\n",
              "      <td>2692</td>\n",
              "      <td>155</td>\n",
              "      <td>10</td>\n",
              "      <td>274</td>\n",
              "      <td>2</td>\n",
              "      <td>2</td>\n",
              "      <td>79</td>\n",
              "      <td>100</td>\n",
              "      <td>81.2</td>\n",
              "      <td>4.7</td>\n",
              "      <td>0.3</td>\n",
              "      <td>8.3</td>\n",
              "      <td>0.1</td>\n",
              "      <td>0.1</td>\n",
              "      <td>2.4</td>\n",
              "      <td>3.0</td>\n",
              "      <td>428</td>\n",
              "      <td>12.9</td>\n",
              "      <td>3.274726e+07</td>\n",
              "    </tr>\n",
              "    <tr>\n",
              "      <th>2</th>\n",
              "      <td>111</td>\n",
              "      <td>20812</td>\n",
              "      <td>496734</td>\n",
              "      <td>371058</td>\n",
              "      <td>255</td>\n",
              "      <td>100</td>\n",
              "      <td>230</td>\n",
              "      <td>3</td>\n",
              "      <td>0</td>\n",
              "      <td>6</td>\n",
              "      <td>0</td>\n",
              "      <td>0</td>\n",
              "      <td>6</td>\n",
              "      <td>10</td>\n",
              "      <td>90.2</td>\n",
              "      <td>1.2</td>\n",
              "      <td>0.0</td>\n",
              "      <td>2.4</td>\n",
              "      <td>0.0</td>\n",
              "      <td>0.0</td>\n",
              "      <td>2.4</td>\n",
              "      <td>3.9</td>\n",
              "      <td>33</td>\n",
              "      <td>12.9</td>\n",
              "      <td>1.437529e+06</td>\n",
              "    </tr>\n",
              "    <tr>\n",
              "      <th>3</th>\n",
              "      <td>112</td>\n",
              "      <td>20814</td>\n",
              "      <td>13166146</td>\n",
              "      <td>52953</td>\n",
              "      <td>27642</td>\n",
              "      <td>14103</td>\n",
              "      <td>21021</td>\n",
              "      <td>1134</td>\n",
              "      <td>34</td>\n",
              "      <td>2572</td>\n",
              "      <td>20</td>\n",
              "      <td>74</td>\n",
              "      <td>695</td>\n",
              "      <td>2092</td>\n",
              "      <td>76.0</td>\n",
              "      <td>4.1</td>\n",
              "      <td>0.1</td>\n",
              "      <td>9.3</td>\n",
              "      <td>0.1</td>\n",
              "      <td>0.3</td>\n",
              "      <td>2.5</td>\n",
              "      <td>7.6</td>\n",
              "      <td>4508</td>\n",
              "      <td>16.3</td>\n",
              "      <td>2.192136e+07</td>\n",
              "    </tr>\n",
              "    <tr>\n",
              "      <th>4</th>\n",
              "      <td>113</td>\n",
              "      <td>20815</td>\n",
              "      <td>14066048</td>\n",
              "      <td>35097</td>\n",
              "      <td>29082</td>\n",
              "      <td>13850</td>\n",
              "      <td>23357</td>\n",
              "      <td>1256</td>\n",
              "      <td>28</td>\n",
              "      <td>1804</td>\n",
              "      <td>13</td>\n",
              "      <td>90</td>\n",
              "      <td>702</td>\n",
              "      <td>1832</td>\n",
              "      <td>80.3</td>\n",
              "      <td>4.3</td>\n",
              "      <td>0.1</td>\n",
              "      <td>6.2</td>\n",
              "      <td>0.0</td>\n",
              "      <td>0.3</td>\n",
              "      <td>2.4</td>\n",
              "      <td>6.3</td>\n",
              "      <td>6002</td>\n",
              "      <td>20.6</td>\n",
              "      <td>2.337013e+07</td>\n",
              "    </tr>\n",
              "  </tbody>\n",
              "</table>\n",
              "</div>"
            ],
            "text/plain": [
              "   Unnamed: 0  Zip Code  AREALAND  ...  Pop 65+  PCTPOP65_    Shape_Area\n",
              "0          62     20707  28896187  ...     2998        9.5  4.827461e+07\n",
              "1         102     20777  19568844  ...      428       12.9  3.274726e+07\n",
              "2         111     20812    496734  ...       33       12.9  1.437529e+06\n",
              "3         112     20814  13166146  ...     4508       16.3  2.192136e+07\n",
              "4         113     20815  14066048  ...     6002       20.6  2.337013e+07\n",
              "\n",
              "[5 rows x 25 columns]"
            ]
          },
          "metadata": {
            "tags": []
          },
          "execution_count": 6
        }
      ]
    },
    {
      "cell_type": "markdown",
      "metadata": {
        "id": "_cE5XiFtBnXR"
      },
      "source": [
        "Drop unnamed columns"
      ]
    },
    {
      "cell_type": "code",
      "metadata": {
        "id": "vMTr7aXPA-zf"
      },
      "source": [
        "mcPop = mcPop.loc[:, ~mcPop.columns.str.contains('^Unnamed')]"
      ],
      "execution_count": 7,
      "outputs": []
    },
    {
      "cell_type": "code",
      "metadata": {
        "id": "puwKjR3MYWbj"
      },
      "source": [
        "std_zip = mcPop['Zip Code'].unique()"
      ],
      "execution_count": 8,
      "outputs": []
    },
    {
      "cell_type": "markdown",
      "metadata": {
        "id": "zLUJeCeRClD5"
      },
      "source": [
        "# **MC Real Property Tax Data: mcTax**"
      ]
    },
    {
      "cell_type": "code",
      "metadata": {
        "colab": {
          "base_uri": "https://localhost:8080/",
          "height": 204
        },
        "id": "Er5bi25sCxdx",
        "outputId": "ffb5c6f8-1c2c-4dc4-ac8d-de38d6ea24f1"
      },
      "source": [
        "# Below is from the notebook Project_Tax.ipynb\n",
        "mcTax = pd.read_csv('mcTax.csv')\n",
        "mcTax.head()"
      ],
      "execution_count": 9,
      "outputs": [
        {
          "output_type": "execute_result",
          "data": {
            "text/html": [
              "<div>\n",
              "<style scoped>\n",
              "    .dataframe tbody tr th:only-of-type {\n",
              "        vertical-align: middle;\n",
              "    }\n",
              "\n",
              "    .dataframe tbody tr th {\n",
              "        vertical-align: top;\n",
              "    }\n",
              "\n",
              "    .dataframe thead th {\n",
              "        text-align: right;\n",
              "    }\n",
              "</style>\n",
              "<table border=\"1\" class=\"dataframe\">\n",
              "  <thead>\n",
              "    <tr style=\"text-align: right;\">\n",
              "      <th></th>\n",
              "      <th>Unnamed: 0</th>\n",
              "      <th>Zip Code</th>\n",
              "      <th>RESIDENCE</th>\n",
              "      <th>ASSESSMENT</th>\n",
              "      <th>COUNTY PROPERTY TAX</th>\n",
              "      <th>COUNTY PROPERTY TAX Percent</th>\n",
              "    </tr>\n",
              "  </thead>\n",
              "  <tbody>\n",
              "    <tr>\n",
              "      <th>0</th>\n",
              "      <td>35</td>\n",
              "      <td>20872</td>\n",
              "      <td>PRINCIPAL RESIDENCE</td>\n",
              "      <td>499833</td>\n",
              "      <td>4954.35</td>\n",
              "      <td>0.991201</td>\n",
              "    </tr>\n",
              "    <tr>\n",
              "      <th>1</th>\n",
              "      <td>40</td>\n",
              "      <td>20872</td>\n",
              "      <td>PRINCIPAL RESIDENCE</td>\n",
              "      <td>404467</td>\n",
              "      <td>4009.08</td>\n",
              "      <td>0.991201</td>\n",
              "    </tr>\n",
              "    <tr>\n",
              "      <th>2</th>\n",
              "      <td>47</td>\n",
              "      <td>20906</td>\n",
              "      <td>NOT A PRINCIPAL RESIDENCE</td>\n",
              "      <td>339000</td>\n",
              "      <td>3360.16</td>\n",
              "      <td>0.991198</td>\n",
              "    </tr>\n",
              "    <tr>\n",
              "      <th>3</th>\n",
              "      <td>52</td>\n",
              "      <td>20902</td>\n",
              "      <td>PRINCIPAL RESIDENCE</td>\n",
              "      <td>405467</td>\n",
              "      <td>4018.97</td>\n",
              "      <td>0.991195</td>\n",
              "    </tr>\n",
              "    <tr>\n",
              "      <th>4</th>\n",
              "      <td>56</td>\n",
              "      <td>20902</td>\n",
              "      <td>PRINCIPAL RESIDENCE</td>\n",
              "      <td>359633</td>\n",
              "      <td>3564.69</td>\n",
              "      <td>0.991202</td>\n",
              "    </tr>\n",
              "  </tbody>\n",
              "</table>\n",
              "</div>"
            ],
            "text/plain": [
              "   Unnamed: 0  Zip Code  ... COUNTY PROPERTY TAX  COUNTY PROPERTY TAX Percent\n",
              "0          35     20872  ...             4954.35                     0.991201\n",
              "1          40     20872  ...             4009.08                     0.991201\n",
              "2          47     20906  ...             3360.16                     0.991198\n",
              "3          52     20902  ...             4018.97                     0.991195\n",
              "4          56     20902  ...             3564.69                     0.991202\n",
              "\n",
              "[5 rows x 6 columns]"
            ]
          },
          "metadata": {
            "tags": []
          },
          "execution_count": 9
        }
      ]
    },
    {
      "cell_type": "code",
      "metadata": {
        "id": "gcjit4kNDNCu"
      },
      "source": [
        "mcTax = mcTax.loc[:, ~mcTax.columns.str.contains('^Unnamed')]"
      ],
      "execution_count": 10,
      "outputs": []
    },
    {
      "cell_type": "markdown",
      "metadata": {
        "id": "xXN-otcEDOlA"
      },
      "source": [
        "# **MC Crime Data: mcCrime**"
      ]
    },
    {
      "cell_type": "code",
      "metadata": {
        "colab": {
          "base_uri": "https://localhost:8080/",
          "height": 306
        },
        "id": "uB7vuPgkDli-",
        "outputId": "a1df0ba6-ba1e-4843-eab0-bb0d97641d92"
      },
      "source": [
        "# Below is from the notebook Project_Crime.ipynb\n",
        "mcCrime = pd.read_csv('mcCrime.csv')\n",
        "mcCrime.head()"
      ],
      "execution_count": 48,
      "outputs": [
        {
          "output_type": "execute_result",
          "data": {
            "text/html": [
              "<div>\n",
              "<style scoped>\n",
              "    .dataframe tbody tr th:only-of-type {\n",
              "        vertical-align: middle;\n",
              "    }\n",
              "\n",
              "    .dataframe tbody tr th {\n",
              "        vertical-align: top;\n",
              "    }\n",
              "\n",
              "    .dataframe thead th {\n",
              "        text-align: right;\n",
              "    }\n",
              "</style>\n",
              "<table border=\"1\" class=\"dataframe\">\n",
              "  <thead>\n",
              "    <tr style=\"text-align: right;\">\n",
              "      <th></th>\n",
              "      <th>Unnamed: 0</th>\n",
              "      <th>Victims</th>\n",
              "      <th>Crime Name1</th>\n",
              "      <th>Crime Name2</th>\n",
              "      <th>Crime Name3</th>\n",
              "      <th>Zip Code</th>\n",
              "      <th>Start_Date_Time</th>\n",
              "      <th>Year</th>\n",
              "    </tr>\n",
              "  </thead>\n",
              "  <tbody>\n",
              "    <tr>\n",
              "      <th>0</th>\n",
              "      <td>0</td>\n",
              "      <td>1</td>\n",
              "      <td>Crime Against Property</td>\n",
              "      <td>Burglary/Breaking and Entering</td>\n",
              "      <td>BURGLARY - NO FORCED ENTRY-RESIDENTIAL</td>\n",
              "      <td>20816</td>\n",
              "      <td>03/18/2020 09:00:00 PM</td>\n",
              "      <td>2020</td>\n",
              "    </tr>\n",
              "    <tr>\n",
              "      <th>1</th>\n",
              "      <td>1</td>\n",
              "      <td>1</td>\n",
              "      <td>Other</td>\n",
              "      <td>All Other Offenses</td>\n",
              "      <td>POLICE INFORMATION</td>\n",
              "      <td>20872</td>\n",
              "      <td>03/19/2020 01:00:00 PM</td>\n",
              "      <td>2020</td>\n",
              "    </tr>\n",
              "    <tr>\n",
              "      <th>2</th>\n",
              "      <td>2</td>\n",
              "      <td>1</td>\n",
              "      <td>Crime Against Property</td>\n",
              "      <td>Shoplifting</td>\n",
              "      <td>LARCENY - SHOPLIFTING</td>\n",
              "      <td>20876</td>\n",
              "      <td>08/19/2020 06:30:00 PM</td>\n",
              "      <td>2020</td>\n",
              "    </tr>\n",
              "    <tr>\n",
              "      <th>3</th>\n",
              "      <td>3</td>\n",
              "      <td>1</td>\n",
              "      <td>Crime Against Property</td>\n",
              "      <td>Embezzlement</td>\n",
              "      <td>EMBEZZLE (DESCRIBE OFFENSE)</td>\n",
              "      <td>20860</td>\n",
              "      <td>11/02/2018 03:34:00 PM</td>\n",
              "      <td>2018</td>\n",
              "    </tr>\n",
              "    <tr>\n",
              "      <th>4</th>\n",
              "      <td>4</td>\n",
              "      <td>1</td>\n",
              "      <td>Crime Against Society</td>\n",
              "      <td>All Other Offenses</td>\n",
              "      <td>SEX OFFENSE - FAILURE TO REGISTER AS A SEX OFF...</td>\n",
              "      <td>20878</td>\n",
              "      <td>11/02/2018 12:00:00 AM</td>\n",
              "      <td>2018</td>\n",
              "    </tr>\n",
              "  </tbody>\n",
              "</table>\n",
              "</div>"
            ],
            "text/plain": [
              "   Unnamed: 0  Victims  ...         Start_Date_Time  Year\n",
              "0           0        1  ...  03/18/2020 09:00:00 PM  2020\n",
              "1           1        1  ...  03/19/2020 01:00:00 PM  2020\n",
              "2           2        1  ...  08/19/2020 06:30:00 PM  2020\n",
              "3           3        1  ...  11/02/2018 03:34:00 PM  2018\n",
              "4           4        1  ...  11/02/2018 12:00:00 AM  2018\n",
              "\n",
              "[5 rows x 8 columns]"
            ]
          },
          "metadata": {
            "tags": []
          },
          "execution_count": 48
        }
      ]
    },
    {
      "cell_type": "code",
      "metadata": {
        "id": "AtKpJNFWD45G"
      },
      "source": [
        "mcCrime = mcCrime.loc[:, ~mcCrime.columns.str.contains('^Unnamed')]"
      ],
      "execution_count": 12,
      "outputs": []
    },
    {
      "cell_type": "markdown",
      "metadata": {
        "id": "4tqbjohgOefi"
      },
      "source": [
        "# **Statistical Analysis**"
      ]
    },
    {
      "cell_type": "code",
      "metadata": {
        "id": "AaJWNzfGcVEr"
      },
      "source": [
        "plt.rcParams['figure.figsize'] = (12, 6) # global fugure size"
      ],
      "execution_count": 13,
      "outputs": []
    },
    {
      "cell_type": "markdown",
      "metadata": {
        "id": "gxO-iCThEK9C"
      },
      "source": [
        "## **Confidence Interval and t-Test for Mean mcTax**"
      ]
    },
    {
      "cell_type": "markdown",
      "metadata": {
        "id": "cJv30GynMhvu"
      },
      "source": [
        "Obtain the statistical description of the county property tax."
      ]
    },
    {
      "cell_type": "code",
      "metadata": {
        "colab": {
          "base_uri": "https://localhost:8080/"
        },
        "id": "jkng2ELlIjJL",
        "outputId": "4241978b-7c0c-4a7d-a363-9b509e476c4c"
      },
      "source": [
        "mcTax['COUNTY PROPERTY TAX'].describe()"
      ],
      "execution_count": 14,
      "outputs": [
        {
          "output_type": "execute_result",
          "data": {
            "text/plain": [
              "count    3.139900e+05\n",
              "mean     5.906543e+03\n",
              "std      2.601276e+04\n",
              "min      8.800000e-01\n",
              "25%      2.728460e+03\n",
              "50%      3.966790e+03\n",
              "75%      6.030425e+03\n",
              "max      4.833150e+06\n",
              "Name: COUNTY PROPERTY TAX, dtype: float64"
            ]
          },
          "metadata": {
            "tags": []
          },
          "execution_count": 14
        }
      ]
    },
    {
      "cell_type": "markdown",
      "metadata": {
        "id": "AX5afVmOf_bS"
      },
      "source": [
        "Visualize the mean property tax for each zip code with the horizontal line for the mean county property tax."
      ]
    },
    {
      "cell_type": "code",
      "metadata": {
        "colab": {
          "base_uri": "https://localhost:8080/",
          "height": 439
        },
        "id": "sik4L5MxdkGj",
        "outputId": "2ce617ab-85c0-4661-ef52-f92ca1a76774"
      },
      "source": [
        "fig = sns.barplot(data=mcTax, x='Zip Code', y='COUNTY PROPERTY TAX', ci=None)\n",
        "fig.axhline(mcTax['COUNTY PROPERTY TAX'].mean(), color='blue')\n",
        "plt.title('Average Property Tax over Zip Code', size=20)\n",
        "plt.xticks(rotation=60, size=11)\n",
        "plt.xlabel('Zip Code', size=15)\n",
        "plt.ylabel('Average Property Tax', size=15)\n",
        "plt.show()"
      ],
      "execution_count": 15,
      "outputs": [
        {
          "output_type": "display_data",
          "data": {
            "image/png": "[encoded data removed]",
            "text/plain": [
              "<Figure size 864x432 with 1 Axes>"
            ]
          },
          "metadata": {
            "tags": [],
            "needs_background": "light"
          }
        }
      ]
    },
    {
      "cell_type": "code",
      "metadata": {
        "colab": {
          "base_uri": "https://localhost:8080/",
          "height": 388
        },
        "id": "RYqogp63aPMW",
        "outputId": "77063e73-776a-461f-a03f-b94a3ed46690"
      },
      "source": [
        "sns.boxplot(x=mcTax['COUNTY PROPERTY TAX'])\n",
        "plt.show()"
      ],
      "execution_count": 16,
      "outputs": [
        {
          "output_type": "display_data",
          "data": {
            "image/png": "[encoded data removed]",
            "text/plain": [
              "<Figure size 864x432 with 1 Axes>"
            ]
          },
          "metadata": {
            "tags": [],
            "needs_background": "light"
          }
        }
      ]
    },
    {
      "cell_type": "markdown",
      "metadata": {
        "id": "KIje10dldY42"
      },
      "source": [
        "The data is NOT normally distributed and is heavily skewed to the right.  \n",
        "Find the 95% interval in the middle of the data."
      ]
    },
    {
      "cell_type": "code",
      "metadata": {
        "colab": {
          "base_uri": "https://localhost:8080/"
        },
        "id": "C-T4HfTqb053",
        "outputId": "73fbc088-5370-4c1e-8b25-7091b138259a"
      },
      "source": [
        "np.percentile(mcTax['COUNTY PROPERTY TAX'], [2.5, 97.5])"
      ],
      "execution_count": 17,
      "outputs": [
        {
          "output_type": "execute_result",
          "data": {
            "text/plain": [
              "array([  148.68  , 15797.2715])"
            ]
          },
          "metadata": {
            "tags": []
          },
          "execution_count": 17
        }
      ]
    },
    {
      "cell_type": "markdown",
      "metadata": {
        "id": "S4nXL8JfDRbz"
      },
      "source": [
        "Sample the data and compute the sample mean of the county property tax."
      ]
    },
    {
      "cell_type": "code",
      "metadata": {
        "colab": {
          "base_uri": "https://localhost:8080/"
        },
        "id": "u97U9xTfq1QX",
        "outputId": "8695cafa-77d6-4d23-acf6-06bd0a7f4dc5"
      },
      "source": [
        "mcTax_sample = mcTax.sample(n=1000, random_state=12)\n",
        "tax_sample = mcTax_sample['COUNTY PROPERTY TAX']\n",
        "sample_mean = tax_sample.mean()\n",
        "sample_mean"
      ],
      "execution_count": 18,
      "outputs": [
        {
          "output_type": "execute_result",
          "data": {
            "text/plain": [
              "5513.273830000002"
            ]
          },
          "metadata": {
            "tags": []
          },
          "execution_count": 18
        }
      ]
    },
    {
      "cell_type": "code",
      "metadata": {
        "colab": {
          "base_uri": "https://localhost:8080/",
          "height": 388
        },
        "id": "DF34GGoqrG5I",
        "outputId": "67a234d1-afb5-406e-fde3-9d780d4a4e4c"
      },
      "source": [
        "sns.boxplot(x=tax_sample)\n",
        "plt.show()"
      ],
      "execution_count": 19,
      "outputs": [
        {
          "output_type": "display_data",
          "data": {
            "image/png": "[encoded data removed]",
            "text/plain": [
              "<Figure size 864x432 with 1 Axes>"
            ]
          },
          "metadata": {
            "tags": [],
            "needs_background": "light"
          }
        }
      ]
    },
    {
      "cell_type": "markdown",
      "metadata": {
        "id": "kJnwAp8GDCED"
      },
      "source": [
        "The distribution for the county property tax is heavily skewed to the right. But a t-test is robust to normality.  \n",
        "Construct a 95% confidence interval for the mean county property tax using a t-distribution."
      ]
    },
    {
      "cell_type": "code",
      "metadata": {
        "colab": {
          "base_uri": "https://localhost:8080/"
        },
        "id": "gufHGgAxr6Z8",
        "outputId": "ba1f9796-dd8e-4fed-bc67-efba5376d481"
      },
      "source": [
        "stats.t.interval(0.95, df=len(tax_sample)-1, loc=np.mean(tax_sample), scale=stats.sem(tax_sample))"
      ],
      "execution_count": 20,
      "outputs": [
        {
          "output_type": "execute_result",
          "data": {
            "text/plain": [
              "(4907.982766427346, 6118.564893572658)"
            ]
          },
          "metadata": {
            "tags": []
          },
          "execution_count": 20
        }
      ]
    },
    {
      "cell_type": "code",
      "metadata": {
        "colab": {
          "base_uri": "https://localhost:8080/"
        },
        "id": "tWycbVm8utLf",
        "outputId": "73eff3cd-e262-4df6-f01b-a6866905e1b5"
      },
      "source": [
        "sample_mean, np.mean(mcTax['COUNTY PROPERTY TAX'])"
      ],
      "execution_count": 21,
      "outputs": [
        {
          "output_type": "execute_result",
          "data": {
            "text/plain": [
              "(5513.273830000002, 5906.54275776238)"
            ]
          },
          "metadata": {
            "tags": []
          },
          "execution_count": 21
        }
      ]
    },
    {
      "cell_type": "markdown",
      "metadata": {
        "id": "eeJfDWjSDMbv"
      },
      "source": [
        "We are 95% sure that the mean county property tax is between 4908.0 and 6118.6. Since the true mean county property tax is 5906.5, it is contained in the CI. Thus, we mostly expect that p-values in two-tailed hypothesis tests should be greater than 0.05 not to reject the null hypothesis."
      ]
    },
    {
      "cell_type": "markdown",
      "metadata": {
        "id": "BaxZXs28GkMv"
      },
      "source": [
        "Conduct a right-tailed hypothesis test for the mean county property tax."
      ]
    },
    {
      "cell_type": "code",
      "metadata": {
        "colab": {
          "base_uri": "https://localhost:8080/"
        },
        "id": "VqUZsTigtSo7",
        "outputId": "31d337bb-9831-4b45-9ef0-af618d72191f"
      },
      "source": [
        "stats.ttest_1samp(tax_sample, np.mean(mcTax['COUNTY PROPERTY TAX']), alternative='two-sided')"
      ],
      "execution_count": 22,
      "outputs": [
        {
          "output_type": "execute_result",
          "data": {
            "text/plain": [
              "Ttest_1sampResult(statistic=-1.2749699586981902, pvalue=0.20261631451575718)"
            ]
          },
          "metadata": {
            "tags": []
          },
          "execution_count": 22
        }
      ]
    },
    {
      "cell_type": "markdown",
      "metadata": {
        "id": "J-sAi6V3H8rF"
      },
      "source": [
        "Since p-value is greater than 0.05, we must not reject the null hypothesis. There is not enough evidence that the mean county property tax differs from 5906.5, the true mean county property tax."
      ]
    },
    {
      "cell_type": "markdown",
      "metadata": {
        "id": "s54iQLj5HS1P"
      },
      "source": [
        "## **Linear Regression between Total Population and Population of age 65 or older**"
      ]
    },
    {
      "cell_type": "code",
      "metadata": {
        "id": "l23F46E8HS1U"
      },
      "source": [
        "pop_col = ['Population', 'NH White', 'NH Black', 'NH Asian', 'Hispanic', 'Pop 65+']"
      ],
      "execution_count": 23,
      "outputs": []
    },
    {
      "cell_type": "code",
      "metadata": {
        "colab": {
          "base_uri": "https://localhost:8080/",
          "height": 235
        },
        "id": "oCFIfLGOHS1V",
        "outputId": "3535170d-9d50-4150-b7bd-27b379faa4d3"
      },
      "source": [
        "mcPop[pop_col].corr()"
      ],
      "execution_count": 24,
      "outputs": [
        {
          "output_type": "execute_result",
          "data": {
            "text/html": [
              "<div>\n",
              "<style scoped>\n",
              "    .dataframe tbody tr th:only-of-type {\n",
              "        vertical-align: middle;\n",
              "    }\n",
              "\n",
              "    .dataframe tbody tr th {\n",
              "        vertical-align: top;\n",
              "    }\n",
              "\n",
              "    .dataframe thead th {\n",
              "        text-align: right;\n",
              "    }\n",
              "</style>\n",
              "<table border=\"1\" class=\"dataframe\">\n",
              "  <thead>\n",
              "    <tr style=\"text-align: right;\">\n",
              "      <th></th>\n",
              "      <th>Population</th>\n",
              "      <th>NH White</th>\n",
              "      <th>NH Black</th>\n",
              "      <th>NH Asian</th>\n",
              "      <th>Hispanic</th>\n",
              "      <th>Pop 65+</th>\n",
              "    </tr>\n",
              "  </thead>\n",
              "  <tbody>\n",
              "    <tr>\n",
              "      <th>Population</th>\n",
              "      <td>1.000000</td>\n",
              "      <td>0.840375</td>\n",
              "      <td>0.720628</td>\n",
              "      <td>0.856161</td>\n",
              "      <td>0.765961</td>\n",
              "      <td>0.868939</td>\n",
              "    </tr>\n",
              "    <tr>\n",
              "      <th>NH White</th>\n",
              "      <td>0.840375</td>\n",
              "      <td>1.000000</td>\n",
              "      <td>0.295258</td>\n",
              "      <td>0.721031</td>\n",
              "      <td>0.379958</td>\n",
              "      <td>0.799441</td>\n",
              "    </tr>\n",
              "    <tr>\n",
              "      <th>NH Black</th>\n",
              "      <td>0.720628</td>\n",
              "      <td>0.295258</td>\n",
              "      <td>1.000000</td>\n",
              "      <td>0.516672</td>\n",
              "      <td>0.734567</td>\n",
              "      <td>0.565662</td>\n",
              "    </tr>\n",
              "    <tr>\n",
              "      <th>NH Asian</th>\n",
              "      <td>0.856161</td>\n",
              "      <td>0.721031</td>\n",
              "      <td>0.516672</td>\n",
              "      <td>1.000000</td>\n",
              "      <td>0.563011</td>\n",
              "      <td>0.697601</td>\n",
              "    </tr>\n",
              "    <tr>\n",
              "      <th>Hispanic</th>\n",
              "      <td>0.765961</td>\n",
              "      <td>0.379958</td>\n",
              "      <td>0.734567</td>\n",
              "      <td>0.563011</td>\n",
              "      <td>1.000000</td>\n",
              "      <td>0.628385</td>\n",
              "    </tr>\n",
              "    <tr>\n",
              "      <th>Pop 65+</th>\n",
              "      <td>0.868939</td>\n",
              "      <td>0.799441</td>\n",
              "      <td>0.565662</td>\n",
              "      <td>0.697601</td>\n",
              "      <td>0.628385</td>\n",
              "      <td>1.000000</td>\n",
              "    </tr>\n",
              "  </tbody>\n",
              "</table>\n",
              "</div>"
            ],
            "text/plain": [
              "            Population  NH White  NH Black  NH Asian  Hispanic   Pop 65+\n",
              "Population    1.000000  0.840375  0.720628  0.856161  0.765961  0.868939\n",
              "NH White      0.840375  1.000000  0.295258  0.721031  0.379958  0.799441\n",
              "NH Black      0.720628  0.295258  1.000000  0.516672  0.734567  0.565662\n",
              "NH Asian      0.856161  0.721031  0.516672  1.000000  0.563011  0.697601\n",
              "Hispanic      0.765961  0.379958  0.734567  0.563011  1.000000  0.628385\n",
              "Pop 65+       0.868939  0.799441  0.565662  0.697601  0.628385  1.000000"
            ]
          },
          "metadata": {
            "tags": []
          },
          "execution_count": 24
        }
      ]
    },
    {
      "cell_type": "code",
      "metadata": {
        "colab": {
          "base_uri": "https://localhost:8080/",
          "height": 400
        },
        "id": "PZqEAx7aHS1Z",
        "outputId": "d082b630-d687-4dda-ca13-ea1fa133286c"
      },
      "source": [
        "fig, ax = plt.subplots(figsize=[7, 7])\n",
        "sns.heatmap(ax=ax, data=mcPop[pop_col].corr(), cbar=True, annot=True, square=True, cmap='GnBu', fmt='.2f', \n",
        "            annot_kws={'size':12}, cbar_kws={\"shrink\": .82}, linewidths=0.2)\n",
        "ax.set_title('Correlations about MC Population', size=20, pad=25)  # pad: spacing title from the plot\n",
        "plt.show()"
      ],
      "execution_count": 25,
      "outputs": [
        {
          "output_type": "display_data",
          "data": {
            "image/png": "[encoded data removed]",
            "text/plain": [
              "<Figure size 504x504 with 2 Axes>"
            ]
          },
          "metadata": {
            "tags": [],
            "needs_background": "light"
          }
        }
      ]
    },
    {
      "cell_type": "markdown",
      "metadata": {
        "id": "ttiWpZ7nHS1b"
      },
      "source": [
        "The biggest correlation of Population occurs with Pop 65+ and the population of age 65 or older is strongly related to NH White population."
      ]
    },
    {
      "cell_type": "code",
      "metadata": {
        "colab": {
          "base_uri": "https://localhost:8080/",
          "height": 388
        },
        "id": "tmL2QrueHS1c",
        "outputId": "ccae29cd-bfbc-4c1b-a9bd-49ca99ba8f1c"
      },
      "source": [
        "sns.regplot(data=mcPop, x='Population', y='Pop 65+')\n",
        "plt.show()"
      ],
      "execution_count": 26,
      "outputs": [
        {
          "output_type": "display_data",
          "data": {
            "image/png": "[encoded data removed]",
            "text/plain": [
              "<Figure size 864x432 with 1 Axes>"
            ]
          },
          "metadata": {
            "tags": [],
            "needs_background": "light"
          }
        }
      ]
    },
    {
      "cell_type": "code",
      "metadata": {
        "colab": {
          "base_uri": "https://localhost:8080/",
          "height": 405
        },
        "id": "vBKT8n4rHS1d",
        "outputId": "0b89c25c-eaf1-4f60-b9f7-d666028b2a74"
      },
      "source": [
        "sns.residplot(data=mcPop, x='Population', y='Pop 65+')"
      ],
      "execution_count": 27,
      "outputs": [
        {
          "output_type": "execute_result",
          "data": {
            "text/plain": [
              "<AxesSubplot:xlabel='Population', ylabel='Pop 65+'>"
            ]
          },
          "metadata": {
            "tags": []
          },
          "execution_count": 27
        },
        {
          "output_type": "display_data",
          "data": {
            "image/png": "[encoded data removed]",
            "text/plain": [
              "<Figure size 864x432 with 1 Axes>"
            ]
          },
          "metadata": {
            "tags": [],
            "needs_background": "light"
          }
        }
      ]
    },
    {
      "cell_type": "code",
      "metadata": {
        "id": "tSCTBEadHS1e"
      },
      "source": [
        "X = mcPop['Population'].values.reshape(-1, 1) # reshape(-1, 1): nrow is unknown and ncol = 1\n",
        "y = mcPop['Pop 65+']"
      ],
      "execution_count": 28,
      "outputs": []
    },
    {
      "cell_type": "markdown",
      "metadata": {
        "id": "cVjATkM5HS1g"
      },
      "source": [
        "Get the slope, intercept, and R-square value of the linear regression."
      ]
    },
    {
      "cell_type": "code",
      "metadata": {
        "colab": {
          "base_uri": "https://localhost:8080/"
        },
        "id": "U8S0KrT3HS1g",
        "outputId": "a0d0e74c-9e9e-4988-9b89-151964ea2603"
      },
      "source": [
        "LinReg = LinearRegression()\n",
        "LinReg.fit(X, y)\n",
        "LinReg.coef_, LinReg.intercept_, LinReg.score(X, y)"
      ],
      "execution_count": 29,
      "outputs": [
        {
          "output_type": "execute_result",
          "data": {
            "text/plain": [
              "(array([0.12986747]), -197.81106196213068, 0.7550550045225572)"
            ]
          },
          "metadata": {
            "tags": []
          },
          "execution_count": 29
        }
      ]
    },
    {
      "cell_type": "markdown",
      "metadata": {
        "id": "kdZTA-0aHS1i"
      },
      "source": [
        "About 75.5% of the data values between Population and Population of age 65 or older are explained by the linear regression."
      ]
    },
    {
      "cell_type": "markdown",
      "metadata": {
        "id": "f9nVI_dLnPpI"
      },
      "source": [
        "## **Confidence Interval and 2-Sample t-Test for means of victims per 100 residents based on Pop 65+**"
      ]
    },
    {
      "cell_type": "markdown",
      "metadata": {
        "id": "cVjYnThvlZdX"
      },
      "source": [
        "Merge two datasets mcPop and mcCrime.  \n",
        "Create a column for the numbers of victims per 100 residents."
      ]
    },
    {
      "cell_type": "code",
      "metadata": {
        "id": "8s7NNNiRSiFG"
      },
      "source": [
        "mcPopCrime = mcPop.merge(mcCrime, on='Zip Code')\n",
        "mcPopCrime['Victims_per_100Residents'] = mcPopCrime['Victims'] / mcPopCrime['Population'] * 100"
      ],
      "execution_count": 30,
      "outputs": []
    },
    {
      "cell_type": "code",
      "metadata": {
        "id": "MsBgkT4beur0"
      },
      "source": [
        "summaries = {'Victims_per_100Residents': 'sum', 'PCTPOP65_': 'mean'}\n",
        "mcPopCrime_byZip = mcPopCrime.groupby('Zip Code').agg(summaries).reset_index()"
      ],
      "execution_count": 31,
      "outputs": []
    },
    {
      "cell_type": "markdown",
      "metadata": {
        "id": "j3-Bz10Il9mA"
      },
      "source": [
        "Compute the mean percent of age 65 or older."
      ]
    },
    {
      "cell_type": "code",
      "metadata": {
        "colab": {
          "base_uri": "https://localhost:8080/"
        },
        "id": "JA8l-HO4oCB3",
        "outputId": "f7e3e936-c0ee-4a7b-e53e-f342cf107be9"
      },
      "source": [
        "mean_percent_65up = mcPopCrime['PCTPOP65_'].mean()\n",
        "mean_percent_65up"
      ],
      "execution_count": 32,
      "outputs": [
        {
          "output_type": "execute_result",
          "data": {
            "text/plain": [
              "11.740988190550349"
            ]
          },
          "metadata": {
            "tags": []
          },
          "execution_count": 32
        }
      ]
    },
    {
      "cell_type": "markdown",
      "metadata": {
        "id": "sjGTZFVrhiTF"
      },
      "source": [
        "Visualize the number of victims per 100 residents and the percent of age 65 or older for any relationship with the horizontal line for the mean percent of age 65 or older."
      ]
    },
    {
      "cell_type": "code",
      "metadata": {
        "colab": {
          "base_uri": "https://localhost:8080/",
          "height": 444
        },
        "id": "XsQgjoyueqG5",
        "outputId": "62fcd70e-2f1b-450f-e5a7-07ca7faae873"
      },
      "source": [
        "fig, ax = plt.subplots(figsize=[14,6])\n",
        "\n",
        "sns.barplot(ax=ax, data=mcPopCrime_byZip, x='Zip Code', y='Victims_per_100Residents',\n",
        "              color='blue', ci=None, estimator=sum)\n",
        "ax1 = ax.twinx()\n",
        "fig = sns.pointplot(ax=ax1, data=mcPopCrime_byZip, x='Zip Code', y='PCTPOP65_', color='green',\n",
        "              ci=None, estimator=sum)\n",
        "fig.axhline(mean_percent_65up, color='green')\n",
        "\n",
        "ax.set_title('Victims per 100 Residents vs Percent of Pop 65+', size=20)\n",
        "#ax.set_xticks()\n",
        "ax.set_xticklabels(mcPopCrime_byZip['Zip Code'].unique(), rotation=60, size=12) #ax.get_xticklabels()\n",
        "ax.set_xlabel('Zip Code', size=15)\n",
        "ax.set_ylabel('Victims per 100 Residents', size=15, color='blue')\n",
        "ax1.set_ylabel('Percent of Pop 65+', size=15, color='green')\n",
        "\n",
        "plt.show()"
      ],
      "execution_count": 33,
      "outputs": [
        {
          "output_type": "display_data",
          "data": {
            "image/png": "[encoded data removed]",
            "text/plain": [
              "<Figure size 1008x432 with 2 Axes>"
            ]
          },
          "metadata": {
            "tags": [],
            "needs_background": "light"
          }
        }
      ]
    },
    {
      "cell_type": "markdown",
      "metadata": {
        "id": "xesR2mv0iJ2z"
      },
      "source": [
        "It looks like there is no pattern between Percent of Age 65+ and Victims per 100 Residents.  \n",
        "To check this observation, divide the points of Percent of Age 65+ and Victims per 100 Residents by their means."
      ]
    },
    {
      "cell_type": "code",
      "metadata": {
        "colab": {
          "base_uri": "https://localhost:8080/",
          "height": 409
        },
        "id": "nFVfNTJZRJ3K",
        "outputId": "d0fa3ca5-0fc3-4c85-b912-55378be17f5c"
      },
      "source": [
        "fig = sns.scatterplot(data=mcPopCrime_byZip, x='PCTPOP65_', y='Victims_per_100Residents', alpha=1)\n",
        "fig.axvline(mean_percent_65up, color='green')\n",
        "fig.axhline(mcPopCrime_byZip['Victims_per_100Residents'].mean(), color='blue')\n",
        "plt.title('Percent of Age 65+ vs Victims per 100 Residents', size=15)\n",
        "plt.xlabel('Percent of Age 65+', color='green', size=12)\n",
        "plt.ylabel('Victims per 100 Residents', color='blue', size=12)\n",
        "plt.show()"
      ],
      "execution_count": 34,
      "outputs": [
        {
          "output_type": "display_data",
          "data": {
            "image/png": "[encoded data removed]",
            "text/plain": [
              "<Figure size 864x432 with 1 Axes>"
            ]
          },
          "metadata": {
            "tags": [],
            "needs_background": "light"
          }
        }
      ]
    },
    {
      "cell_type": "markdown",
      "metadata": {
        "id": "ElwEBrtsmf9t"
      },
      "source": [
        "We will conduct a 2-sample t-test and construct a 95% confidence interval.  \n",
        "Divide the data into two datasets: percent of age 65 or older >= mean percent and percent of age 65 or older < mean percent."
      ]
    },
    {
      "cell_type": "code",
      "metadata": {
        "id": "BDasCzWJo07q"
      },
      "source": [
        "mcPopCrime_PopUp = mcPopCrime[mcPopCrime['PCTPOP65_'] >= mean_percent_65up]\n",
        "mcPopCrime_PopDown = mcPopCrime[mcPopCrime['PCTPOP65_'] < mean_percent_65up]"
      ],
      "execution_count": 35,
      "outputs": []
    },
    {
      "cell_type": "markdown",
      "metadata": {
        "id": "gSSgqJJTnEMM"
      },
      "source": [
        "Sample each dataset."
      ]
    },
    {
      "cell_type": "code",
      "metadata": {
        "id": "c4nj2J87sQOI"
      },
      "source": [
        "mcPopCrime_PopUp_sample = mcPopCrime_PopUp.sample(n=1000, random_state=12)\n",
        "mcPopCrime_PopDown_sample = mcPopCrime_PopDown.sample(n=1000, random_state=12)"
      ],
      "execution_count": 36,
      "outputs": []
    },
    {
      "cell_type": "markdown",
      "metadata": {
        "id": "KixIoGlSndF7"
      },
      "source": [
        "Group each dataset by Zip Codes."
      ]
    },
    {
      "cell_type": "code",
      "metadata": {
        "id": "FMYo-OwYTf-6"
      },
      "source": [
        "summaries = {'Victims_per_100Residents': 'sum'}\n",
        "mcPopCrime_PopUp_sample_byZip = mcPopCrime_PopUp_sample.groupby('Zip Code').agg(summaries).reset_index()\n",
        "mcPopCrime_PopDown_sample_byZip = mcPopCrime_PopDown_sample.groupby('Zip Code').agg(summaries).reset_index()"
      ],
      "execution_count": 37,
      "outputs": []
    },
    {
      "cell_type": "code",
      "metadata": {
        "colab": {
          "base_uri": "https://localhost:8080/"
        },
        "id": "5NvB3ORedXrm",
        "outputId": "bbc4de71-d3e9-4a7b-bda8-70c1b9d58bd2"
      },
      "source": [
        "mcPopCrime_PopUp_sample_byZip.shape, mcPopCrime_PopDown_sample_byZip.shape"
      ],
      "execution_count": 38,
      "outputs": [
        {
          "output_type": "execute_result",
          "data": {
            "text/plain": [
              "((19, 2), (20, 2))"
            ]
          },
          "metadata": {
            "tags": []
          },
          "execution_count": 38
        }
      ]
    },
    {
      "cell_type": "markdown",
      "metadata": {
        "id": "-U5kFjJeotXc"
      },
      "source": [
        "Check the distributions and variances."
      ]
    },
    {
      "cell_type": "code",
      "metadata": {
        "colab": {
          "base_uri": "https://localhost:8080/",
          "height": 361
        },
        "id": "I1bqwg3sX6XN",
        "outputId": "d91d5844-a04a-41a6-b5d1-9a71c33f403a"
      },
      "source": [
        "fig, ax = plt.subplots(1, 2, sharey=True)\n",
        "sns.boxplot(ax=ax[0], data=mcPopCrime_PopUp_sample_byZip, y='Victims_per_100Residents')\n",
        "sns.boxplot(ax=ax[1], data=mcPopCrime_PopDown_sample_byZip, y='Victims_per_100Residents')\n",
        "plt.show()"
      ],
      "execution_count": 39,
      "outputs": [
        {
          "output_type": "display_data",
          "data": {
            "image/png": "[encoded data removed]",
            "text/plain": [
              "<Figure size 864x432 with 2 Axes>"
            ]
          },
          "metadata": {
            "tags": [],
            "needs_background": "light"
          }
        }
      ]
    },
    {
      "cell_type": "markdown",
      "metadata": {
        "id": "mbVvdfFjoVGk"
      },
      "source": [
        "The sample sizes of the two datasets are less than 30. But their distributions are approximately normal and have roughly equal variances. So, use t-distributions for tests and confidence intervals."
      ]
    },
    {
      "cell_type": "markdown",
      "metadata": {
        "id": "yQsvqdV7pG2a"
      },
      "source": [
        "Conduct a 2-sample t-test for the difference of means."
      ]
    },
    {
      "cell_type": "code",
      "metadata": {
        "colab": {
          "base_uri": "https://localhost:8080/"
        },
        "id": "YLttZYmwse70",
        "outputId": "a4d6e218-b37f-4fd6-ccd0-b71de13837e2"
      },
      "source": [
        "stats.ttest_ind(mcPopCrime_PopUp_sample_byZip['Victims_per_100Residents'],\n",
        "                mcPopCrime_PopDown_sample_byZip['Victims_per_100Residents'], alternative='two-sided')"
      ],
      "execution_count": 40,
      "outputs": [
        {
          "output_type": "execute_result",
          "data": {
            "text/plain": [
              "Ttest_indResult(statistic=1.2992293408166677, pvalue=0.2019030751026267)"
            ]
          },
          "metadata": {
            "tags": []
          },
          "execution_count": 40
        }
      ]
    },
    {
      "cell_type": "markdown",
      "metadata": {
        "id": "pNJcaYr2rfLb"
      },
      "source": [
        "Since p-value is greater than 0.05, do not reject the null hypothesis. So, there is not enough evidence that the victims per 100 residents over zip codes between the two groups divided by the mean percent of age 65 or older differ from each other."
      ]
    },
    {
      "cell_type": "markdown",
      "metadata": {
        "id": "we_003omrm8c"
      },
      "source": [
        "Construct a 95% confidence interval for the mean difference of the numbers of victims per 100 residents."
      ]
    },
    {
      "cell_type": "code",
      "metadata": {
        "colab": {
          "base_uri": "https://localhost:8080/"
        },
        "id": "dErO9AXbg4HW",
        "outputId": "bb1823b5-ef8a-4448-c61d-ac883335d350"
      },
      "source": [
        "N1 = len(mcPopCrime_PopUp_sample_byZip)\n",
        "N2 = len(mcPopCrime_PopDown_sample_byZip)\n",
        "df = np.min([N1-1, N2-1])\n",
        "mean1 = mcPopCrime_PopUp_sample_byZip['Victims_per_100Residents'].mean()\n",
        "mean2 = mcPopCrime_PopDown_sample_byZip['Victims_per_100Residents'].mean()\n",
        "std1 = mcPopCrime_PopUp_sample_byZip['Victims_per_100Residents'].std()\n",
        "std2 = mcPopCrime_PopDown_sample_byZip['Victims_per_100Residents'].std()\n",
        "\n",
        "sample_stat = mean1 - mean2\n",
        "SE = sqrt((std1)**2 / N1 + (std2)**2 / N2)\n",
        "ME = stats.t.ppf(0.975, df) * SE\n",
        "\n",
        "print ('95% CI: ({:2.5f}, {:2.5f})'.format(sample_stat - ME, sample_stat + ME))"
      ],
      "execution_count": 41,
      "outputs": [
        {
          "output_type": "stream",
          "text": [
            "95% CI: (-0.02207, 0.09278)\n"
          ],
          "name": "stdout"
        }
      ]
    },
    {
      "cell_type": "markdown",
      "metadata": {
        "id": "ZZ9Hxrq5tMtZ"
      },
      "source": [
        "The confidence interval contains negative or positive numbers. Thus, we can conclude the same as the t-test."
      ]
    },
    {
      "cell_type": "markdown",
      "metadata": {
        "id": "r9ziGrJktZtg"
      },
      "source": [
        "## **Chi-square Test**  \n",
        "Is there evidence that the population of age 65 or older is associated with the amount of the county property tax?"
      ]
    },
    {
      "cell_type": "markdown",
      "metadata": {
        "id": "ezIHzr3K_bUZ"
      },
      "source": [
        "Merge two datasets mcPop and mcTax."
      ]
    },
    {
      "cell_type": "code",
      "metadata": {
        "id": "daF47I1Tt1wn"
      },
      "source": [
        "mcPopTax = mcPop.merge(mcTax, on='Zip Code')"
      ],
      "execution_count": 42,
      "outputs": []
    },
    {
      "cell_type": "markdown",
      "metadata": {
        "id": "VljmkqEOAygG"
      },
      "source": [
        "Create a categorical column for the county property tax by Up/Down from the average tax."
      ]
    },
    {
      "cell_type": "code",
      "metadata": {
        "id": "ZOjOIwHp14Zq"
      },
      "source": [
        "Avg_Tax = mcPopTax['COUNTY PROPERTY TAX'].mean()\n",
        "mcPopTax['Avgerage Tax UpDown'] = pd.cut(mcPopTax['COUNTY PROPERTY TAX'], bins=[-1, Avg_Tax -0.01, np.inf],\n",
        "                                         labels=['Down', 'Up'])"
      ],
      "execution_count": 43,
      "outputs": []
    },
    {
      "cell_type": "markdown",
      "metadata": {
        "id": "AGWwdFjGAtiG"
      },
      "source": [
        "Create a categorical column for the percent of age 65 or older by Up/Down from the average percent."
      ]
    },
    {
      "cell_type": "code",
      "metadata": {
        "id": "YGuzwjVv3UMt"
      },
      "source": [
        "mcPopTax['PCT_65up AboveBelow'] = pd.cut(mcPopTax['PCTPOP65_'], bins=[-1, mean_percent_65up -0.01, np.inf],\n",
        "                                          labels=['Below', 'Above'])"
      ],
      "execution_count": 44,
      "outputs": []
    },
    {
      "cell_type": "markdown",
      "metadata": {
        "id": "rCrRjT4VD2N7"
      },
      "source": [
        "Create a contingency table for the two columns."
      ]
    },
    {
      "cell_type": "code",
      "metadata": {
        "colab": {
          "base_uri": "https://localhost:8080/",
          "height": 173
        },
        "id": "D4HjNXGo5-_u",
        "outputId": "8f87431d-8b00-48b4-cf17-b8bade6a819c"
      },
      "source": [
        "table_tax_65 = pd.crosstab(mcPopTax['PCT_65up AboveBelow'], mcPopTax['Avgerage Tax UpDown'], margins=True)\n",
        "table_tax_65"
      ],
      "execution_count": 45,
      "outputs": [
        {
          "output_type": "execute_result",
          "data": {
            "text/html": [
              "<div>\n",
              "<style scoped>\n",
              "    .dataframe tbody tr th:only-of-type {\n",
              "        vertical-align: middle;\n",
              "    }\n",
              "\n",
              "    .dataframe tbody tr th {\n",
              "        vertical-align: top;\n",
              "    }\n",
              "\n",
              "    .dataframe thead th {\n",
              "        text-align: right;\n",
              "    }\n",
              "</style>\n",
              "<table border=\"1\" class=\"dataframe\">\n",
              "  <thead>\n",
              "    <tr style=\"text-align: right;\">\n",
              "      <th>Avgerage Tax UpDown</th>\n",
              "      <th>Down</th>\n",
              "      <th>Up</th>\n",
              "      <th>All</th>\n",
              "    </tr>\n",
              "    <tr>\n",
              "      <th>PCT_65up AboveBelow</th>\n",
              "      <th></th>\n",
              "      <th></th>\n",
              "      <th></th>\n",
              "    </tr>\n",
              "  </thead>\n",
              "  <tbody>\n",
              "    <tr>\n",
              "      <th>Below</th>\n",
              "      <td>137294</td>\n",
              "      <td>19140</td>\n",
              "      <td>156434</td>\n",
              "    </tr>\n",
              "    <tr>\n",
              "      <th>Above</th>\n",
              "      <td>94864</td>\n",
              "      <td>62692</td>\n",
              "      <td>157556</td>\n",
              "    </tr>\n",
              "    <tr>\n",
              "      <th>All</th>\n",
              "      <td>232158</td>\n",
              "      <td>81832</td>\n",
              "      <td>313990</td>\n",
              "    </tr>\n",
              "  </tbody>\n",
              "</table>\n",
              "</div>"
            ],
            "text/plain": [
              "Avgerage Tax UpDown    Down     Up     All\n",
              "PCT_65up AboveBelow                       \n",
              "Below                137294  19140  156434\n",
              "Above                 94864  62692  157556\n",
              "All                  232158  81832  313990"
            ]
          },
          "metadata": {
            "tags": []
          },
          "execution_count": 45
        }
      ]
    },
    {
      "cell_type": "markdown",
      "metadata": {
        "id": "mkYskNr_cuhz"
      },
      "source": [
        "Visualize the contingency table."
      ]
    },
    {
      "cell_type": "code",
      "metadata": {
        "colab": {
          "base_uri": "https://localhost:8080/",
          "height": 404
        },
        "id": "fyqSAdBxCuOo",
        "outputId": "35a98e45-b663-4bc4-9d98-5098829b6659"
      },
      "source": [
        "fig, ax = plt.subplots(figsize=[10,6])\n",
        "mosaic(mcPopTax, ['PCT_65up AboveBelow', 'Avgerage Tax UpDown'], \n",
        "       title='Percent of Age 65+ vs Avgerage Tax', ax=ax)\n",
        "ax.set_xlabel('Percent of Age 65+')\n",
        "ax.set_ylabel('Avgerage Tax')\n",
        "plt.show()"
      ],
      "execution_count": 46,
      "outputs": [
        {
          "output_type": "display_data",
          "data": {
            "image/png": "[encoded data removed]",
            "text/plain": [
              "<Figure size 720x432 with 3 Axes>"
            ]
          },
          "metadata": {
            "tags": [],
            "needs_background": "light"
          }
        }
      ]
    },
    {
      "cell_type": "markdown",
      "metadata": {
        "id": "P3def58tEGML"
      },
      "source": [
        "Conduct a chi-square test."
      ]
    },
    {
      "cell_type": "code",
      "metadata": {
        "colab": {
          "base_uri": "https://localhost:8080/"
        },
        "id": "sjcnMkDg6Lj0",
        "outputId": "20d4d793-95e6-4441-bf5a-aa86b7eb1e97"
      },
      "source": [
        "stats.chi2_contingency(table_tax_65)"
      ],
      "execution_count": 47,
      "outputs": [
        {
          "output_type": "execute_result",
          "data": {
            "text/plain": [
              "(30929.951078373335,\n",
              " 0.0,\n",
              " 4,\n",
              " array([[115664.20768814,  40769.79231186, 156434.        ],\n",
              "        [116493.79231186,  41062.20768814, 157556.        ],\n",
              "        [232158.        ,  81832.        , 313990.        ]]))"
            ]
          },
          "metadata": {
            "tags": []
          },
          "execution_count": 47
        }
      ]
    },
    {
      "cell_type": "markdown",
      "metadata": {
        "id": "TGwaAEUkFBkr"
      },
      "source": [
        "Every expected cell count is big, so the chi-square distribution is appropriate. Since p-value is 0, reject the null hypothesis. Thus, there is very strong evidence that the population of age 65 or older is associated with the amount of the county property tax."
      ]
    }
  ]
}