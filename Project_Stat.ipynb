{
  "nbformat": 4,
  "nbformat_minor": 0,
  "metadata": {
    "colab": {
      "name": "Project_Stat.ipynb",
      "provenance": [],
      "collapsed_sections": [
        "4tqbjohgOefi"
      ],
      "toc_visible": true,
      "mount_file_id": "1Ms3bYftlJloqVD81MqvyQ1bwi0rqIxdE",
      "authorship_tag": "ABX9TyMYpuo3BM1WClmbF4U3HSTQ",
      "include_colab_link": true
    },
    "kernelspec": {
      "display_name": "Python 3",
      "language": "python",
      "name": "python3"
    },
    "language_info": {
      "codemirror_mode": {
        "name": "ipython",
        "version": 3
      },
      "file_extension": ".py",
      "mimetype": "text/x-python",
      "name": "python",
      "nbconvert_exporter": "python",
      "pygments_lexer": "ipython3",
      "version": "3.8.3"
    }
  },
  "cells": [
    {
      "cell_type": "markdown",
      "metadata": {
        "id": "view-in-github",
        "colab_type": "text"
      },
      "source": [
        "<a href=\"https://colab.research.google.com/github/dspark0419/DATA-205/blob/main/Project_Stat.ipynb\" target=\"_parent\"><img src=\"https://colab.research.google.com/assets/colab-badge.svg\" alt=\"Open In Colab\"/></a>"
      ]
    },
    {
      "cell_type": "markdown",
      "metadata": {
        "id": "E2osGK3qeLBL"
      },
      "source": [
        "# **Import/Upgrade Libraries**"
      ]
    },
    {
      "cell_type": "code",
      "metadata": {
        "colab": {
          "base_uri": "https://localhost:8080/"
        },
        "id": "6aF_02hbIkuJ",
        "outputId": "89202216-993d-4092-d3a5-60ce0a99e06b"
      },
      "source": [
        "!python --version"
      ],
      "execution_count": 1,
      "outputs": [
        {
          "output_type": "stream",
          "text": [
            "Python 3.7.10\n"
          ],
          "name": "stdout"
        }
      ]
    },
    {
      "cell_type": "code",
      "metadata": {
        "id": "_kfm_hvtF7Ue"
      },
      "source": [
        "# hide outputs\n",
        "%%capture\n",
        "!pip install --upgrade numpy\n",
        "!pip install --upgrade pandas\n",
        "!pip install --upgrade matplotlib\n",
        "!pip install --upgrade seaborn\n",
        "!pip install --upgrade scipy\n",
        "!pip install --upgrade math"
      ],
      "execution_count": 2,
      "outputs": []
    },
    {
      "cell_type": "code",
      "metadata": {
        "id": "YZdFabAmFuRY"
      },
      "source": [
        "import numpy as np\n",
        "import pandas as pd\n",
        "import matplotlib.pyplot as plt\n",
        "import seaborn as sns\n",
        "from scipy import stats\n",
        "from scipy import random\n",
        "from math import sqrt"
      ],
      "execution_count": 3,
      "outputs": []
    },
    {
      "cell_type": "code",
      "metadata": {
        "id": "P5ac5fsBcV5w"
      },
      "source": [
        "%%capture\n",
        "!pip install --upgrade statsmodels\n",
        "\n",
        "from statsmodels.graphics.mosaicplot import mosaic"
      ],
      "execution_count": 4,
      "outputs": []
    },
    {
      "cell_type": "markdown",
      "metadata": {
        "id": "5y7SPSiMUrEZ"
      },
      "source": [
        "# **MC Census Data: mcPop**"
      ]
    },
    {
      "cell_type": "code",
      "metadata": {
        "id": "EE7sgN8CURad",
        "colab": {
          "base_uri": "https://localhost:8080/",
          "height": 0
        },
        "outputId": "0f1cf52a-4bbc-4eb2-a291-03b787ccac25"
      },
      "source": [
        "mcPop = pd.read_csv('mcPop.csv')\n",
        "mcPop.head()"
      ],
      "execution_count": 5,
      "outputs": [
        {
          "output_type": "execute_result",
          "data": {
            "text/html": [
              "<div>\n",
              "<style scoped>\n",
              "    .dataframe tbody tr th:only-of-type {\n",
              "        vertical-align: middle;\n",
              "    }\n",
              "\n",
              "    .dataframe tbody tr th {\n",
              "        vertical-align: top;\n",
              "    }\n",
              "\n",
              "    .dataframe thead th {\n",
              "        text-align: right;\n",
              "    }\n",
              "</style>\n",
              "<table border=\"1\" class=\"dataframe\">\n",
              "  <thead>\n",
              "    <tr style=\"text-align: right;\">\n",
              "      <th></th>\n",
              "      <th>Unnamed: 0</th>\n",
              "      <th>Zip Code</th>\n",
              "      <th>AREALAND</th>\n",
              "      <th>AREAWATR</th>\n",
              "      <th>Population</th>\n",
              "      <th>HU100</th>\n",
              "      <th>NH White</th>\n",
              "      <th>NH Black</th>\n",
              "      <th>NH American Indian</th>\n",
              "      <th>NH Asian</th>\n",
              "      <th>NH Native Hawaiian</th>\n",
              "      <th>NH Other</th>\n",
              "      <th>NHT</th>\n",
              "      <th>Hispanic</th>\n",
              "      <th>PNHW</th>\n",
              "      <th>PNHB</th>\n",
              "      <th>PNHAI</th>\n",
              "      <th>PNHA</th>\n",
              "      <th>PNHNH</th>\n",
              "      <th>PNHO</th>\n",
              "      <th>PNHT</th>\n",
              "      <th>PHISP</th>\n",
              "      <th>Pop 65+</th>\n",
              "      <th>PCTPOP65_</th>\n",
              "      <th>Shape_Area</th>\n",
              "    </tr>\n",
              "  </thead>\n",
              "  <tbody>\n",
              "    <tr>\n",
              "      <th>0</th>\n",
              "      <td>62</td>\n",
              "      <td>20707</td>\n",
              "      <td>28896187</td>\n",
              "      <td>481328</td>\n",
              "      <td>31538</td>\n",
              "      <td>13576</td>\n",
              "      <td>9599</td>\n",
              "      <td>13425</td>\n",
              "      <td>72</td>\n",
              "      <td>2849</td>\n",
              "      <td>15</td>\n",
              "      <td>111</td>\n",
              "      <td>796</td>\n",
              "      <td>4671</td>\n",
              "      <td>30.4</td>\n",
              "      <td>42.6</td>\n",
              "      <td>0.2</td>\n",
              "      <td>9.0</td>\n",
              "      <td>0.0</td>\n",
              "      <td>0.4</td>\n",
              "      <td>2.5</td>\n",
              "      <td>14.8</td>\n",
              "      <td>2998</td>\n",
              "      <td>9.5</td>\n",
              "      <td>4.827461e+07</td>\n",
              "    </tr>\n",
              "    <tr>\n",
              "      <th>1</th>\n",
              "      <td>102</td>\n",
              "      <td>20777</td>\n",
              "      <td>19568844</td>\n",
              "      <td>110664</td>\n",
              "      <td>3314</td>\n",
              "      <td>1111</td>\n",
              "      <td>2692</td>\n",
              "      <td>155</td>\n",
              "      <td>10</td>\n",
              "      <td>274</td>\n",
              "      <td>2</td>\n",
              "      <td>2</td>\n",
              "      <td>79</td>\n",
              "      <td>100</td>\n",
              "      <td>81.2</td>\n",
              "      <td>4.7</td>\n",
              "      <td>0.3</td>\n",
              "      <td>8.3</td>\n",
              "      <td>0.1</td>\n",
              "      <td>0.1</td>\n",
              "      <td>2.4</td>\n",
              "      <td>3.0</td>\n",
              "      <td>428</td>\n",
              "      <td>12.9</td>\n",
              "      <td>3.274726e+07</td>\n",
              "    </tr>\n",
              "    <tr>\n",
              "      <th>2</th>\n",
              "      <td>111</td>\n",
              "      <td>20812</td>\n",
              "      <td>496734</td>\n",
              "      <td>371058</td>\n",
              "      <td>255</td>\n",
              "      <td>100</td>\n",
              "      <td>230</td>\n",
              "      <td>3</td>\n",
              "      <td>0</td>\n",
              "      <td>6</td>\n",
              "      <td>0</td>\n",
              "      <td>0</td>\n",
              "      <td>6</td>\n",
              "      <td>10</td>\n",
              "      <td>90.2</td>\n",
              "      <td>1.2</td>\n",
              "      <td>0.0</td>\n",
              "      <td>2.4</td>\n",
              "      <td>0.0</td>\n",
              "      <td>0.0</td>\n",
              "      <td>2.4</td>\n",
              "      <td>3.9</td>\n",
              "      <td>33</td>\n",
              "      <td>12.9</td>\n",
              "      <td>1.437529e+06</td>\n",
              "    </tr>\n",
              "    <tr>\n",
              "      <th>3</th>\n",
              "      <td>112</td>\n",
              "      <td>20814</td>\n",
              "      <td>13166146</td>\n",
              "      <td>52953</td>\n",
              "      <td>27642</td>\n",
              "      <td>14103</td>\n",
              "      <td>21021</td>\n",
              "      <td>1134</td>\n",
              "      <td>34</td>\n",
              "      <td>2572</td>\n",
              "      <td>20</td>\n",
              "      <td>74</td>\n",
              "      <td>695</td>\n",
              "      <td>2092</td>\n",
              "      <td>76.0</td>\n",
              "      <td>4.1</td>\n",
              "      <td>0.1</td>\n",
              "      <td>9.3</td>\n",
              "      <td>0.1</td>\n",
              "      <td>0.3</td>\n",
              "      <td>2.5</td>\n",
              "      <td>7.6</td>\n",
              "      <td>4508</td>\n",
              "      <td>16.3</td>\n",
              "      <td>2.192136e+07</td>\n",
              "    </tr>\n",
              "    <tr>\n",
              "      <th>4</th>\n",
              "      <td>113</td>\n",
              "      <td>20815</td>\n",
              "      <td>14066048</td>\n",
              "      <td>35097</td>\n",
              "      <td>29082</td>\n",
              "      <td>13850</td>\n",
              "      <td>23357</td>\n",
              "      <td>1256</td>\n",
              "      <td>28</td>\n",
              "      <td>1804</td>\n",
              "      <td>13</td>\n",
              "      <td>90</td>\n",
              "      <td>702</td>\n",
              "      <td>1832</td>\n",
              "      <td>80.3</td>\n",
              "      <td>4.3</td>\n",
              "      <td>0.1</td>\n",
              "      <td>6.2</td>\n",
              "      <td>0.0</td>\n",
              "      <td>0.3</td>\n",
              "      <td>2.4</td>\n",
              "      <td>6.3</td>\n",
              "      <td>6002</td>\n",
              "      <td>20.6</td>\n",
              "      <td>2.337013e+07</td>\n",
              "    </tr>\n",
              "  </tbody>\n",
              "</table>\n",
              "</div>"
            ],
            "text/plain": [
              "   Unnamed: 0  Zip Code  AREALAND  ...  Pop 65+  PCTPOP65_    Shape_Area\n",
              "0          62     20707  28896187  ...     2998        9.5  4.827461e+07\n",
              "1         102     20777  19568844  ...      428       12.9  3.274726e+07\n",
              "2         111     20812    496734  ...       33       12.9  1.437529e+06\n",
              "3         112     20814  13166146  ...     4508       16.3  2.192136e+07\n",
              "4         113     20815  14066048  ...     6002       20.6  2.337013e+07\n",
              "\n",
              "[5 rows x 25 columns]"
            ]
          },
          "metadata": {
            "tags": []
          },
          "execution_count": 5
        }
      ]
    },
    {
      "cell_type": "markdown",
      "metadata": {
        "id": "_cE5XiFtBnXR"
      },
      "source": [
        "Drop unnamed columns"
      ]
    },
    {
      "cell_type": "code",
      "metadata": {
        "id": "vMTr7aXPA-zf"
      },
      "source": [
        "mcPop = mcPop.loc[:, ~mcPop.columns.str.contains('^Unnamed')]"
      ],
      "execution_count": 6,
      "outputs": []
    },
    {
      "cell_type": "code",
      "metadata": {
        "id": "puwKjR3MYWbj"
      },
      "source": [
        "std_zip = mcPop['Zip Code'].unique()"
      ],
      "execution_count": 7,
      "outputs": []
    },
    {
      "cell_type": "markdown",
      "metadata": {
        "id": "zLUJeCeRClD5"
      },
      "source": [
        "# **MC Real Property Tax Data: mcTax**"
      ]
    },
    {
      "cell_type": "code",
      "metadata": {
        "colab": {
          "base_uri": "https://localhost:8080/",
          "height": 0
        },
        "id": "Er5bi25sCxdx",
        "outputId": "ffebada9-ca65-4fce-9653-a2cdfd18e81a"
      },
      "source": [
        "mcTax = pd.read_csv('mcTax.csv')\n",
        "mcTax.head()"
      ],
      "execution_count": 8,
      "outputs": [
        {
          "output_type": "execute_result",
          "data": {
            "text/html": [
              "<div>\n",
              "<style scoped>\n",
              "    .dataframe tbody tr th:only-of-type {\n",
              "        vertical-align: middle;\n",
              "    }\n",
              "\n",
              "    .dataframe tbody tr th {\n",
              "        vertical-align: top;\n",
              "    }\n",
              "\n",
              "    .dataframe thead th {\n",
              "        text-align: right;\n",
              "    }\n",
              "</style>\n",
              "<table border=\"1\" class=\"dataframe\">\n",
              "  <thead>\n",
              "    <tr style=\"text-align: right;\">\n",
              "      <th></th>\n",
              "      <th>Unnamed: 0</th>\n",
              "      <th>Zip Code</th>\n",
              "      <th>RESIDENCE</th>\n",
              "      <th>ASSESSMENT</th>\n",
              "      <th>COUNTY PROPERTY TAX</th>\n",
              "      <th>COUNTY PROPERTY TAX Percent</th>\n",
              "    </tr>\n",
              "  </thead>\n",
              "  <tbody>\n",
              "    <tr>\n",
              "      <th>0</th>\n",
              "      <td>35</td>\n",
              "      <td>20872</td>\n",
              "      <td>PRINCIPAL RESIDENCE</td>\n",
              "      <td>499833</td>\n",
              "      <td>4954.35</td>\n",
              "      <td>0.991201</td>\n",
              "    </tr>\n",
              "    <tr>\n",
              "      <th>1</th>\n",
              "      <td>40</td>\n",
              "      <td>20872</td>\n",
              "      <td>PRINCIPAL RESIDENCE</td>\n",
              "      <td>404467</td>\n",
              "      <td>4009.08</td>\n",
              "      <td>0.991201</td>\n",
              "    </tr>\n",
              "    <tr>\n",
              "      <th>2</th>\n",
              "      <td>47</td>\n",
              "      <td>20906</td>\n",
              "      <td>NOT A PRINCIPAL RESIDENCE</td>\n",
              "      <td>339000</td>\n",
              "      <td>3360.16</td>\n",
              "      <td>0.991198</td>\n",
              "    </tr>\n",
              "    <tr>\n",
              "      <th>3</th>\n",
              "      <td>52</td>\n",
              "      <td>20902</td>\n",
              "      <td>PRINCIPAL RESIDENCE</td>\n",
              "      <td>405467</td>\n",
              "      <td>4018.97</td>\n",
              "      <td>0.991195</td>\n",
              "    </tr>\n",
              "    <tr>\n",
              "      <th>4</th>\n",
              "      <td>56</td>\n",
              "      <td>20902</td>\n",
              "      <td>PRINCIPAL RESIDENCE</td>\n",
              "      <td>359633</td>\n",
              "      <td>3564.69</td>\n",
              "      <td>0.991202</td>\n",
              "    </tr>\n",
              "  </tbody>\n",
              "</table>\n",
              "</div>"
            ],
            "text/plain": [
              "   Unnamed: 0  Zip Code  ... COUNTY PROPERTY TAX  COUNTY PROPERTY TAX Percent\n",
              "0          35     20872  ...             4954.35                     0.991201\n",
              "1          40     20872  ...             4009.08                     0.991201\n",
              "2          47     20906  ...             3360.16                     0.991198\n",
              "3          52     20902  ...             4018.97                     0.991195\n",
              "4          56     20902  ...             3564.69                     0.991202\n",
              "\n",
              "[5 rows x 6 columns]"
            ]
          },
          "metadata": {
            "tags": []
          },
          "execution_count": 8
        }
      ]
    },
    {
      "cell_type": "code",
      "metadata": {
        "id": "gcjit4kNDNCu"
      },
      "source": [
        "mcTax = mcTax.loc[:, ~mcTax.columns.str.contains('^Unnamed')]"
      ],
      "execution_count": 9,
      "outputs": []
    },
    {
      "cell_type": "markdown",
      "metadata": {
        "id": "xXN-otcEDOlA"
      },
      "source": [
        "# **MC Crime Data: mcCrime**"
      ]
    },
    {
      "cell_type": "code",
      "metadata": {
        "colab": {
          "base_uri": "https://localhost:8080/",
          "height": 0
        },
        "id": "uB7vuPgkDli-",
        "outputId": "1d0edbe1-e65a-494c-ee86-1ed6a690d08c"
      },
      "source": [
        "mcCrime = pd.read_csv('mcCrime.csv')\n",
        "mcCrime.head()"
      ],
      "execution_count": 10,
      "outputs": [
        {
          "output_type": "execute_result",
          "data": {
            "text/html": [
              "<div>\n",
              "<style scoped>\n",
              "    .dataframe tbody tr th:only-of-type {\n",
              "        vertical-align: middle;\n",
              "    }\n",
              "\n",
              "    .dataframe tbody tr th {\n",
              "        vertical-align: top;\n",
              "    }\n",
              "\n",
              "    .dataframe thead th {\n",
              "        text-align: right;\n",
              "    }\n",
              "</style>\n",
              "<table border=\"1\" class=\"dataframe\">\n",
              "  <thead>\n",
              "    <tr style=\"text-align: right;\">\n",
              "      <th></th>\n",
              "      <th>Unnamed: 0</th>\n",
              "      <th>Victims</th>\n",
              "      <th>Crime Name1</th>\n",
              "      <th>Crime Name2</th>\n",
              "      <th>Crime Name3</th>\n",
              "      <th>Zip Code</th>\n",
              "      <th>Start_Date_Time</th>\n",
              "      <th>Year</th>\n",
              "    </tr>\n",
              "  </thead>\n",
              "  <tbody>\n",
              "    <tr>\n",
              "      <th>0</th>\n",
              "      <td>0</td>\n",
              "      <td>1</td>\n",
              "      <td>Crime Against Property</td>\n",
              "      <td>Burglary/Breaking and Entering</td>\n",
              "      <td>BURGLARY - NO FORCED ENTRY-RESIDENTIAL</td>\n",
              "      <td>20816</td>\n",
              "      <td>03/18/2020 09:00:00 PM</td>\n",
              "      <td>2020</td>\n",
              "    </tr>\n",
              "    <tr>\n",
              "      <th>1</th>\n",
              "      <td>1</td>\n",
              "      <td>1</td>\n",
              "      <td>Other</td>\n",
              "      <td>All Other Offenses</td>\n",
              "      <td>POLICE INFORMATION</td>\n",
              "      <td>20872</td>\n",
              "      <td>03/19/2020 01:00:00 PM</td>\n",
              "      <td>2020</td>\n",
              "    </tr>\n",
              "    <tr>\n",
              "      <th>2</th>\n",
              "      <td>2</td>\n",
              "      <td>1</td>\n",
              "      <td>Crime Against Property</td>\n",
              "      <td>Shoplifting</td>\n",
              "      <td>LARCENY - SHOPLIFTING</td>\n",
              "      <td>20876</td>\n",
              "      <td>08/19/2020 06:30:00 PM</td>\n",
              "      <td>2020</td>\n",
              "    </tr>\n",
              "    <tr>\n",
              "      <th>3</th>\n",
              "      <td>3</td>\n",
              "      <td>1</td>\n",
              "      <td>Crime Against Property</td>\n",
              "      <td>Embezzlement</td>\n",
              "      <td>EMBEZZLE (DESCRIBE OFFENSE)</td>\n",
              "      <td>20860</td>\n",
              "      <td>11/02/2018 03:34:00 PM</td>\n",
              "      <td>2018</td>\n",
              "    </tr>\n",
              "    <tr>\n",
              "      <th>4</th>\n",
              "      <td>4</td>\n",
              "      <td>1</td>\n",
              "      <td>Crime Against Society</td>\n",
              "      <td>All Other Offenses</td>\n",
              "      <td>SEX OFFENSE - FAILURE TO REGISTER AS A SEX OFF...</td>\n",
              "      <td>20878</td>\n",
              "      <td>11/02/2018 12:00:00 AM</td>\n",
              "      <td>2018</td>\n",
              "    </tr>\n",
              "  </tbody>\n",
              "</table>\n",
              "</div>"
            ],
            "text/plain": [
              "   Unnamed: 0  Victims  ...         Start_Date_Time  Year\n",
              "0           0        1  ...  03/18/2020 09:00:00 PM  2020\n",
              "1           1        1  ...  03/19/2020 01:00:00 PM  2020\n",
              "2           2        1  ...  08/19/2020 06:30:00 PM  2020\n",
              "3           3        1  ...  11/02/2018 03:34:00 PM  2018\n",
              "4           4        1  ...  11/02/2018 12:00:00 AM  2018\n",
              "\n",
              "[5 rows x 8 columns]"
            ]
          },
          "metadata": {
            "tags": []
          },
          "execution_count": 10
        }
      ]
    },
    {
      "cell_type": "code",
      "metadata": {
        "id": "AtKpJNFWD45G"
      },
      "source": [
        "mcCrime = mcCrime.loc[:, ~mcCrime.columns.str.contains('^Unnamed')]"
      ],
      "execution_count": 11,
      "outputs": []
    },
    {
      "cell_type": "markdown",
      "metadata": {
        "id": "4tqbjohgOefi"
      },
      "source": [
        "# **Statistical Analysis**"
      ]
    },
    {
      "cell_type": "code",
      "metadata": {
        "id": "AaJWNzfGcVEr"
      },
      "source": [
        "plt.rcParams['figure.figsize'] = (12, 6) # global fugure size"
      ],
      "execution_count": 12,
      "outputs": []
    },
    {
      "cell_type": "markdown",
      "metadata": {
        "id": "gxO-iCThEK9C"
      },
      "source": [
        "## **Confidence Interval and t-Test for Mean mcTax**"
      ]
    },
    {
      "cell_type": "markdown",
      "metadata": {
        "id": "cJv30GynMhvu"
      },
      "source": [
        "Obtain the statistical description of the county property tax."
      ]
    },
    {
      "cell_type": "code",
      "metadata": {
        "colab": {
          "base_uri": "https://localhost:8080/"
        },
        "id": "jkng2ELlIjJL",
        "outputId": "67e27e3b-a030-4d28-e0b2-4df9a58a17a7"
      },
      "source": [
        "mcTax['COUNTY PROPERTY TAX'].describe()"
      ],
      "execution_count": 13,
      "outputs": [
        {
          "output_type": "execute_result",
          "data": {
            "text/plain": [
              "count    3.139900e+05\n",
              "mean     5.906543e+03\n",
              "std      2.601276e+04\n",
              "min      8.800000e-01\n",
              "25%      2.728460e+03\n",
              "50%      3.966790e+03\n",
              "75%      6.030425e+03\n",
              "max      4.833150e+06\n",
              "Name: COUNTY PROPERTY TAX, dtype: float64"
            ]
          },
          "metadata": {
            "tags": []
          },
          "execution_count": 13
        }
      ]
    },
    {
      "cell_type": "markdown",
      "metadata": {
        "id": "AX5afVmOf_bS"
      },
      "source": [
        "Visualize the mean property tax for each zip code with the horizontal line for the mean county property tax."
      ]
    },
    {
      "cell_type": "code",
      "metadata": {
        "colab": {
          "base_uri": "https://localhost:8080/",
          "height": 0
        },
        "id": "sik4L5MxdkGj",
        "outputId": "d2f82df3-af15-4bd0-d08b-da7381978bf6"
      },
      "source": [
        "fig = sns.barplot(data=mcTax, x='Zip Code', y='COUNTY PROPERTY TAX', ci=None)\n",
        "fig.axhline(mcTax['COUNTY PROPERTY TAX'].mean(), color='blue')\n",
        "plt.title('Average Property Tax over Zip Code', size=20)\n",
        "plt.xticks(rotation=60, size=11)\n",
        "plt.xlabel('Zip Code', size=15)\n",
        "plt.ylabel('Average Property Tax', size=15)\n",
        "plt.show()"
      ],
      "execution_count": 14,
      "outputs": [
        {
          "output_type": "display_data",
          "data": {
            "image/png": "[encoded data removed]",
            "text/plain": [
              "<Figure size 864x432 with 1 Axes>"
            ]
          },
          "metadata": {
            "tags": [],
            "needs_background": "light"
          }
        }
      ]
    },
    {
      "cell_type": "code",
      "metadata": {
        "colab": {
          "base_uri": "https://localhost:8080/",
          "height": 0
        },
        "id": "RYqogp63aPMW",
        "outputId": "f622334f-43fc-4bf1-eb69-3b42bbe94ad6"
      },
      "source": [
        "sns.boxplot(x=mcTax['COUNTY PROPERTY TAX'])\n",
        "plt.show()"
      ],
      "execution_count": 15,
      "outputs": [
        {
          "output_type": "display_data",
          "data": {
            "image/png": "[encoded data removed]",
            "text/plain": [
              "<Figure size 864x432 with 1 Axes>"
            ]
          },
          "metadata": {
            "tags": [],
            "needs_background": "light"
          }
        }
      ]
    },
    {
      "cell_type": "markdown",
      "metadata": {
        "id": "KIje10dldY42"
      },
      "source": [
        "The data is NOT normally distributed and is heavily skewed to the right.  \n",
        "Find the 95% interval in the middle of the data."
      ]
    },
    {
      "cell_type": "code",
      "metadata": {
        "colab": {
          "base_uri": "https://localhost:8080/"
        },
        "id": "C-T4HfTqb053",
        "outputId": "f35ab23e-fe2f-4a5d-e354-8f3242d0c69d"
      },
      "source": [
        "np.percentile(mcTax['COUNTY PROPERTY TAX'], [2.5, 97.5])"
      ],
      "execution_count": 16,
      "outputs": [
        {
          "output_type": "execute_result",
          "data": {
            "text/plain": [
              "array([  148.68  , 15797.2715])"
            ]
          },
          "metadata": {
            "tags": []
          },
          "execution_count": 16
        }
      ]
    },
    {
      "cell_type": "markdown",
      "metadata": {
        "id": "S4nXL8JfDRbz"
      },
      "source": [
        "Sample the data and compute the sample mean of the county property tax."
      ]
    },
    {
      "cell_type": "code",
      "metadata": {
        "colab": {
          "base_uri": "https://localhost:8080/"
        },
        "id": "u97U9xTfq1QX",
        "outputId": "cf0b8dfc-e24c-4ba1-ce7d-479fa8955753"
      },
      "source": [
        "mcTax_sample = mcTax.sample(n=1000, random_state=12)\n",
        "tax_sample = mcTax_sample['COUNTY PROPERTY TAX']\n",
        "sample_mean = tax_sample.mean()\n",
        "sample_mean"
      ],
      "execution_count": 17,
      "outputs": [
        {
          "output_type": "execute_result",
          "data": {
            "text/plain": [
              "5513.273830000002"
            ]
          },
          "metadata": {
            "tags": []
          },
          "execution_count": 17
        }
      ]
    },
    {
      "cell_type": "code",
      "metadata": {
        "colab": {
          "base_uri": "https://localhost:8080/",
          "height": 0
        },
        "id": "DF34GGoqrG5I",
        "outputId": "9296cb6f-0149-4d3d-d77c-e8dd9a8e99b6"
      },
      "source": [
        "sns.boxplot(x=tax_sample)\n",
        "plt.show()"
      ],
      "execution_count": 18,
      "outputs": [
        {
          "output_type": "display_data",
          "data": {
            "image/png": "[encoded data removed]",
            "text/plain": [
              "<Figure size 864x432 with 1 Axes>"
            ]
          },
          "metadata": {
            "tags": [],
            "needs_background": "light"
          }
        }
      ]
    },
    {
      "cell_type": "markdown",
      "metadata": {
        "id": "kJnwAp8GDCED"
      },
      "source": [
        "The distribution for the county property tax is heavily skewed to the right. But a t-test is robust to normality.  \n",
        "Construct a 95% confidence interval for the mean county property tax using a t-distribution."
      ]
    },
    {
      "cell_type": "code",
      "metadata": {
        "colab": {
          "base_uri": "https://localhost:8080/"
        },
        "id": "gufHGgAxr6Z8",
        "outputId": "168f7f26-1cdf-46d9-cc8c-c4c7cca94247"
      },
      "source": [
        "stats.t.interval(0.95, df=len(tax_sample)-1, loc=np.mean(tax_sample), scale=stats.sem(tax_sample))"
      ],
      "execution_count": 19,
      "outputs": [
        {
          "output_type": "execute_result",
          "data": {
            "text/plain": [
              "(4907.982766427346, 6118.564893572658)"
            ]
          },
          "metadata": {
            "tags": []
          },
          "execution_count": 19
        }
      ]
    },
    {
      "cell_type": "code",
      "metadata": {
        "colab": {
          "base_uri": "https://localhost:8080/"
        },
        "id": "tWycbVm8utLf",
        "outputId": "8a95f0c5-0157-44bb-e815-8e7f0b07043d"
      },
      "source": [
        "sample_mean, np.mean(mcTax['COUNTY PROPERTY TAX'])"
      ],
      "execution_count": 20,
      "outputs": [
        {
          "output_type": "execute_result",
          "data": {
            "text/plain": [
              "(5513.273830000002, 5906.54275776238)"
            ]
          },
          "metadata": {
            "tags": []
          },
          "execution_count": 20
        }
      ]
    },
    {
      "cell_type": "markdown",
      "metadata": {
        "id": "eeJfDWjSDMbv"
      },
      "source": [
        "We are 95% sure that the mean county property tax is between 4908.0 and 6118.6. Since the true mean county property tax is 5906.5, it is contained in the CI. Thus, we mostly expect that p-values in two-tailed hypothesis tests should be greater than 0.05 not to reject the null hypothesis."
      ]
    },
    {
      "cell_type": "markdown",
      "metadata": {
        "id": "BaxZXs28GkMv"
      },
      "source": [
        "Conduct a right-tailed hypothesis test for the mean county property tax."
      ]
    },
    {
      "cell_type": "code",
      "metadata": {
        "colab": {
          "base_uri": "https://localhost:8080/"
        },
        "id": "VqUZsTigtSo7",
        "outputId": "fe68e381-31fd-414b-9381-fcdb3b6810bd"
      },
      "source": [
        "stats.ttest_1samp(tax_sample, np.mean(mcTax['COUNTY PROPERTY TAX']), alternative='two-sided')"
      ],
      "execution_count": 21,
      "outputs": [
        {
          "output_type": "execute_result",
          "data": {
            "text/plain": [
              "Ttest_1sampResult(statistic=-1.2749699586981902, pvalue=0.20261631451575718)"
            ]
          },
          "metadata": {
            "tags": []
          },
          "execution_count": 21
        }
      ]
    },
    {
      "cell_type": "markdown",
      "metadata": {
        "id": "J-sAi6V3H8rF"
      },
      "source": [
        "Since p-value is greater than 0.05, we must not reject the null hypothesis. There is not enough evidence that the mean county property tax differs from 5906.5, the true mean county property tax."
      ]
    },
    {
      "cell_type": "markdown",
      "metadata": {
        "id": "f9nVI_dLnPpI"
      },
      "source": [
        "## **Confidence Interval and 2-Sample t-Test for means of victims per 100 residents based on Pop 65+**"
      ]
    },
    {
      "cell_type": "markdown",
      "metadata": {
        "id": "cVjYnThvlZdX"
      },
      "source": [
        "Merge two datasets mcPop and mcCrime.  \n",
        "Create a column for the numbers of victims per 100 residents."
      ]
    },
    {
      "cell_type": "code",
      "metadata": {
        "id": "8s7NNNiRSiFG"
      },
      "source": [
        "mcPopCrime = mcPop.merge(mcCrime, on='Zip Code')\n",
        "mcPopCrime['Victims_per_100Residents'] = mcPopCrime['Victims'] / mcPopCrime['Population'] * 100"
      ],
      "execution_count": 22,
      "outputs": []
    },
    {
      "cell_type": "code",
      "metadata": {
        "id": "MsBgkT4beur0"
      },
      "source": [
        "summaries = {'Victims_per_100Residents': 'sum', 'PCTPOP65_': 'mean'}\n",
        "mcPopCrime_byZip = mcPopCrime.groupby('Zip Code').agg(summaries).reset_index()"
      ],
      "execution_count": 23,
      "outputs": []
    },
    {
      "cell_type": "markdown",
      "metadata": {
        "id": "j3-Bz10Il9mA"
      },
      "source": [
        "Compute the mean percent of age 65 or older."
      ]
    },
    {
      "cell_type": "code",
      "metadata": {
        "colab": {
          "base_uri": "https://localhost:8080/"
        },
        "id": "JA8l-HO4oCB3",
        "outputId": "949b8daf-10ee-48be-fd8f-109664eb7ece"
      },
      "source": [
        "mean_percent_65up = mcPopCrime['PCTPOP65_'].mean()\n",
        "mean_percent_65up"
      ],
      "execution_count": 24,
      "outputs": [
        {
          "output_type": "execute_result",
          "data": {
            "text/plain": [
              "11.740988190550349"
            ]
          },
          "metadata": {
            "tags": []
          },
          "execution_count": 24
        }
      ]
    },
    {
      "cell_type": "markdown",
      "metadata": {
        "id": "sjGTZFVrhiTF"
      },
      "source": [
        "Visualize the number of victims per 100 residents and the percent of age 65 or older for any relationship with the horizontal line for the mean percent of age 65 or older."
      ]
    },
    {
      "cell_type": "code",
      "metadata": {
        "colab": {
          "base_uri": "https://localhost:8080/",
          "height": 0
        },
        "id": "XsQgjoyueqG5",
        "outputId": "e3e9a832-4b63-4487-ff90-ce975de6753c"
      },
      "source": [
        "fig, ax = plt.subplots(figsize=[14,6])\n",
        "\n",
        "sns.barplot(ax=ax, data=mcPopCrime_byZip, x='Zip Code', y='Victims_per_100Residents',\n",
        "              color='blue', ci=None, estimator=sum)\n",
        "ax1 = ax.twinx()\n",
        "fig = sns.pointplot(ax=ax1, data=mcPopCrime_byZip, x='Zip Code', y='PCTPOP65_', color='green',\n",
        "              ci=None, estimator=sum)\n",
        "fig.axhline(mean_percent_65up, color='green')\n",
        "\n",
        "ax.set_title('Victims per 100 Residents vs Percent of Pop 65+', size=20)\n",
        "#ax.set_xticks()\n",
        "ax.set_xticklabels(mcPopCrime_byZip['Zip Code'].unique(), rotation=60, size=12) #ax.get_xticklabels()\n",
        "ax.set_xlabel('Zip Code', size=15)\n",
        "ax.set_ylabel('Victims per 100 Residents', size=15, color='blue')\n",
        "ax1.set_ylabel('Percent of Pop 65+', size=15, color='green')\n",
        "\n",
        "plt.show()"
      ],
      "execution_count": 25,
      "outputs": [
        {
          "output_type": "display_data",
          "data": {
            "image/png": "[encoded data removed]",
            "text/plain": [
              "<Figure size 1008x432 with 2 Axes>"
            ]
          },
          "metadata": {
            "tags": [],
            "needs_background": "light"
          }
        }
      ]
    },
    {
      "cell_type": "markdown",
      "metadata": {
        "id": "xesR2mv0iJ2z"
      },
      "source": [
        "It looks like there is no pattern between Percent of Age 65+ and Victims per 100 Residents.  \n",
        "To check this observation, divide the points of Percent of Age 65+ and Victims per 100 Residents by their means."
      ]
    },
    {
      "cell_type": "code",
      "metadata": {
        "colab": {
          "base_uri": "https://localhost:8080/",
          "height": 0
        },
        "id": "nFVfNTJZRJ3K",
        "outputId": "809944f2-b1ec-4ade-8cf9-712e434ae218"
      },
      "source": [
        "fig = sns.scatterplot(data=mcPopCrime_byZip, x='PCTPOP65_', y='Victims_per_100Residents')\n",
        "fig.axvline(mean_percent_65up, color='green')\n",
        "fig.axhline(mcPopCrime_byZip['Victims_per_100Residents'].mean(), color='red')\n",
        "plt.xlabel('Percent of Age 65+', color='green', size=12)\n",
        "plt.ylabel('Victims per 100 Residents', color='red', size=12)\n",
        "plt.show()"
      ],
      "execution_count": 26,
      "outputs": [
        {
          "output_type": "display_data",
          "data": {
            "image/png": "[encoded data removed]",
            "text/plain": [
              "<Figure size 864x432 with 1 Axes>"
            ]
          },
          "metadata": {
            "tags": [],
            "needs_background": "light"
          }
        }
      ]
    },
    {
      "cell_type": "markdown",
      "metadata": {
        "id": "ElwEBrtsmf9t"
      },
      "source": [
        "We will conduct a 2-sample t-test and construct a 95% confidence interval.  \n",
        "Divide the data into two datasets: percent of age 65 or older >= mean percent and percent of age 65 or older < mean percent."
      ]
    },
    {
      "cell_type": "code",
      "metadata": {
        "id": "BDasCzWJo07q"
      },
      "source": [
        "mcPopCrime_PopUp = mcPopCrime[mcPopCrime['PCTPOP65_'] >= mean_percent_65up]\n",
        "mcPopCrime_PopDown = mcPopCrime[mcPopCrime['PCTPOP65_'] < mean_percent_65up]"
      ],
      "execution_count": 27,
      "outputs": []
    },
    {
      "cell_type": "markdown",
      "metadata": {
        "id": "gSSgqJJTnEMM"
      },
      "source": [
        "Sample each dataset."
      ]
    },
    {
      "cell_type": "code",
      "metadata": {
        "id": "c4nj2J87sQOI"
      },
      "source": [
        "mcPopCrime_PopUp_sample = mcPopCrime_PopUp.sample(n=1000, random_state=12)\n",
        "mcPopCrime_PopDown_sample = mcPopCrime_PopDown.sample(n=1000, random_state=12)"
      ],
      "execution_count": 28,
      "outputs": []
    },
    {
      "cell_type": "markdown",
      "metadata": {
        "id": "KixIoGlSndF7"
      },
      "source": [
        "Group each dataset by Zip Codes."
      ]
    },
    {
      "cell_type": "code",
      "metadata": {
        "id": "FMYo-OwYTf-6"
      },
      "source": [
        "summaries = {'Victims_per_100Residents': 'sum'}\n",
        "mcPopCrime_PopUp_sample_byZip = mcPopCrime_PopUp_sample.groupby('Zip Code').agg(summaries).reset_index()\n",
        "mcPopCrime_PopDown_sample_byZip = mcPopCrime_PopDown_sample.groupby('Zip Code').agg(summaries).reset_index()"
      ],
      "execution_count": 29,
      "outputs": []
    },
    {
      "cell_type": "code",
      "metadata": {
        "colab": {
          "base_uri": "https://localhost:8080/"
        },
        "id": "5NvB3ORedXrm",
        "outputId": "0c4098a7-c585-4aea-fd3a-cced1b4205d5"
      },
      "source": [
        "mcPopCrime_PopUp_sample_byZip.shape, mcPopCrime_PopDown_sample_byZip.shape"
      ],
      "execution_count": 30,
      "outputs": [
        {
          "output_type": "execute_result",
          "data": {
            "text/plain": [
              "((19, 2), (20, 2))"
            ]
          },
          "metadata": {
            "tags": []
          },
          "execution_count": 30
        }
      ]
    },
    {
      "cell_type": "markdown",
      "metadata": {
        "id": "-U5kFjJeotXc"
      },
      "source": [
        "Check the distributions and variances."
      ]
    },
    {
      "cell_type": "code",
      "metadata": {
        "colab": {
          "base_uri": "https://localhost:8080/",
          "height": 0
        },
        "id": "I1bqwg3sX6XN",
        "outputId": "70e4b66f-f41c-48e4-c45c-272a72c84f17"
      },
      "source": [
        "fig, ax = plt.subplots(1, 2, sharey=True)\n",
        "sns.boxplot(ax=ax[0], data=mcPopCrime_PopUp_sample_byZip, y='Victims_per_100Residents')\n",
        "sns.boxplot(ax=ax[1], data=mcPopCrime_PopDown_sample_byZip, y='Victims_per_100Residents')\n",
        "plt.show()"
      ],
      "execution_count": 31,
      "outputs": [
        {
          "output_type": "display_data",
          "data": {
            "image/png": "[encoded data removed]",
            "text/plain": [
              "<Figure size 864x432 with 2 Axes>"
            ]
          },
          "metadata": {
            "tags": [],
            "needs_background": "light"
          }
        }
      ]
    },
    {
      "cell_type": "markdown",
      "metadata": {
        "id": "mbVvdfFjoVGk"
      },
      "source": [
        "The sample sizes of the two datasets are less than 30. But their distributions are approximately normal and have roughly equal variances. So, use t-distributions for tests and confidence intervals."
      ]
    },
    {
      "cell_type": "markdown",
      "metadata": {
        "id": "yQsvqdV7pG2a"
      },
      "source": [
        "Conduct a 2-sample t-test for the difference of means."
      ]
    },
    {
      "cell_type": "code",
      "metadata": {
        "colab": {
          "base_uri": "https://localhost:8080/"
        },
        "id": "YLttZYmwse70",
        "outputId": "cf171bb1-46c7-401b-986c-fcb155bc9f2e"
      },
      "source": [
        "stats.ttest_ind(mcPopCrime_PopUp_sample_byZip['Victims_per_100Residents'],\n",
        "                mcPopCrime_PopDown_sample_byZip['Victims_per_100Residents'], alternative='two-sided')"
      ],
      "execution_count": 32,
      "outputs": [
        {
          "output_type": "execute_result",
          "data": {
            "text/plain": [
              "Ttest_indResult(statistic=1.2992293408166677, pvalue=0.2019030751026267)"
            ]
          },
          "metadata": {
            "tags": []
          },
          "execution_count": 32
        }
      ]
    },
    {
      "cell_type": "markdown",
      "metadata": {
        "id": "pNJcaYr2rfLb"
      },
      "source": [
        "Since p-value is greater than 0.05, do not reject the null hypothesis. So, there is not enough evidence that the victims per 100 residents over zip codes between the two groups divided by the mean percent of age 65 or older differ from each other."
      ]
    },
    {
      "cell_type": "markdown",
      "metadata": {
        "id": "we_003omrm8c"
      },
      "source": [
        "Construct a 95% confidence interval for the mean difference of the numbers of victims per 100 residents."
      ]
    },
    {
      "cell_type": "code",
      "metadata": {
        "colab": {
          "base_uri": "https://localhost:8080/"
        },
        "id": "dErO9AXbg4HW",
        "outputId": "a00e5fad-b479-4d2c-aab5-5b250e35c4f2"
      },
      "source": [
        "N1 = len(mcPopCrime_PopUp_sample_byZip)\n",
        "N2 = len(mcPopCrime_PopDown_sample_byZip)\n",
        "df = np.min([N1-1, N2-1])\n",
        "mean1 = mcPopCrime_PopUp_sample_byZip['Victims_per_100Residents'].mean()\n",
        "mean2 = mcPopCrime_PopDown_sample_byZip['Victims_per_100Residents'].mean()\n",
        "std1 = mcPopCrime_PopUp_sample_byZip['Victims_per_100Residents'].std()\n",
        "std2 = mcPopCrime_PopDown_sample_byZip['Victims_per_100Residents'].std()\n",
        "\n",
        "sample_stat = mean1 - mean2\n",
        "SE = sqrt((std1)**2 / N1 + (std2)**2 / N2)\n",
        "ME = stats.t.ppf(0.975, df) * SE\n",
        "\n",
        "print ('95% CI: ({:2.5f}, {:2.5f})'.format(sample_stat - ME, sample_stat + ME))"
      ],
      "execution_count": 33,
      "outputs": [
        {
          "output_type": "stream",
          "text": [
            "95% CI: (-0.02207, 0.09278)\n"
          ],
          "name": "stdout"
        }
      ]
    },
    {
      "cell_type": "markdown",
      "metadata": {
        "id": "ZZ9Hxrq5tMtZ"
      },
      "source": [
        "The confidence interval contains negative or positive numbers. Thus, we can conclude the same as the t-test."
      ]
    },
    {
      "cell_type": "markdown",
      "metadata": {
        "id": "r9ziGrJktZtg"
      },
      "source": [
        "## **Chi-square Test**  \n",
        "Is there evidence that the population of age 65 or older is associated with the amount of the county property tax?"
      ]
    },
    {
      "cell_type": "markdown",
      "metadata": {
        "id": "ezIHzr3K_bUZ"
      },
      "source": [
        "Merge two datasets mcPop and mcTax."
      ]
    },
    {
      "cell_type": "code",
      "metadata": {
        "id": "daF47I1Tt1wn"
      },
      "source": [
        "mcPopTax = mcPop.merge(mcTax, on='Zip Code')"
      ],
      "execution_count": 40,
      "outputs": []
    },
    {
      "cell_type": "markdown",
      "metadata": {
        "id": "VljmkqEOAygG"
      },
      "source": [
        "Create a categorical column for the county property tax by Up/Down from the average tax."
      ]
    },
    {
      "cell_type": "code",
      "metadata": {
        "id": "ZOjOIwHp14Zq"
      },
      "source": [
        "Avg_Tax = mcPopTax['COUNTY PROPERTY TAX'].mean()\n",
        "mcPopTax['Avgerage Tax UpDown'] = pd.cut(mcPopTax['COUNTY PROPERTY TAX'], bins=[-1, Avg_Tax -0.01, np.inf],\n",
        "                                         labels=['Down', 'Up'])"
      ],
      "execution_count": 41,
      "outputs": []
    },
    {
      "cell_type": "markdown",
      "metadata": {
        "id": "AGWwdFjGAtiG"
      },
      "source": [
        "Create a categorical column for the percent of age 65 or older by Up/Down from the average percent."
      ]
    },
    {
      "cell_type": "code",
      "metadata": {
        "id": "YGuzwjVv3UMt"
      },
      "source": [
        "mcPopTax['Mean PCT_65up AboveBelow'] = pd.cut(mcPopTax['PCTPOP65_'], bins=[-1, mean_percent_65up -0.01, np.inf],\n",
        "                                          labels=['Below', 'Above'])"
      ],
      "execution_count": 42,
      "outputs": []
    },
    {
      "cell_type": "markdown",
      "metadata": {
        "id": "rCrRjT4VD2N7"
      },
      "source": [
        "Create a contingency table for the two columns."
      ]
    },
    {
      "cell_type": "code",
      "metadata": {
        "colab": {
          "base_uri": "https://localhost:8080/",
          "height": 173
        },
        "id": "D4HjNXGo5-_u",
        "outputId": "02793728-8dfe-4027-a302-d4d567e245ea"
      },
      "source": [
        "table_tax_65 = pd.crosstab(mcPopTax['Mean PCT_65up AboveBelow'], mcPopTax['Avgerage Tax UpDown'], margins=True)\n",
        "table_tax_65"
      ],
      "execution_count": 43,
      "outputs": [
        {
          "output_type": "execute_result",
          "data": {
            "text/html": [
              "<div>\n",
              "<style scoped>\n",
              "    .dataframe tbody tr th:only-of-type {\n",
              "        vertical-align: middle;\n",
              "    }\n",
              "\n",
              "    .dataframe tbody tr th {\n",
              "        vertical-align: top;\n",
              "    }\n",
              "\n",
              "    .dataframe thead th {\n",
              "        text-align: right;\n",
              "    }\n",
              "</style>\n",
              "<table border=\"1\" class=\"dataframe\">\n",
              "  <thead>\n",
              "    <tr style=\"text-align: right;\">\n",
              "      <th>Avgerage Tax UpDown</th>\n",
              "      <th>Down</th>\n",
              "      <th>Up</th>\n",
              "      <th>All</th>\n",
              "    </tr>\n",
              "    <tr>\n",
              "      <th>Mean PCT_65up AboveBelow</th>\n",
              "      <th></th>\n",
              "      <th></th>\n",
              "      <th></th>\n",
              "    </tr>\n",
              "  </thead>\n",
              "  <tbody>\n",
              "    <tr>\n",
              "      <th>Below</th>\n",
              "      <td>137294</td>\n",
              "      <td>19140</td>\n",
              "      <td>156434</td>\n",
              "    </tr>\n",
              "    <tr>\n",
              "      <th>Above</th>\n",
              "      <td>94864</td>\n",
              "      <td>62692</td>\n",
              "      <td>157556</td>\n",
              "    </tr>\n",
              "    <tr>\n",
              "      <th>All</th>\n",
              "      <td>232158</td>\n",
              "      <td>81832</td>\n",
              "      <td>313990</td>\n",
              "    </tr>\n",
              "  </tbody>\n",
              "</table>\n",
              "</div>"
            ],
            "text/plain": [
              "Avgerage Tax UpDown         Down     Up     All\n",
              "Mean PCT_65up AboveBelow                       \n",
              "Below                     137294  19140  156434\n",
              "Above                      94864  62692  157556\n",
              "All                       232158  81832  313990"
            ]
          },
          "metadata": {
            "tags": []
          },
          "execution_count": 43
        }
      ]
    },
    {
      "cell_type": "markdown",
      "metadata": {
        "id": "mkYskNr_cuhz"
      },
      "source": [
        "Visualize the contingency table."
      ]
    },
    {
      "cell_type": "code",
      "metadata": {
        "colab": {
          "base_uri": "https://localhost:8080/",
          "height": 404
        },
        "id": "fyqSAdBxCuOo",
        "outputId": "267e1af3-ecba-4bf4-c9c0-1dd36f015542"
      },
      "source": [
        "fig, ax = plt.subplots(figsize=[10,6])\n",
        "mosaic(mcPopTax, ['Mean PCT_65up AboveBelow', 'Avgerage Tax UpDown'], \n",
        "       title='Mean Percent of Age 65+ vs Avgerage Tax', ax=ax)\n",
        "ax.set_xlabel('Mean Percent of Age 65+')\n",
        "ax.set_ylabel('Avgerage Tax')\n",
        "plt.show()"
      ],
      "execution_count": 44,
      "outputs": [
        {
          "output_type": "display_data",
          "data": {
            "image/png": "[encoded data removed]",
            "text/plain": [
              "<Figure size 720x432 with 3 Axes>"
            ]
          },
          "metadata": {
            "tags": [],
            "needs_background": "light"
          }
        }
      ]
    },
    {
      "cell_type": "markdown",
      "metadata": {
        "id": "P3def58tEGML"
      },
      "source": [
        "Conduct a chi-square test."
      ]
    },
    {
      "cell_type": "code",
      "metadata": {
        "colab": {
          "base_uri": "https://localhost:8080/"
        },
        "id": "sjcnMkDg6Lj0",
        "outputId": "55898003-5cf7-4f21-a792-eccbef9f64fb"
      },
      "source": [
        "stats.chi2_contingency(table_tax_65)"
      ],
      "execution_count": 45,
      "outputs": [
        {
          "output_type": "execute_result",
          "data": {
            "text/plain": [
              "(30929.951078373335,\n",
              " 0.0,\n",
              " 4,\n",
              " array([[115664.20768814,  40769.79231186, 156434.        ],\n",
              "        [116493.79231186,  41062.20768814, 157556.        ],\n",
              "        [232158.        ,  81832.        , 313990.        ]]))"
            ]
          },
          "metadata": {
            "tags": []
          },
          "execution_count": 45
        }
      ]
    },
    {
      "cell_type": "markdown",
      "metadata": {
        "id": "TGwaAEUkFBkr"
      },
      "source": [
        "Every expected cell count is big, so the chi-square distribution is appropriate. Since p-value is 0, reject the null hypothesis. Thus, there is very strong evidence that the population of age 65 or older is associated with the amount of the county property tax."
      ]
    },
    {
      "cell_type": "code",
      "metadata": {
        "id": "e9Sn76EC7Qq2"
      },
      "source": [
        ""
      ],
      "execution_count": 45,
      "outputs": []
    }
  ]
}